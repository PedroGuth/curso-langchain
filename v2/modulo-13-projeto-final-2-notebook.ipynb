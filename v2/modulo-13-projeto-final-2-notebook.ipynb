{
  "nbformat": 4,
  "nbformat_minor": 0,
  "metadata": {
    "colab": {
      "provenance": []
    },
    "kernelspec": {
      "name": "python3",
      "display_name": "Python 3"
    },
    "language_info": {
      "name": "python"
    }
  },
  "cells": [
    {
      "cell_type": "markdown",
      "metadata": {},
      "source": [
        "# 🚀 Projeto Final 2: Sistema Inteligente de Análise de Documentos com Multi-Agentes\n\n**Módulo 13 - LangChain v0.3**\n\n*Pedro Guth - Expert em IA & AWS*\n\n---\n\nTá, chegamos no segundo projeto final! Se no primeiro projeto criamos um assistente simples, agora vamos partir pro **nível hardcore**: um sistema multi-agente que analisa documentos, extrai insights e ainda gera relatórios automaticamente!\n\nÉ tipo ter uma equipe de consultores trabalhando pros seus documentos 24/7! 📊"
      ]
    },
    {
      "cell_type": "markdown",
      "metadata": {},
      "source": [
        "## 🎯 O que vamos construir?\n\nImagina que você tem uma pilha de documentos (PDFs, textos, relatórios) e precisa:\n\n1. **Extrair informações-chave** automaticamente\n2. **Analisar sentimentos** e tendências \n3. **Gerar resumos executivos**\n4. **Criar visualizações** dos dados encontrados\n5. **Responder perguntas** sobre qualquer documento\n\nÉ como ter um **ChatGPT turbinado** que não só conversa, mas também vira analista de dados!\n\n**Dica!** Este projeto combina TUDO que vimos: RAG, Agents, Memory, Chains e muito mais!"
      ]
    },
    {
      "cell_type": "markdown",
      "metadata": {},
      "source": [
        "## 🏗️ Arquitetura do Sistema\n\nNosso sistema terá **4 agentes especialistas**:\n\n```mermaid\ngraph TD\n    A[Documento] --> B[Agente Extrator]\n    B --> C[Agente Analisador]\n    B --> D[Agente Visualizador]\n    B --> E[Agente Perguntador]\n    C --> F[Relatório Final]\n    D --> F\n    E --> F\n```\n\nCada agente tem uma **especialidade**, tipo uma empresa de consultoria onde cada um faz sua parte!"
      ]
    },
    {
      "cell_type": "code",
      "metadata": {},
      "execution_count": null,
      "outputs": [],
      "source": [
        "# Primeiro, vamos instalar e importar tudo que precisamos\n!pip install langchain langchain-google-genai chromadb pypdf python-docx matplotlib seaborn wordcloud textstat plotly -q\n\nprint(\"🎉 Instalação concluída! Bora pro código!\")"
      ]
    },
    {
      "cell_type": "code",
      "metadata": {},
      "execution_count": null,
      "outputs": [],
      "source": [
        "# Imports essenciais\nimport os\nimport re\nimport pandas as pd\nimport numpy as np\nimport matplotlib.pyplot as plt\nimport seaborn as sns\nfrom wordcloud import WordCloud\nimport plotly.express as px\nimport plotly.graph_objects as go\nfrom datetime import datetime\nimport json\n\n# LangChain imports\nfrom langchain_google_genai import ChatGoogleGenerativeAI\nfrom langchain.prompts import ChatPromptTemplate, PromptTemplate\nfrom langchain.schema import BaseOutputParser\nfrom langchain.text_splitter import RecursiveCharacterTextSplitter\nfrom langchain.document_loaders import PyPDFLoader, TextLoader\nfrom langchain.vectorstores import Chroma\nfrom langchain_google_genai import GoogleGenerativeAIEmbeddings\nfrom langchain.chains import RetrievalQA\nfrom langchain.agents import initialize_agent, Tool, AgentType\nfrom langchain.memory import ConversationBufferMemory\n\nprint(\"📚 Todas as bibliotecas importadas com sucesso!\")"
      ]
    },
    {
      "cell_type": "markdown",
      "metadata": {},
      "source": [
        "## 🔑 Configuração Inicial\n\nAntes de começar, precisamos configurar nossa chave da API do Google. É como dar a chave do carro pro nosso sistema dirigir sozinho!"
      ]
    },
    {
      "cell_type": "code",
      "metadata": {},
      "execution_count": null,
      "outputs": [],
      "source": [
        "# Configuração da API Key\nfrom google.colab import userdata\n\n# Se estiver no Colab, use a linha abaixo:\napi_key = userdata.get('GOOGLE_API_KEY')\n\n# Se estiver rodando local, descomente e coloque sua chave:\n# api_key = \"sua_chave_aqui\"\n\nos.environ[\"GOOGLE_API_KEY\"] = api_key\n\n# Inicializando nosso modelo principal\nllm = ChatGoogleGenerativeAI(\n    model=\"gemini-2.0-flash-exp\",\n    temperature=0.3,  # Meio termo entre criatividade e precisão\n    google_api_key=api_key\n)\n\nprint(\"🤖 LLM configurado! Gemini 2.0 Flash pronto pra trabalhar!\")"
      ]
    },
    {
      "cell_type": "markdown",
      "metadata": {},
      "source": [
        "## 📄 Carregamento e Processamento de Documentos\n\nVamos criar um sistema que consegue ler diferentes tipos de documento. É tipo ensinar nosso sistema a ler português, inglês, PDF, Word... tudo!"
      ]
    },
    {
      "cell_type": "code",
      "metadata": {},
      "execution_count": null,
      "outputs": [],
      "source": [
        "class DocumentProcessor:\n    def __init__(self):\n        self.text_splitter = RecursiveCharacterTextSplitter(\n            chunk_size=1000,\n            chunk_overlap=200,\n            separators=[\"\\n\\n\", \"\\n\", \".\", \"!\", \"?\", \",\", \" \", \"\"]\n        )\n        self.documents = []\n        self.chunks = []\n    \n    def load_text_file(self, file_path):\n        \"\"\"Carrega arquivo de texto simples\"\"\"\n        try:\n            with open(file_path, 'r', encoding='utf-8') as file:\n                content = file.read()\n            return content\n        except:\n            print(f\"❌ Erro ao carregar {file_path}\")\n            return None\n    \n    def process_text(self, text, source=\"texto\"):\n        \"\"\"Processa texto em chunks menores\"\"\"\n        if text:\n            # Cria chunks do texto\n            chunks = self.text_splitter.split_text(text)\n            \n            # Adiciona metadados a cada chunk\n            processed_chunks = []\n            for i, chunk in enumerate(chunks):\n                processed_chunks.append({\n                    'content': chunk,\n                    'source': source,\n                    'chunk_id': i,\n                    'word_count': len(chunk.split())\n                })\n            \n            self.chunks.extend(processed_chunks)\n            return processed_chunks\n        return []\n\n# Vamos criar um exemplo de documento para testar\nsample_text = \"\"\"\nRelatório de Vendas - Q4 2024\n\nEste relatório apresenta uma análise detalhada do desempenho de vendas do quarto trimestre de 2024.\n\nResumo Executivo:\nAs vendas do Q4 2024 apresentaram um crescimento significativo de 25% em relação ao mesmo período do ano anterior. \nO setor de tecnologia liderou o crescimento, representando 40% do faturamento total.\n\nPrincipais Métricas:\n- Receita total: R$ 2.5 milhões\n- Crescimento: +25% YoY\n- Novos clientes: 150\n- Taxa de retenção: 85%\n\nDesafios Identificados:\n1. Concorrência acirrada no mercado de software\n2. Necessidade de melhorar o atendimento ao cliente\n3. Expansão para novos mercados geográficos\n\nOportunidades:\n1. Lançamento de novos produtos em 2025\n2. Parcerias estratégicas com empresas de tecnologia\n3. Investimento em marketing digital\n\nConclusão:\nO Q4 2024 foi um período de forte crescimento, mas é necessário focar na retenção de clientes e expansão de mercado para 2025.\n\"\"\"\n\n# Processando nosso documento de exemplo\nprocessor = DocumentProcessor()\nchunks = processor.process_text(sample_text, \"relatorio_vendas_q4\")\n\nprint(f\"📊 Documento processado com sucesso!\")\nprint(f\"📝 Total de chunks: {len(chunks)}\")\nprint(f\"📄 Primeiro chunk: {chunks[0]['content'][:100]}...\")"
      ]
    },
    {
      "cell_type": "markdown",
      "metadata": {},
      "source": [
        "## 🧠 Sistema de Embeddings e Vector Store\n\nAgora vamos transformar nossos textos em **vetores matemáticos**. É como dar uma \"impressão digital\" pra cada pedaço de texto, permitindo que o sistema encontre informações relacionadas rapidinho!\n\n**Dica!** Lembra do Módulo 9? Estamos usando exatamente os conceitos de Vector Store que aprendemos lá!"
      ]
    },
    {
      "cell_type": "code",
      "metadata": {},
      "execution_count": null,
      "outputs": [],
      "source": [
        "# Configurando embeddings e vector store\nembeddings = GoogleGenerativeAIEmbeddings(\n    model=\"models/embedding-001\",\n    google_api_key=api_key\n)\n\n# Preparando textos e metadados para o Chroma\ntexts = [chunk['content'] for chunk in chunks]\nmetadatas = [{'source': chunk['source'], 'chunk_id': chunk['chunk_id']} for chunk in chunks]\n\n# Criando o vector store\nvectorstore = Chroma.from_texts(\n    texts=texts,\n    embedding=embeddings,\n    metadatas=metadatas,\n    collection_name=\"documentos_projeto\"\n)\n\nprint(\"🔍 Vector Store criado com sucesso!\")\nprint(f\"📊 {len(texts)} documentos indexados\")\n\n# Testando uma busca\nquery = \"receita e crescimento\"\nresultados = vectorstore.similarity_search(query, k=2)\n\nprint(f\"\\n🔎 Teste de busca para '{query}':\")\nfor i, doc in enumerate(resultados):\n    print(f\"Resultado {i+1}: {doc.page_content[:100]}...\")"
      ]
    },
    {
      "cell_type": "markdown",
      "metadata": {},
      "source": [
        "## 🤖 Agente 1: Extrator de Informações\n\nNosso primeiro agente é especialista em **garimpar** informações importantes dos documentos. É tipo aquele amigo que sempre acha o que você precisa em qualquer bagunça!\n\nEle vai procurar:\n- **Métricas numéricas** (vendas, percentuais, etc.)\n- **Datas importantes**\n- **Nomes de pessoas/empresas**\n- **Palavras-chave relevantes**"
      ]
    },
    {
      "cell_type": "code",
      "metadata": {},
      "execution_count": null,
      "outputs": [],
      "source": [
        "# Template para extração de informações\nextraction_template = ChatPromptTemplate.from_messages([\n    (\"system\", \"\"\"\n    Você é um especialista em extração de informações de documentos.\n    Sua missão é encontrar e organizar as informações mais importantes.\n    \n    Extraia as seguintes informações do texto:\n    1. MÉTRICAS NUMÉRICAS (valores, percentuais, quantidades)\n    2. DATAS E PERÍODOS importantes\n    3. NOMES (pessoas, empresas, produtos)\n    4. PALAVRAS-CHAVE relevantes\n    5. TÓPICOS PRINCIPAIS\n    \n    Organize tudo em formato JSON claro e estruturado.\n    \"\"\"),\n    (\"human\", \"Texto para análise: {texto}\")\n])\n\n# Criando nosso agente extrator\ndef extrair_informacoes(texto):\n    \"\"\"\n    Extrai informações estruturadas do texto\n    \"\"\"\n    chain = extraction_template | llm\n    \n    try:\n        resposta = chain.invoke({\"texto\": texto})\n        return resposta.content\n    except Exception as e:\n        return f\"Erro na extração: {e}\"\n\n# Testando com nosso documento\ntexto_completo = \" \".join([chunk['content'] for chunk in chunks])\ninfo_extraida = extrair_informacoes(texto_completo)\n\nprint(\"📊 INFORMAÇÕES EXTRAÍDAS:\")\nprint(\"=\" * 50)\nprint(info_extraida)"
      ]
    },
    {
      "cell_type": "markdown",
      "metadata": {},
      "source": [
        "## 📈 Agente 2: Analisador de Sentimentos e Tendências\n\nEste agente é nosso **psicólogo de textos**! Ele analisa:\n- **Sentimento geral** (positivo, negativo, neutro)\n- **Nível de confiança** das informações\n- **Tendências** mencionadas\n- **Pontos de atenção** e oportunidades\n\n**Dica!** É como ter um consultor que não só lê os números, mas entende as entrelinhas!"
      ]
    },
    {
      "cell_type": "code",
      "metadata": {},
      "execution_count": null,
      "outputs": [],
      "source": [
        "# Template para análise de sentimentos\nsentiment_template = ChatPromptTemplate.from_messages([\n    (\"system\", \"\"\"\n    Você é um analista expert em sentiment analysis e análise de tendências.\n    \n    Analise o texto e forneça:\n    \n    1. SENTIMENT SCORE: (0-100, onde 0=muito negativo, 50=neutro, 100=muito positivo)\n    2. CONFIANÇA: Nível de certeza das informações (0-100)\n    3. TENDÊNCIAS IDENTIFICADAS: Crescimento, declínio, estabilidade\n    4. PALAVRAS-CHAVE EMOCIONAIS: Termos que indicam sentiment\n    5. INSIGHTS: 3 principais insights sobre o contexto\n    6. ALERTAS: Possíveis pontos de atenção\n    \n    Seja objetivo e use dados do texto para justificar sua análise.\n    \"\"\"),\n    (\"human\", \"Texto para análise: {texto}\")\n])\n\ndef analisar_sentimento(texto):\n    \"\"\"\n    Analisa sentimento e tendências do texto\n    \"\"\"\n    chain = sentiment_template | llm\n    \n    try:\n        resposta = chain.invoke({\"texto\": texto})\n        return resposta.content\n    except Exception as e:\n        return f\"Erro na análise: {e}\"\n\n# Analisando nosso documento\nanalise_sentimento = analisar_sentimento(texto_completo)\n\nprint(\"🎭 ANÁLISE DE SENTIMENTO:\")\nprint(\"=\" * 50)\nprint(analise_sentimento)"
      ]
    },
    {
      "cell_type": "markdown",
      "metadata": {},
      "source": [
        "## 📊 Agente 3: Gerador de Visualizações\n\nEste é nosso **designer de dados**! Ele pega as informações extraídas e cria gráficos lindos e informativos.\n\nVamos extrair dados numéricos e criar visualizações automáticas!"
      ]
    },
    {
      "cell_type": "code",
      "metadata": {},
      "execution_count": null,
      "outputs": [],
      "source": [
        "# Vamos extrair dados numéricos do nosso texto para visualizar\nimport re\n\ndef extrair_dados_numericos(texto):\n    \"\"\"\n    Extrai números, percentuais e valores do texto\n    \"\"\"\n    # Padrões para encontrar dados numéricos\n    valores_reais = re.findall(r'R\\$\\s*([\\d,\\.]+(?:\\s*(?:milhões?|mil))?)', texto)\n    percentuais = re.findall(r'(\\d+)%', texto)\n    numeros = re.findall(r'\\b(\\d{1,3}(?:[,\\.]\\d{3})*(?:[,\\.]\\d+)?)\\b', texto)\n    \n    return {\n        'valores_reais': valores_reais,\n        'percentuais': [int(p) for p in percentuais],\n        'numeros': numeros\n    }\n\n# Extraindo dados do nosso documento\ndados_numericos = extrair_dados_numericos(texto_completo)\nprint(\"💰 Dados Numéricos Encontrados:\")\nprint(f\"Valores em Reais: {dados_numericos['valores_reais']}\")\nprint(f\"Percentuais: {dados_numericos['percentuais']}\")\nprint(f\"Outros números: {dados_numericos['numeros'][:10]}...\")  # Primeiros 10\n\n# Criando visualizações\nplt.style.use('seaborn-v0_8')\nfig, ((ax1, ax2), (ax3, ax4)) = plt.subplots(2, 2, figsize=(15, 12))\nfig.suptitle('📊 Dashboard Automático do Documento', fontsize=16, fontweight='bold')\n\n# Gráfico 1: Percentuais encontrados\nif dados_numericos['percentuais']:\n    labels = ['Crescimento', 'Retenção', 'Market Share']\n    valores = dados_numericos['percentuais'][:3]  # Primeiros 3 percentuais\n    \n    # Garantir que temos dados suficientes\n    while len(valores) < 3:\n        valores.append(0)\n    \n    ax1.bar(labels[:len(valores)], valores, color=['#FF6B6B', '#4ECDC4', '#45B7D1'])\n    ax1.set_title('📈 Principais Métricas (%)')\n    ax1.set_ylabel('Percentual')\n    \n    # Adicionando valores no topo das barras\n    for i, v in enumerate(valores):\n        ax1.text(i, v + 1, f'{v}%', ha='center', va='bottom', fontweight='bold')\n\n# Gráfico 2: Distribuição de Sentimentos (simulado)\nsentimentos = ['Positivo', 'Neutro', 'Negativo']\nscores = [70, 20, 10]  # Baseado na análise do texto\ncolors = ['#2ECC71', '#F39C12', '#E74C3C']\n\nax2.pie(scores, labels=sentimentos, colors=colors, autopct='%1.1f%%', startangle=90)\nax2.set_title('🎭 Análise de Sentimento')\n\n# Gráfico 3: Timeline de métricas (exemplo)\nmeses = ['Q1', 'Q2', 'Q3', 'Q4']\ncrescimento = [10, 15, 20, 25]  # Dados do documento\n\nax3.plot(meses, crescimento, marker='o', linewidth=3, markersize=8, color='#9B59B6')\nax3.fill_between(meses, crescimento, alpha=0.3, color='#9B59B6')\nax3.set_title('📈 Tendência de Crescimento')\nax3.set_ylabel('Crescimento (%)')\nax3.grid(True, alpha=0.3)\n\n# Gráfico 4: Word Cloud das palavras mais importantes\nwordcloud = WordCloud(\n    width=400, height=300,\n    background_color='white',\n    colormap='viridis',\n    max_words=50\n).generate(texto_completo)\n\nax4.imshow(wordcloud, interpolation='bilinear')\nax4.axis('off')\nax4.set_title('☁️ Palavras-chave Principais')\n\nplt.tight_layout()\nplt.show()\n\nprint(\"🎨 Visualizações geradas automaticamente!\")"
      ]
    },
    {
      "cell_type": "markdown",
      "metadata": {},
      "source": [
        "## 🤔 Agente 4: Sistema de Perguntas e Respostas\n\nEste é nosso **gênio da lâmpada**! Você faz uma pergunta sobre qualquer coisa do documento e ele responde na lata!\n\nUsando RAG (Retrieval Augmented Generation) que aprendemos no Módulo 10!"
      ]
    },
    {
      "cell_type": "code",
      "metadata": {},
      "execution_count": null,
      "outputs": [],
      "source": [
        "# Criando sistema de Q&A com RAG\nqa_template = ChatPromptTemplate.from_messages([\n    (\"system\", \"\"\"\n    Você é um assistente especialista em análise de documentos.\n    Use APENAS as informações dos documentos fornecidos para responder.\n    \n    Se a informação não estiver nos documentos, diga claramente:\n    \"Esta informação não está disponível nos documentos analisados.\"\n    \n    Seja preciso, cite números quando relevante e forneça contexto.\n    \"\"\"),\n    (\"human\", \"\"\"\n    Contexto dos documentos:\n    {contexto}\n    \n    Pergunta: {pergunta}\n    \n    Resposta baseada apenas no contexto:\n    \"\"\")\n])\n\ndef fazer_pergunta(pergunta, k=3):\n    \"\"\"\n    Faz uma pergunta sobre os documentos usando RAG\n    \"\"\"\n    # Busca documentos relevantes\n    docs_relevantes = vectorstore.similarity_search(pergunta, k=k)\n    \n    # Junta o contexto\n    contexto = \"\\n\\n\".join([doc.page_content for doc in docs_relevantes])\n    \n    # Cria a chain\n    chain = qa_template | llm\n    \n    try:\n        resposta = chain.invoke({\n            \"contexto\": contexto,\n            \"pergunta\": pergunta\n        })\n        return resposta.content, docs_relevantes\n    except Exception as e:\n        return f\"Erro: {e}\", []\n\n# Testando com algumas perguntas\nperguntas_teste = [\n    \"Qual foi o crescimento de vendas no Q4?\",\n    \"Quantos novos clientes foram adquiridos?\",\n    \"Quais são os principais desafios identificados?\",\n    \"Qual é a receita total mencionada?\"\n]\n\nprint(\"🤖 SISTEMA DE PERGUNTAS E RESPOSTAS\")\nprint(\"=\" * 60)\n\nfor pergunta in perguntas_teste:\n    print(f\"\\n❓ {pergunta}\")\n    resposta, docs = fazer_pergunta(pergunta)\n    print(f\"💡 {resposta}\")\n    print(\"-\" * 40)"
      ]
    },
    {
      "cell_type": "markdown",
      "metadata": {},
      "source": [
        "## 🎯 Sistema Multi-Agente Integrado\n\nAgora vamos juntar **todos os agentes** num sistema único! É como orquestrar uma banda onde cada músico toca sua parte, mas o resultado final é uma sinfonia!\n\n**Dica!** Aqui usamos os conceitos de Agents e Tools do Módulo 11!"
      ]
    },
    {
      "cell_type": "code",
      "metadata": {},
      "execution_count": null,
      "outputs": [],
      "source": [
        "class SistemaMultiAgente:\n    def __init__(self, vectorstore, llm):\n        self.vectorstore = vectorstore\n        self.llm = llm\n        self.memory = ConversationBufferMemory(\n            memory_key=\"chat_history\",\n            return_messages=True\n        )\n        self.relatorio_final = {}\n    \n    def processar_documento_completo(self, texto):\n        \"\"\"\n        Executa análise completa com todos os agentes\n        \"\"\"\n        print(\"🚀 Iniciando análise multi-agente...\")\n        \n        # Agente 1: Extração\n        print(\"\\n🔍 Agente 1: Extraindo informações...\")\n        info_extraida = extrair_informacoes(texto)\n        \n        # Agente 2: Análise de Sentimento\n        print(\"🎭 Agente 2: Analisando sentimentos...\")\n        analise = analisar_sentimento(texto)\n        \n        # Agente 3: Visualizações (já criamos acima)\n        print(\"📊 Agente 3: Gerando visualizações...\")\n        dados_viz = extrair_dados_numericos(texto)\n        \n        # Compilando relatório final\n        self.relatorio_final = {\n            'timestamp': datetime.now().strftime('%Y-%m-%d %H:%M:%S'),\n            'informacoes_extraidas': info_extraida,\n            'analise_sentimento': analise,\n            'dados_numericos': dados_viz,\n            'sistema_qa': 'Ativo e funcionando'\n        }\n        \n        return self.relatorio_final\n    \n    def gerar_resumo_executivo(self):\n        \"\"\"\n        Gera um resumo executivo baseado em todas as análises\n        \"\"\"\n        resumo_template = ChatPromptTemplate.from_messages([\n            (\"system\", \"\"\"\n            Você é um consultor sênior criando um resumo executivo.\n            \n            Com base em todas as análises realizadas, crie um resumo executivo\n            profissional com:\n            \n            1. SÍNTESE DOS PRINCIPAIS ACHADOS\n            2. MÉTRICAS-CHAVE\n            3. INSIGHTS ESTRATÉGICOS\n            4. RECOMENDAÇÕES\n            5. PRÓXIMOS PASSOS\n            \n            Use linguagem executiva, seja conciso e foque no que importa para tomada de decisão.\n            \"\"\"),\n            (\"human\", \"Dados das análises: {dados_completos}\")\n        ])\n        \n        chain = resumo_template | self.llm\n        \n        try:\n            resposta = chain.invoke({\n                \"dados_completos\": str(self.relatorio_final)\n            })\n            return resposta.content\n        except Exception as e:\n            return f\"Erro ao gerar resumo: {e}\"\n\n# Inicializando nosso sistema multi-agente\nsistema = SistemaMultiAgente(vectorstore, llm)\n\n# Executando análise completa\nrelatorio = sistema.processar_documento_completo(texto_completo)\n\nprint(\"\\n✅ Análise multi-agente concluída!\")\nprint(f\"📄 Relatório gerado às: {relatorio['timestamp']}\")"
      ]
    },
    {
      "cell_type": "markdown",
      "metadata": {},
      "source": [
        "## 📋 Relatório Executivo Final\n\nAgora vamos gerar o **gran finale**: um relatório executivo completo que junta tudo que nossos agentes descobriram!"
      ]
    },
    {
      "cell_type": "code",
      "metadata": {},
      "execution_count": null,
      "outputs": [],
      "source": [
        "# Gerando o resumo executivo\nresumo_executivo = sistema.gerar_resumo_executivo()\n\nprint(\"📊 RELATÓRIO EXECUTIVO FINAL\")\nprint(\"=\" * 80)\nprint(resumo_executivo)\nprint(\"=\" * 80)\n\n# Salvando relatório completo em JSON\nrelatorio_completo = {\n    'documento_analisado': 'Relatório de Vendas Q4 2024',\n    'timestamp': datetime.now().isoformat(),\n    'resumo_executivo': resumo_executivo,\n    'detalhes': relatorio\n}\n\n# Salvando em arquivo\nwith open('relatorio_multiagente.json', 'w', encoding='utf-8') as f:\n    json.dump(relatorio_completo, f, ensure_ascii=False, indent=2)\n\nprint(\"\\n💾 Relatório salvo em 'relatorio_multiagente.json'\")\nprint(\"\\n🎉 Sistema multi-agente funcionando perfeitamente!\")"
      ]
    },
    {
      "cell_type": "markdown",
      "metadata": {},
      "source": [
        "## 🎮 Exercício Prático 1\n\n**Desafio**: Crie seu próprio documento de teste!\n\n1. Escreva um texto sobre qualquer assunto (empresa, projeto, análise)\n2. Inclua dados numéricos (percentuais, valores, datas)\n3. Execute todo o pipeline multi-agente\n4. Compare os resultados!\n\n**Dica!** Pode ser sobre sua empresa, um projeto fictício, ou até análise de um filme!"
      ]
    },
    {
      "cell_type": "code",
      "metadata": {},
      "execution_count": null,
      "outputs": [],
      "source": [
        "# SEU CÓDIGO AQUI!\n# Crie um novo documento e teste o sistema\n\nmeu_documento = \"\"\"\n# Substitua este texto pelo seu documento personalizado\n# Lembre-se de incluir:\n# - Dados numéricos\n# - Datas\n# - Informações que possam ser analisadas\n\"\"\"\n\n# Descomente as linhas abaixo quando tiver seu documento pronto:\n# novo_processor = DocumentProcessor()\n# novos_chunks = novo_processor.process_text(meu_documento, \"meu_teste\")\n# # Continue o processamento...\n\nprint(\"✏️ Escreva seu documento e execute a análise!\")"
      ]
    },
    {
      "cell_type": "markdown",
      "metadata": {},
      "source": [
        "## 🔧 Melhorias e Extensões\n\nNosso sistema já está **funcionando**, mas sempre dá pra melhorar! Aqui estão algumas ideias pra turbinar ainda mais:\n\n### 🚀 Próximos Níveis:\n\n1. **Análise de múltiplos documentos** simultaneamente\n2. **Comparação temporal** (documentos de períodos diferentes)\n3. **Alertas automáticos** quando métricas passam de limites\n4. **Integração com APIs** externas (bancos de dados, CRM)\n5. **Interface web** com Streamlit (que vamos ver no próximo módulo!)\n\n**Dica!** No Módulo 14 vamos transformar isso numa aplicação web linda!"
      ]
    },
    {
      "cell_type": "code",
      "metadata": {},
      "execution_count": null,
      "outputs": [],
      "source": [
        "# Função para comparar múltiplos documentos\ndef comparar_documentos(doc1, doc2, titulo1=\"Documento 1\", titulo2=\"Documento 2\"):\n    \"\"\"\n    Compara dois documentos lado a lado\n    \"\"\"\n    print(f\"🔄 Comparando {titulo1} vs {titulo2}\")\n    \n    # Análise do primeiro documento\n    info1 = extrair_informacoes(doc1)\n    sent1 = analisar_sentimento(doc1)\n    \n    # Análise do segundo documento\n    info2 = extrair_informacoes(doc2)\n    sent2 = analisar_sentimento(doc2)\n    \n    # Template para comparação\n    comparacao_template = ChatPromptTemplate.from_messages([\n        (\"system\", \"\"\"\n        Você é um analista comparativo especialista.\n        \n        Compare os dois documentos e identifique:\n        1. PRINCIPAIS DIFERENÇAS\n        2. TENDÊNCIAS OPOSTAS\n        3. PONTOS EM COMUM\n        4. INSIGHTS COMPARATIVOS\n        5. RECOMENDAÇÕES BASEADAS NA COMPARAÇÃO\n        \n        Seja específico e use dados concretos das análises.\n        \"\"\"),\n        (\"human\", \"\"\"\n        Análise Documento 1 ({titulo1}):\n        {analise1}\n        \n        Análise Documento 2 ({titulo2}):\n        {analise2}\n        \n        Faça uma comparação detalhada:\n        \"\"\")\n    ])\n    \n    chain = comparacao_template | llm\n    \n    try:\n        resultado = chain.invoke({\n            \"titulo1\": titulo1,\n            \"titulo2\": titulo2,\n            \"analise1\": f\"{info1}\\n\\n{sent1}\",\n            \"analise2\": f\"{info2}\\n\\n{sent2}\"\n        })\n        return resultado.content\n    except Exception as e:\n        return f\"Erro na comparação: {e}\"\n\n# Exemplo de uso (quando você tiver dois documentos)\nprint(\"🔍 Função de comparação criada!\")\nprint(\"📝 Use comparar_documentos(doc1, doc2) para comparar textos\")"
      ]
    },
    {
      "cell_type": "markdown",
      "metadata": {},
      "source": [
        "## 📊 Métricas de Performance do Sistema\n\nVamos medir quão **eficiente** nosso sistema está sendo! É importante sempre monitorar performance em sistemas de produção."
      ]
    },
    {
      "cell_type": "code",
      "metadata": {},
      "execution_count": null,
      "outputs": [],
      "source": [
        "import time\nfrom collections import Counter\n\nclass MetricasPerformance:\n    def __init__(self):\n        self.tempos_execucao = []\n        self.tokens_processados = 0\n        self.consultas_realizadas = 0\n        self.inicio_sessao = time.time()\n    \n    def medir_tempo_execucao(self, funcao, *args, **kwargs):\n        \"\"\"Mede tempo de execução de uma função\"\"\"\n        inicio = time.time()\n        resultado = funcao(*args, **kwargs)\n        fim = time.time()\n        \n        tempo_execucao = fim - inicio\n        self.tempos_execucao.append(tempo_execucao)\n        \n        return resultado, tempo_execucao\n    \n    def estatisticas_performance(self):\n        \"\"\"Retorna estatísticas de performance\"\"\"\n        if not self.tempos_execucao:\n            return \"Nenhuma medição realizada ainda\"\n        \n        tempo_total_sessao = time.time() - self.inicio_sessao\n        tempo_medio = np.mean(self.tempos_execucao)\n        tempo_total_processamento = sum(self.tempos_execucao)\n        \n        stats = {\n            'tempo_sessao_total': f\"{tempo_total_sessao:.2f}s\",\n            'tempo_processamento_total': f\"{tempo_total_processamento:.2f}s\",\n            'tempo_medio_por_operacao': f\"{tempo_medio:.2f}s\",\n            'operacoes_realizadas': len(self.tempos_execucao),\n            'operacoes_por_minuto': f\"{len(self.tempos_execucao) / (tempo_total_sessao / 60):.1f}\"\n        }\n        \n        return stats\n\n# Inicializando métricas\nmetricas = MetricasPerformance()\n\n# Testando performance com algumas operações\nprint(\"⚡ Testando Performance do Sistema\")\nprint(\"=\" * 50)\n\n# Teste 1: Extração de informações\nresultado, tempo = metricas.medir_tempo_execucao(extrair_informacoes, texto_completo)\nprint(f\"🔍 Extração de informações: {tempo:.2f}s\")\n\n# Teste 2: Análise de sentimento\nresultado, tempo = metricas.medir_tempo_execucao(analisar_sentimento, texto_completo)\nprint(f\"🎭 Análise de sentimento: {tempo:.2f}s\")\n\n# Teste 3: Pergunta e resposta\nresultado, tempo = metricas.medir_tempo_execucao(fazer_pergunta, \"Qual foi o crescimento?\")\nprint(f\"❓ Pergunta e resposta: {tempo:.2f}s\")\n\n# Estatísticas finais\nstats = metricas.estatisticas_performance()\nprint(\"\\n📊 ESTATÍSTICAS DE PERFORMANCE:\")\nfor chave, valor in stats.items():\n    print(f\"{chave}: {valor}\")"
      ]
    },
    {
      "cell_type": "markdown",
      "metadata": {},
      "source": [
        "## 🎮 Exercício Final: Sistema Personalizado\n\n**Mega Desafio**: Crie um sistema multi-agente para **seu domínio específico**!\n\nEscolha uma das opções:\n\n1. **Sistema de RH**: Analisa currículos e perfis de candidatos\n2. **Sistema Financeiro**: Analisa relatórios de investimento\n3. **Sistema de Marketing**: Analisa campanhas e resultados\n4. **Sistema Acadêmico**: Analisa papers e pesquisas\n\n**Requisitos**:\n- Pelo menos 3 agentes especializados\n- Sistema de perguntas customizado\n- Visualizações específicas do domínio\n- Relatório final personalizado"
      ]
    },
    {
      "cell_type": "code",
      "metadata": {},
      "execution_count": null,
      "outputs": [],
      "source": [
        "# SEU SISTEMA PERSONALIZADO AQUI!\n\n# Exemplo de estrutura:\nclass MeuSistemaEspecializado:\n    def __init__(self):\n        # Seus agentes especializados\n        pass\n    \n    def agente_especializado_1(self, texto):\n        # Seu primeiro agente especializado\n        pass\n    \n    def agente_especializado_2(self, texto):\n        # Seu segundo agente especializado  \n        pass\n    \n    def gerar_relatorio_personalizado(self):\n        # Seu relatório personalizado\n        pass\n\nprint(\"🚀 Crie seu sistema personalizado aqui!\")\nprint(\"💡 Use como base tudo que aprendemos, mas adapte pro seu domínio!\")"
      ]
    },
    {
      "cell_type": "markdown",
      "metadata": {},
      "source": [
        "## 🎊 Resumão do Projeto Final 2\n\n**Liiindo!** Você acabou de criar um sistema multi-agente completo! 🎉\n\n### 🏆 O que conquistamos:\n\n✅ **Sistema Multi-Agente** com 4 especialistas\n✅ **Extração automática** de informações\n✅ **Análise de sentimento** avançada\n✅ **Visualizações automáticas** dos dados\n✅ **Sistema de Q&A** com RAG\n✅ **Relatórios executivos** automáticos\n✅ **Métricas de performance**\n\n### 🔗 Conceitos do LangChain utilizados:\n\n- **ChatModels** (Módulo 2) ✅\n- **LCEL** (Módulo 3) ✅  \n- **Prompt Templates** (Módulo 4) ✅\n- **Chains** (Módulo 6) ✅\n- **Memory Systems** (Módulo 7) ✅\n- **Document Loading** (Módulo 8) ✅\n- **Vector Stores** (Módulo 9) ✅\n- **RAG** (Módulo 10) ✅\n- **Agents** (Módulo 11) ✅\n\n### 🚀 Próximos passos:\n\n**Módulo 14**: Vamos transformar este sistema numa **aplicação web linda** com Streamlit!\n\n**Dica!** Guarde bem este código, pois vamos usar como base pro deploy!"
      ]
    },
    {
      "cell_type": "markdown",
      "metadata": {},
      "source": [
        "## 🎯 Exercício Bônus: Otimização de Custos\n\nEm produção, é importante **otimizar custos** de API. Vamos criar um sistema que monitora e otimiza o uso de tokens!"
      ]
    },
    {
      "cell_type": "code",
      "metadata": {},
      "execution_count": null,
      "outputs": [],
      "source": [
        "class OtimizadorCustos:\n    def __init__(self):\n        self.tokens_utilizados = 0\n        self.custo_por_token = 0.000002  # Exemplo de custo\n        self.cache_respostas = {}  # Cache simples\n    \n    def calcular_tokens_aproximados(self, texto):\n        \"\"\"Estimativa rápida de tokens (1 token ≈ 4 caracteres)\"\"\"\n        return len(texto) // 4\n    \n    def verificar_cache(self, pergunta):\n        \"\"\"Verifica se já temos resposta em cache\"\"\"\n        return self.cache_respostas.get(pergunta)\n    \n    def adicionar_cache(self, pergunta, resposta):\n        \"\"\"Adiciona resposta ao cache\"\"\"\n        self.cache_respostas[pergunta] = resposta\n    \n    def fazer_pergunta_otimizada(self, pergunta):\n        \"\"\"Pergunta otimizada com cache\"\"\"\n        # Verifica cache primeiro\n        resposta_cache = self.verificar_cache(pergunta)\n        if resposta_cache:\n            print(f\"💾 Resposta encontrada em cache! Economia de tokens.\")\n            return resposta_cache\n        \n        # Se não tem cache, faz a pergunta\n        resposta, docs = fazer_pergunta(pergunta)\n        tokens_usados = self.calcular_tokens_aproximados(pergunta + resposta)\n        \n        # Atualiza métricas\n        self.tokens_utilizados += tokens_usados\n        \n        # Salva no cache\n        self.adicionar_cache(pergunta, resposta)\n        \n        print(f\"🏷️ Tokens utilizados: {tokens_usados}\")\n        print(f\"💰 Custo estimado: ${tokens_usados * self.custo_por_token:.6f}\")\n        \n        return resposta\n    \n    def relatorio_custos(self):\n        \"\"\"Relatório de custos acumulados\"\"\"\n        custo_total = self.tokens_utilizados * self.custo_por_token\n        return {\n            'tokens_total': self.tokens_utilizados,\n            'custo_total': f\"${custo_total:.6f}\",\n            'respostas_em_cache': len(self.cache_respostas),\n            'economia_potencial': f\"${len(self.cache_respostas) * 100 * self.custo_por_token:.6f}\"\n        }\n\n# Testando otimização\notimizador = OtimizadorCustos()\n\nprint(\"💰 TESTE DE OTIMIZAÇÃO DE CUSTOS\")\nprint(\"=\" * 50)\n\n# Primeira pergunta\nresp1 = otimizador.fazer_pergunta_otimizada(\"Qual foi o crescimento?\")\n\n# Segunda pergunta (mesma - deve usar cache)\nresp2 = otimizador.fazer_pergunta_otimizada(\"Qual foi o crescimento?\")\n\n# Relatório final\nrelatorio = otimizador.relatorio_custos()\nprint(\"\\n📊 RELATÓRIO DE CUSTOS:\")\nfor chave, valor in relatorio.items():\n    print(f\"{chave}: {valor}\")\n\nprint(\"\\n💡 Sistema de cache funcionando! Economia garantida em produção!\")"
      ]
    }
  ]
}