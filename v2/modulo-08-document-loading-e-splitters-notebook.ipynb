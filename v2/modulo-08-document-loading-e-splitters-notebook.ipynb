{
  "nbformat": 4,
  "nbformat_minor": 0,
  "metadata": {
    "colab": {
      "name": "Modulo_8_Document_Loading_Splitters.ipynb",
      "provenance": []
    },
    "kernelspec": {
      "name": "python3",
      "display_name": "Python 3"
    }
  },
  "cells": [
    {
      "cell_type": "markdown",
      "metadata": {},
      "source": [
        "# 📚 Document Loading e Splitters - Preparando Dados para RAG\n\n![](https://s3.us-east-1.amazonaws.com/turing.education/books/imagens/langchain-modulo-08_img_01.png)\n\n**Módulo 8 de 17 - LangChain v0.3**\n\nFala pessoal! Tô aqui de novo com vocês pra mais um módulo do nosso curso de LangChain! 🚀\n\nTá, mas o que diabos é Document Loading e Splitters? Imagina que você tem uma biblioteca gigante e precisa encontrar uma informação específica. Você não vai ler todos os livros né? Você vai direto no índice, nas páginas certas!\n\nÉ exatamente isso que fazemos com documentos em IA. Pegamos textos enormes e dividimos em pedacinhos menores que fazem sentido. É tipo picar uma pizza - cada pedaço tem que ter tudo que precisa pra ser saboroso! 🍕\n\n**Por que isso é importante?**\n- Nos próximos módulos vamos implementar RAG (Retrieval Augmented Generation)\n- RAG precisa de documentos bem organizados e divididos\n- É a base para sistemas de busca inteligente\n\nBora começar!"
      ]
    },
    {
      "cell_type": "markdown",
      "metadata": {},
      "source": [
        "## 🛠️ Setup Inicial - Instalando as Dependências\n\nAntes de começar, vamos instalar tudo que precisamos. É tipo preparar os ingredientes antes de cozinhar!"
      ]
    },
    {
      "cell_type": "code",
      "metadata": {},
      "source": [
        "# Instalando as bibliotecas necessárias\n",
        "!pip install langchain langchain-community python-docx pypdf pymupdf beautifulsoup4 requests\n",
        "\n",
        "# Imports básicos\n",
        "import os\n",
        "from langchain.document_loaders import TextLoader, PyPDFLoader, WebBaseLoader\n",
        "from langchain.text_splitter import RecursiveCharacterTextSplitter, CharacterTextSplitter\n",
        "from langchain.schema import Document\n",
        "import requests\n",
        "from bs4 import BeautifulSoup"
      ],
      "outputs": [],
      "execution_count": null
    },
    {
      "cell_type": "markdown",
      "metadata": {},
      "source": [
        "## 📖 O que são Document Loaders?\n\nTá, mas o que são esses Document Loaders? Simples!\n\nImagina que você tem documentos em vários formatos:\n- PDF (tipo aquele manual chato da TV)\n- TXT (arquivo simples de texto)\n- Páginas web (sites, blogs)\n- Word, Excel, PowerPoint\n\nCada formato tem sua \"linguagem\" própria. Os Document Loaders são tipo tradutores universais que pegam qualquer formato e transformam em algo que o LangChain entende!\n\n### Estrutura de um Document no LangChain\n\nTodo documento no LangChain tem duas partes principais:\n- **page_content**: O texto em si\n- **metadata**: Informações sobre o documento (título, fonte, página, etc.)\n\nÉ tipo um envelope: tem a carta (conteúdo) e as informações do envelope (metadados)!\n\n**Dica!** Sempre guarde metadados! Eles são super úteis para rastrear de onde veio cada pedaço de informação."
      ]
    },
    {
      "cell_type": "code",
      "metadata": {},
      "source": [
        "# Vamos criar um documento simples para entender a estrutura\n",
        "from langchain.schema import Document\n",
        "\n",
        "# Criando um documento básico\n",
        "documento_exemplo = Document(\n",
        "    page_content=\"Este é o conteúdo do meu documento sobre IA. A inteligência artificial está revolucionando o mundo!\",\n",
        "    metadata={\n",
        "        \"titulo\": \"Introdução à IA\",\n",
        "        \"autor\": \"Pedro Guth\",\n",
        "        \"data\": \"2024-01-15\",\n",
        "        \"categoria\": \"tecnologia\"\n",
        "    }\n",
        ")\n",
        "\n",
        "print(\"Conteúdo do documento:\")\n",
        "print(documento_exemplo.page_content)\n",
        "print(\"\\nMetadados:\")\n",
        "print(documento_exemplo.metadata)"
      ],
      "outputs": [],
      "execution_count": null
    },
    {
      "cell_type": "markdown",
      "metadata": {},
      "source": [
        "## 📄 Carregando Diferentes Tipos de Documentos\n\nAgora vamos ver como carregar documentos de diferentes fontes. É tipo ter chaves para abrir diferentes tipos de portas!"
      ]
    },
    {
      "cell_type": "code",
      "metadata": {},
      "source": [
        "# 1. Carregando arquivo de texto simples\n",
        "# Primeiro vamos criar um arquivo de exemplo\n",
        "texto_exemplo = \"\"\"\n",
        "LangChain é uma biblioteca incrível para desenvolvimento de aplicações com IA.\n",
        "Ela facilita muito a integração com diferentes modelos de linguagem.\n",
        "Nos módulos anteriores, aprendemos sobre ChatModels, Prompts e Chains.\n",
        "Agora estamos preparando dados para implementar RAG nos próximos módulos.\n",
        "O RAG (Retrieval Augmented Generation) é uma técnica poderosa que combina busca e geração.\n",
        "\"\"\"\n",
        "\n",
        "# Salvando o arquivo\n",
        "with open(\"exemplo.txt\", \"w\", encoding=\"utf-8\") as f:\n",
        "    f.write(texto_exemplo)\n",
        "\n",
        "# Carregando com TextLoader\n",
        "from langchain.document_loaders import TextLoader\n",
        "\n",
        "loader_texto = TextLoader(\"exemplo.txt\", encoding=\"utf-8\")\n",
        "documentos_texto = loader_texto.load()\n",
        "\n",
        "print(\"Documento carregado do arquivo TXT:\")\n",
        "print(f\"Número de documentos: {len(documentos_texto)}\")\n",
        "print(f\"Conteúdo: {documentos_texto[0].page_content[:100]}...\")\n",
        "print(f\"Metadados: {documentos_texto[0].metadata}\")"
      ],
      "outputs": [],
      "execution_count": null
    },
    {
      "cell_type": "code",
      "metadata": {},
      "source": [
        "# 2. Carregando conteúdo de páginas web\n",
        "from langchain.document_loaders import WebBaseLoader\n",
        "\n",
        "# Carregando uma página web (vamos usar uma página simples)\n",
        "try:\n",
        "    loader_web = WebBaseLoader(\"https://httpbin.org/html\")\n",
        "    documentos_web = loader_web.load()\n",
        "    \n",
        "    print(\"\\nDocumento carregado da web:\")\n",
        "    print(f\"Número de documentos: {len(documentos_web)}\")\n",
        "    print(f\"Conteúdo (primeiros 200 chars): {documentos_web[0].page_content[:200]}...\")\n",
        "    print(f\"Metadados: {documentos_web[0].metadata}\")\n",
        "    \n",
        "except Exception as e:\n",
        "    print(f\"Erro ao carregar página web: {e}\")\n",
        "    print(\"Sem problemas! Vamos criar um documento web simulado:\")\n",
        "    \n",
        "    # Simulando conteúdo web\n",
        "    documento_web_simulado = Document(\n",
        "        page_content=\"Este é o conteúdo de uma página web sobre LangChain. A página contém informações sobre como usar document loaders para processar diferentes tipos de arquivo.\",\n",
        "        metadata={\"source\": \"https://exemplo.com/langchain\", \"title\": \"Guia LangChain\"}\n",
        "    )\n",
        "    print(f\"Conteúdo simulado: {documento_web_simulado.page_content}\")"
      ],
      "outputs": [],
      "execution_count": null
    },
    {
      "cell_type": "markdown",
      "metadata": {},
      "source": [
        "## ✂️ Text Splitters - Dividindo para Conquistar\n\nAgora vem a parte mais importante! Tá, mas por que dividir os textos?\n\nImagina que você tem um livro de 500 páginas e quer encontrar informação sobre \"como fazer brigadeiro\". Você não vai dar o livro inteiro para alguém ler né? Você vai direto no capítulo de doces!\n\nÉ exatamente isso que os Text Splitters fazem:\n- Dividem textos grandes em pedaços menores\n- Mantêm o contexto (não cortam no meio de uma frase)\n- Facilitam a busca e processamento\n\n![](https://s3.us-east-1.amazonaws.com/turing.education/books/imagens/langchain-modulo-08_img_02.png)\n\n### Por que isso é importante para RAG?\n\nLembra que nos próximos módulos vamos implementar RAG? Então:\n- RAG precisa encontrar informações relevantes rapidamente\n- Textos muito grandes são difíceis de processar\n- Pedaços pequenos são mais fáceis de buscar e comparar\n\n**Dica!** O tamanho ideal dos chunks (pedaços) depende do seu caso de uso. Para perguntas e respostas: 200-500 caracteres. Para análise profunda: 1000-2000 caracteres."
      ]
    },
    {
      "cell_type": "code",
      "metadata": {},
      "source": [
        "# Vamos criar um texto mais longo para demonstrar os splitters\n",
        "texto_longo = \"\"\"\n",
        "O LangChain é uma biblioteca poderosa que facilita o desenvolvimento de aplicações com IA. \n",
        "Ela oferece uma abstração elegante para trabalhar com diferentes modelos de linguagem.\n",
        "\n",
        "Nos módulos anteriores, aprendemos sobre ChatModels que nos permitem conversar com IAs como GPT e Gemini.\n",
        "Também vimos Prompt Templates que padronizam nossas conversas com a IA.\n",
        "As Chains nos ajudam a criar fluxos complexos de processamento.\n",
        "\n",
        "Agora estamos preparando dados para RAG (Retrieval Augmented Generation).\n",
        "O RAG é uma técnica que combina busca em documentos com geração de texto.\n",
        "É muito útil para criar assistentes que podem responder baseados em documentos específicos.\n",
        "\n",
        "Para implementar RAG, precisamos:\n",
        "1. Carregar documentos de diferentes fontes\n",
        "2. Dividir os textos em pedaços menores\n",
        "3. Criar embeddings (vamos ver no próximo módulo)\n",
        "4. Armazenar em um vector store\n",
        "5. Implementar a busca e geração\n",
        "\n",
        "Os Document Loaders e Text Splitters são o primeiro passo desta jornada.\n",
        "Eles preparam nossos dados para os próximos passos do processo RAG.\n",
        "\"\"\"\n",
        "\n",
        "# Criando um documento com este texto\n",
        "documento_longo = Document(\n",
        "    page_content=texto_longo,\n",
        "    metadata={\"fonte\": \"curso_langchain\", \"modulo\": 8}\n",
        ")\n",
        "\n",
        "print(f\"Texto original tem {len(texto_longo)} caracteres\")\n",
        "print(f\"Vamos dividir este texto em pedaços menores!\")"
      ],
      "outputs": [],
      "execution_count": null
    },
    {
      "cell_type": "markdown",
      "metadata": {},
      "source": [
        "## 🔧 CharacterTextSplitter - O Divisor Simples\n\nO CharacterTextSplitter é o mais básico. Ele divide o texto baseado em um caractere específico (tipo \\n para quebra de linha).\n\nÉ tipo cortar uma pizza com uma régua - funciona, mas não é o mais inteligente!"
      ]
    },
    {
      "cell_type": "code",
      "metadata": {},
      "source": [
        "# Usando CharacterTextSplitter\n",
        "from langchain.text_splitter import CharacterTextSplitter\n",
        "\n",
        "# Configurando o splitter\n",
        "splitter_simples = CharacterTextSplitter(\n",
        "    chunk_size=300,      # Tamanho máximo de cada pedaço\n",
        "    chunk_overlap=50,    # Sobreposição entre pedaços (importante para manter contexto!)\n",
        "    separator=\"\\n\\n\"      # Divide onde tem duas quebras de linha\n",
        ")\n",
        "\n",
        "# Dividindo o documento\n",
        "chunks_simples = splitter_simples.split_documents([documento_longo])\n",
        "\n",
        "print(f\"Documento dividido em {len(chunks_simples)} pedaços:\")\n",
        "print()\n",
        "\n",
        "# Mostrando cada pedaço\n",
        "for i, chunk in enumerate(chunks_simples):\n",
        "    print(f\"--- Pedaço {i+1} ({len(chunk.page_content)} chars) ---\")\n",
        "    print(chunk.page_content[:200] + \"...\" if len(chunk.page_content) > 200 else chunk.page_content)\n",
        "    print(f\"Metadados: {chunk.metadata}\")\n",
        "    print()"
      ],
      "outputs": [],
      "execution_count": null
    },
    {
      "cell_type": "markdown",
      "metadata": {},
      "source": [
        "## 🧠 RecursiveCharacterTextSplitter - O Inteligente\n\nAgora sim! Este é o splitter mais usado e inteligente. Por quê?\n\nEle tenta dividir o texto seguindo uma hierarquia:\n1. Primeiro tenta dividir por parágrafos (\\n\\n)\n2. Se ainda estiver grande, divide por frases (.)\n3. Se ainda estiver grande, divide por palavras ( )\n4. Por último, divide por caracteres\n\nÉ tipo um chef experiente cortando ingredientes - ele sabe onde cortar para não estragar o sabor!\n\n**Dica!** Este é o splitter que você vai usar 90% das vezes. Ele é inteligente o suficiente para manter o contexto."
      ]
    },
    {
      "cell_type": "code",
      "metadata": {},
      "source": [
        "# Usando RecursiveCharacterTextSplitter\n",
        "from langchain.text_splitter import RecursiveCharacterTextSplitter\n",
        "\n",
        "# Configurando o splitter inteligente\n",
        "splitter_inteligente = RecursiveCharacterTextSplitter(\n",
        "    chunk_size=400,        # Tamanho máximo de cada pedaço\n",
        "    chunk_overlap=100,     # Sobreposição entre pedaços\n",
        "    length_function=len,   # Função para medir o tamanho\n",
        "    separators=[\"\\n\\n\", \"\\n\", \".\", \" \", \"\"]  # Hierarquia de separadores\n",
        ")\n",
        "\n",
        "# Dividindo o documento\n",
        "chunks_inteligentes = splitter_inteligente.split_documents([documento_longo])\n",
        "\n",
        "print(f\"Documento dividido em {len(chunks_inteligentes)} pedaços com RecursiveCharacterTextSplitter:\")\n",
        "print()\n",
        "\n",
        "# Mostrando cada pedaço\n",
        "for i, chunk in enumerate(chunks_inteligentes):\n",
        "    print(f\"--- Pedaço Inteligente {i+1} ({len(chunk.page_content)} chars) ---\")\n",
        "    print(chunk.page_content)\n",
        "    print(f\"Metadados: {chunk.metadata}\")\n",
        "    print(\"-\" * 50)"
      ],
      "outputs": [],
      "execution_count": null
    },
    {
      "cell_type": "markdown",
      "metadata": {},
      "source": [
        "## 📊 Visualizando a Diferença entre Splitters\n\nVamos criar um gráfico para visualizar como cada splitter se comporta. É sempre bom ver os dados!"
      ]
    },
    {
      "cell_type": "code",
      "metadata": {},
      "source": [
        "import matplotlib.pyplot as plt\n",
        "import numpy as np\n",
        "\n",
        "# Coletando dados dos splitters\n",
        "tamanhos_simples = [len(chunk.page_content) for chunk in chunks_simples]\n",
        "tamanhos_inteligentes = [len(chunk.page_content) for chunk in chunks_inteligentes]\n",
        "\n",
        "# Criando o gráfico\n",
        "fig, (ax1, ax2) = plt.subplots(1, 2, figsize=(15, 6))\n",
        "\n",
        "# Gráfico 1: Comparação de tamanhos\n",
        "ax1.bar(range(len(tamanhos_simples)), tamanhos_simples, \n",
        "        alpha=0.7, label='Character Splitter', color='skyblue')\n",
        "ax1.bar(range(len(tamanhos_inteligentes)), tamanhos_inteligentes, \n",
        "        alpha=0.7, label='Recursive Splitter', color='lightcoral')\n",
        "ax1.set_xlabel('Número do Chunk')\n",
        "ax1.set_ylabel('Tamanho (caracteres)')\n",
        "ax1.set_title('Comparação de Tamanhos dos Chunks')\n",
        "ax1.legend()\n",
        "ax1.grid(True, alpha=0.3)\n",
        "\n",
        "# Gráfico 2: Distribuição de tamanhos\n",
        "ax2.hist(tamanhos_simples, bins=5, alpha=0.7, label='Character Splitter', color='skyblue')\n",
        "ax2.hist(tamanhos_inteligentes, bins=5, alpha=0.7, label='Recursive Splitter', color='lightcoral')\n",
        "ax2.set_xlabel('Tamanho do Chunk (caracteres)')\n",
        "ax2.set_ylabel('Frequência')\n",
        "ax2.set_title('Distribuição dos Tamanhos')\n",
        "ax2.legend()\n",
        "ax2.grid(True, alpha=0.3)\n",
        "\n",
        "plt.tight_layout()\n",
        "plt.show()\n",
        "\n",
        "print(f\"\\nEstatísticas:\")\n",
        "print(f\"Character Splitter: {len(chunks_simples)} chunks, tamanho médio: {np.mean(tamanhos_simples):.1f}\")\n",
        "print(f\"Recursive Splitter: {len(chunks_inteligentes)} chunks, tamanho médio: {np.mean(tamanhos_inteligentes):.1f}\")"
      ],
      "outputs": [],
      "execution_count": null
    },
    {
      "cell_type": "markdown",
      "metadata": {},
      "source": [
        "## 🎯 Parâmetros Importantes dos Splitters\n\nTá, mas quais são os parâmetros mais importantes? Vamos entender cada um:\n\n### chunk_size\n- Tamanho máximo de cada pedaço\n- **Pequeno (100-300)**: Boa precisão, mas pode perder contexto\n- **Médio (300-800)**: Equilíbrio entre precisão e contexto ⭐\n- **Grande (800+)**: Muito contexto, mas busca menos precisa\n\n### chunk_overlap\n- Quantos caracteres se repetem entre chunks\n- **Importante**: Evita que informações sejam cortadas no meio\n- **Recomendação**: 10-20% do chunk_size\n\n### separators\n- Define onde o texto pode ser cortado\n- **Padrão**: [\"\\n\\n\", \"\\n\", \".\", \" \", \"\"]\n- **Para código**: [\"\\n\\n\", \"\\n\", \";\", \"{\", \"}\", \" \"]\n\n**Dica!** Para RAG, comece com chunk_size=500 e chunk_overlap=100. Depois ajuste baseado nos seus testes!"
      ]
    },
    {
      "cell_type": "code",
      "metadata": {},
      "source": [
        "# Testando diferentes configurações\n",
        "configurações = [\n",
        "    {\"nome\": \"Pequenos\", \"chunk_size\": 200, \"chunk_overlap\": 50},\n",
        "    {\"nome\": \"Médios\", \"chunk_size\": 400, \"chunk_overlap\": 80},\n",
        "    {\"nome\": \"Grandes\", \"chunk_size\": 800, \"chunk_overlap\": 150}\n",
        "]\n",
        "\n",
        "resultados = []\n",
        "\n",
        "for config in configurações:\n",
        "    splitter = RecursiveCharacterTextSplitter(\n",
        "        chunk_size=config[\"chunk_size\"],\n",
        "        chunk_overlap=config[\"chunk_overlap\"]\n",
        "    )\n",
        "    \n",
        "    chunks = splitter.split_documents([documento_longo])\n",
        "    \n",
        "    resultado = {\n",
        "        \"nome\": config[\"nome\"],\n",
        "        \"num_chunks\": len(chunks),\n",
        "        \"tamanho_medio\": np.mean([len(chunk.page_content) for chunk in chunks]),\n",
        "        \"chunk_size_config\": config[\"chunk_size\"]\n",
        "    }\n",
        "    \n",
        "    resultados.append(resultado)\n",
        "    \n",
        "    print(f\"{config['nome']}: {len(chunks)} chunks, tamanho médio: {resultado['tamanho_medio']:.1f}\")\n",
        "\n",
        "print(\"\\nQual configuração escolher?\")\n",
        "print(\"📍 Pequenos: Ótimo para busca precisa\")\n",
        "print(\"🎯 Médios: Equilibrio ideal para a maioria dos casos\")\n",
        "print(\"📚 Grandes: Bom quando você precisa de muito contexto\")"
      ],
      "outputs": [],
      "execution_count": null
    },
    {
      "cell_type": "markdown",
      "metadata": {},
      "source": [
        "## 🌐 Exemplo Prático - Processando Conteúdo Web\n\nVamos fazer um exemplo mais próximo da realidade: carregar conteúdo de uma página web e preparar para RAG!"
      ]
    },
    {
      "cell_type": "code",
      "metadata": {},
      "source": [
        "# Simulando conteúdo de um blog sobre IA\n",
        "conteudo_blog = \"\"\"\n",
        "# Inteligência Artificial no Brasil: O Futuro é Agora\n",
        "\n",
        "A inteligência artificial está transformando o mercado brasileiro de forma acelerada. \n",
        "Empresas de todos os tamanhos estão adotando soluções de IA para melhorar seus processos.\n",
        "\n",
        "## Principais Aplicações\n",
        "\n",
        "### Atendimento ao Cliente\n",
        "Chatbots inteligentes estão revolucionando o atendimento. Eles conseguem resolver 80% dos problemas sem intervenção humana.\n",
        "Empresas como Magazine Luiza e Bradesco já implementaram soluções avançadas.\n",
        "\n",
        "### Análise de Dados\n",
        "Machine Learning está sendo usado para analisar padrões de consumo e prever tendências.\n",
        "O setor financeiro é pioneiro nesta área, usando IA para detectar fraudes e avaliar riscos.\n",
        "\n",
        "### Automação de Processos\n",
        "RPA (Robotic Process Automation) combinado com IA está automatizando tarefas repetitivas.\n",
        "Isso libera funcionários para atividades mais estratégicas e criativas.\n",
        "\n",
        "## Desafios e Oportunidades\n",
        "\n",
        "O maior desafio é a capacitação profissional. O mercado demanda profissionais qualificados em IA.\n",
        "Por outro lado, isso cria oportunidades enormes para quem se especializar na área.\n",
        "\n",
        "## Conclusão\n",
        "\n",
        "A IA não é mais coisa do futuro - é realidade do presente.\n",
        "Empresas que não se adaptarem ficarão para trás na competição.\n",
        "\"\"\"\n",
        "\n",
        "# Criando documento simulando conteúdo web\n",
        "documento_blog = Document(\n",
        "    page_content=conteudo_blog,\n",
        "    metadata={\n",
        "        \"source\": \"https://blog-ia-brasil.com/futuro-agora\",\n",
        "        \"title\": \"IA no Brasil: O Futuro é Agora\",\n",
        "        \"author\": \"Tech Blog Brasil\",\n",
        "        \"date\": \"2024-01-15\",\n",
        "        \"category\": \"tecnologia\"\n",
        "    }\n",
        ")\n",
        "\n",
        "print(\"Documento do blog carregado!\")\n",
        "print(f\"Tamanho: {len(conteudo_blog)} caracteres\")"
      ],
      "outputs": [],
      "execution_count": null
    },
    {
      "cell_type": "code",
      "metadata": {},
      "source": [
        "# Processando o conteúdo do blog para RAG\n",
        "splitter_blog = RecursiveCharacterTextSplitter(\n",
        "    chunk_size=300,\n",
        "    chunk_overlap=50,\n",
        "    separators=[\"\\n\\n\", \"\\n\", \".\", \" \", \"\"]\n",
        ")\n",
        "\n",
        "chunks_blog = splitter_blog.split_documents([documento_blog])\n",
        "\n",
        "print(f\"Blog dividido em {len(chunks_blog)} chunks para RAG:\")\n",
        "print(\"\\n\" + \"=\"*60)\n",
        "\n",
        "for i, chunk in enumerate(chunks_blog):\n",
        "    print(f\"\\nChunk {i+1} ({len(chunk.page_content)} chars):\")\n",
        "    print(\"-\" * 30)\n",
        "    print(chunk.page_content.strip())\n",
        "    print(f\"Metadados: {chunk.metadata}\")\n",
        "\n",
        "print(\"\\n\" + \"=\"*60)\n",
        "print(\"Liiindo! Agora temos os dados prontos para o próximo módulo (Vector Store)!\")"
      ],
      "outputs": [],
      "execution_count": null
    },
    {
      "cell_type": "markdown",
      "metadata": {},
      "source": [
        "## 🔄 Fluxo Completo - Da Fonte ao Chunk\n\nVamos visualizar todo o processo que acabamos de aprender:\n\n```mermaid\ngraph TD\n    A[Documento Original] --> B[Document Loader]\n    B --> C[Document Object]\n    C --> D[Text Splitter]\n    D --> E[Chunks Menores]\n    E --> F[Prontos para Vector Store]\n    \n    B1[PDF] --> B\n    B2[TXT] --> B\n    B3[Web] --> B\n    B4[Word] --> B\n    \n    D1[CharacterTextSplitter] --> D\n    D2[RecursiveCharacterTextSplitter] --> D\n```\n\n![](https://s3.us-east-1.amazonaws.com/turing.education/books/imagens/langchain-modulo-08_img_03.png)"
      ]
    },
    {
      "cell_type": "markdown",
      "metadata": {},
      "source": [
        "## 💡 Dicas Avançadas e Boas Práticas\n\nAgora que você já sabe o básico, vou compartilhar algumas dicas de quem já quebrou a cabeça com isso:\n\n### 1. Preservando Metadados Importantes\n- Sempre mantenha informações de fonte\n- Adicione timestamps quando relevante\n- Use metadados para filtrar buscas\n\n### 2. Tamanho dos Chunks para Diferentes Casos\n- **FAQ/Q&A**: 100-300 caracteres\n- **Documentação técnica**: 400-800 caracteres\n- **Artigos longos**: 600-1200 caracteres\n- **Código**: 200-500 caracteres\n\n### 3. Overlap Estratégico\n- Para textos técnicos: 20% do chunk_size\n- Para narrativas: 15% do chunk_size\n- Para listas/FAQ: 10% do chunk_size\n\n**Dica!** No próximo módulo (Vector Store), vamos ver como esses chunks são transformados em embeddings para busca semântica. É aí que a mágica do RAG realmente acontece!"
      ]
    },
    {
      "cell_type": "code",
      "metadata": {},
      "source": [
        "# Exemplo de preservação de metadados estratégicos\n",
        "def processar_documento_completo(conteudo, fonte, categoria):\n",
        "    \"\"\"Função para processar documento mantendo metadados importantes\"\"\"\n",
        "    \n",
        "    # Criando documento com metadados ricos\n",
        "    documento = Document(\n",
        "        page_content=conteudo,\n",
        "        metadata={\n",
        "            \"fonte\": fonte,\n",
        "            \"categoria\": categoria,\n",
        "            \"tamanho_original\": len(conteudo),\n",
        "            \"processado_em\": \"2024-01-15\",\n",
        "            \"versao_langchain\": \"0.3\"\n",
        "        }\n",
        "    )\n",
        "    \n",
        "    # Configurando splitter otimizado\n",
        "    splitter = RecursiveCharacterTextSplitter(\n",
        "        chunk_size=400,\n",
        "        chunk_overlap=80,\n",
        "        separators=[\"\\n\\n\", \"\\n\", \".\", \"!\", \"?\", \";\", \" \", \"\"]\n",
        "    )\n",
        "    \n",
        "    # Dividindo e enriquecendo metadados\n",
        "    chunks = splitter.split_documents([documento])\n",
        "    \n",
        "    # Adicionando número do chunk nos metadados\n",
        "    for i, chunk in enumerate(chunks):\n",
        "        chunk.metadata[\"chunk_id\"] = i\n",
        "        chunk.metadata[\"total_chunks\"] = len(chunks)\n",
        "        chunk.metadata[\"chunk_size\"] = len(chunk.page_content)\n",
        "    \n",
        "    return chunks\n",
        "\n",
        "# Testando a função\n",
        "chunks_processados = processar_documento_completo(\n",
        "    conteudo=conteudo_blog,\n",
        "    fonte=\"blog_ia_brasil\",\n",
        "    categoria=\"tecnologia\"\n",
        ")\n",
        "\n",
        "print(f\"Processamento completo: {len(chunks_processados)} chunks gerados\")\n",
        "print(f\"\\nExemplo de metadados enriquecidos:\")\n",
        "print(chunks_processados[0].metadata)"
      ],
      "outputs": [],
      "execution_count": null
    },
    {
      "cell_type": "markdown",
      "metadata": {},
      "source": [
        "## 🎯 Exercícios Práticos\n\nAgora é sua vez de praticar! Bora colocar a mão na massa!"
      ]
    },
    {
      "cell_type": "markdown",
      "metadata": {},
      "source": [
        "### Exercício 1: Processando Diferentes Tipos de Conteúdo\n\nCrie uma função que processe diferentes tipos de documentos e encontre a configuração ideal de chunk para cada tipo."
      ]
    },
    {
      "cell_type": "code",
      "metadata": {},
      "source": [
        "# EXERCÍCIO 1: Complete o código abaixo\n",
        "\n",
        "# Documentos de exemplo de diferentes tipos\n",
        "doc_faq = \"\"\"\n",
        "P: Como instalar o LangChain?\n",
        "R: Use pip install langchain\n",
        "\n",
        "P: O que é um Document Loader?\n",
        "R: É uma ferramenta para carregar documentos de diferentes fontes\n",
        "\n",
        "P: Qual a diferença entre splitters?\n",
        "R: RecursiveCharacterTextSplitter é mais inteligente que CharacterTextSplitter\n",
        "\"\"\"\n",
        "\n",
        "doc_tecnico = \"\"\"\n",
        "A arquitetura do LangChain é baseada em componentes modulares que permitem flexibilidade máxima.\n",
        "Os Document Loaders são responsáveis por converter diferentes formatos em objetos Document padronizados.\n",
        "Este processo de normalização é fundamental para o funcionamento correto dos Text Splitters.\n",
        "Os Text Splitters implementam algoritmos sofisticados para dividir texto mantendo contexto semântico.\n",
        "\"\"\"\n",
        "\n",
        "# TODO: Complete a função abaixo\n",
        "def encontrar_melhor_config(documento, tipo_doc):\n",
        "    \"\"\"Encontra a melhor configuração de chunk para cada tipo de documento\"\"\"\n",
        "    \n",
        "    configs = {\n",
        "        \"faq\": {\"chunk_size\": 150, \"chunk_overlap\": 20},\n",
        "        \"tecnico\": {\"chunk_size\": 400, \"chunk_overlap\": 80}\n",
        "    }\n",
        "    \n",
        "    # TODO: Implemente a lógica aqui\n",
        "    # 1. Pegar a config do tipo de documento\n",
        "    # 2. Criar o splitter\n",
        "    # 3. Processar o documento\n",
        "    # 4. Retornar os chunks\n",
        "    \n",
        "    config = configs.get(tipo_doc, {\"chunk_size\": 300, \"chunk_overlap\": 50})\n",
        "    \n",
        "    # Seu código aqui...\n",
        "    \n",
        "    return chunks  # Remova esta linha e implemente!\n",
        "\n",
        "# Teste sua função\n",
        "# chunks_faq = encontrar_melhor_config(doc_faq, \"faq\")\n",
        "# chunks_tecnico = encontrar_melhor_config(doc_tecnico, \"tecnico\")\n",
        "\n",
        "print(\"💡 Dica: Pense em como cada tipo de documento deve ser dividido!\")\n",
        "print(\"FAQ: pedaços pequenos, uma pergunta por chunk\")\n",
        "print(\"Técnico: pedaços maiores, mantendo contexto completo\")"
      ],
      "outputs": [],
      "execution_count": null
    },
    {
      "cell_type": "markdown",
      "metadata": {},
      "source": [
        "### Exercício 2: Análise de Qualidade dos Chunks\n\nCrie uma função que analise a qualidade dos chunks gerados e sugira melhorias."
      ]
    },
    {
      "cell_type": "code",
      "metadata": {},
      "source": [
        "# EXERCÍCIO 2: Complete a função de análise\n",
        "\n",
        "def analisar_qualidade_chunks(chunks):\n",
        "    \"\"\"Analisa a qualidade dos chunks e sugere melhorias\"\"\"\n",
        "    \n",
        "    # TODO: Implemente as análises abaixo\n",
        "    \n",
        "    # 1. Calcular estatísticas básicas\n",
        "    tamanhos = [len(chunk.page_content) for chunk in chunks]\n",
        "    \n",
        "    # 2. Verificar chunks muito pequenos (< 50 chars)\n",
        "    chunks_pequenos = 0  # TODO: contar chunks pequenos\n",
        "    \n",
        "    # 3. Verificar chunks muito grandes (> 1000 chars)  \n",
        "    chunks_grandes = 0   # TODO: contar chunks grandes\n",
        "    \n",
        "    # 4. Verificar chunks que terminam no meio de palavra\n",
        "    chunks_mal_cortados = 0  # TODO: contar chunks mal cortados\n",
        "    \n",
        "    # Seu código aqui...\n",
        "    \n",
        "    # Relatório\n",
        "    print(\"📊 Análise de Qualidade dos Chunks:\")\n",
        "    print(f\"Total de chunks: {len(chunks)}\")\n",
        "    print(f\"Tamanho médio: {np.mean(tamanhos):.1f} caracteres\")\n",
        "    print(f\"Chunks muito pequenos: {chunks_pequenos}\")\n",
        "    print(f\"Chunks muito grandes: {chunks_grandes}\")\n",
        "    print(f\"Chunks mal cortados: {chunks_mal_cortados}\")\n",
        "    \n",
        "    # TODO: Adicionar sugestões de melhoria\n",
        "    print(\"\\n💡 Sugestões:\")\n",
        "    if chunks_pequenos > 0:\n",
        "        print(f\"- Considere aumentar chunk_size (muitos chunks pequenos)\")\n",
        "    # Adicione mais sugestões...\n",
        "\n",
        "# Teste com os chunks que criamos\n",
        "print(\"Análise dos chunks do blog:\")\n",
        "analisar_qualidade_chunks(chunks_blog)"
      ],
      "outputs": [],
      "execution_count": null
    },
    {
      "cell_type": "markdown",
      "metadata": {},
      "source": [
        "## 📈 Preparando para os Próximos Módulos\n\nLiiindo! Você chegou até aqui e já sabe como:\n- Carregar documentos de diferentes fontes\n- Dividir textos de forma inteligente\n- Configurar splitters para diferentes casos de uso\n- Manter metadados importantes\n\n### O que vem pela frente?\n\n**Módulo 9 - Vector Store e Embeddings**:\n- Vamos transformar nossos chunks em embeddings (vetores)\n- Aprender sobre diferentes vector stores\n- Implementar busca semântica\n\n**Módulo 10 - RAG Implementation**:\n- Juntar tudo: chunks + embeddings + LLM\n- Criar um sistema de pergunta e resposta\n- Otimizar a recuperação de informações\n\n![](https://s3.us-east-1.amazonaws.com/turing.education/books/imagens/langchain-modulo-08_img_04.png)\n\n**Dica!** Guarde bem os conceitos deste módulo! Eles são a base de tudo que vem pela frente no RAG."
      ]
    },
    {
      "cell_type": "markdown",
      "metadata": {},
      "source": [
        "## 🎉 Resumo do Módulo\n\nCara, que jornada incrível! Vamos recapitular o que aprendemos:\n\n### 🔑 Conceitos Principais\n\n1. **Document Loaders**: Carregam documentos de qualquer formato\n2. **Text Splitters**: Dividem textos mantendo contexto\n3. **Chunks**: Pedaços pequenos e contextualizados de texto\n4. **Metadados**: Informações sobre os documentos\n\n### 🛠️ Ferramentas que Dominamos\n\n- `TextLoader`: Para arquivos de texto\n- `WebBaseLoader`: Para páginas web\n- `CharacterTextSplitter`: Divisão simples\n- `RecursiveCharacterTextSplitter`: Divisão inteligente ⭐\n\n### 📏 Configurações Importantes\n\n- **chunk_size**: 300-500 para a maioria dos casos\n- **chunk_overlap**: 10-20% do chunk_size\n- **separators**: Use a hierarquia padrão\n\n### 🚀 Próximos Passos\n\nAgora que nossos dados estão prontos, vamos transformá-los em embeddings e implementar RAG!\n\n**Exercício para casa**: Pense em um documento que você gostaria de processar (PDF, site, arquivo). No próximo módulo vamos transformar ele em um sistema de busca inteligente!\n\nNos vemos no Módulo 9! Bora para Vector Stores! 🚀"
      ]
    },
    {
      "cell_type": "code",
      "metadata": {},
      "source": [
        "# Código final - Limpeza dos arquivos criados\n",
        "import os\n",
        "\n",
        "# Removendo arquivo temporário\n",
        "if os.path.exists(\"exemplo.txt\"):\n",
        "    os.remove(\"exemplo.txt\")\n",
        "    print(\"✅ Arquivo temporário removido\")\n",
        "\n",
        "print(\"\\n🎯 Módulo 8 completo!\")\n",
        "print(\"📚 Você agora sabe preparar dados para RAG\")\n",
        "print(\"🚀 Próximo módulo: Vector Store e Embeddings\")\n",
        "print(\"\\n\" + \"=\"*50)\n",
        "print(\"Pedro Guth - LangChain v0.3 Course\")\n",
        "print(\"Módulo 8/17: Document Loading e Splitters\")\n",
        "print(\"=\"*50)"
      ],
      "outputs": [],
      "execution_count": null
    }
  ]
}
