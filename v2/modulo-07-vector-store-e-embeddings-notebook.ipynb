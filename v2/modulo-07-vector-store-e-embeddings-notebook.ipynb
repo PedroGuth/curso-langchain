{
  "nbformat": 4,
  "nbformat_minor": 0,
  "metadata": {
    "colab": {
      "provenance": []
    },
    "kernelspec": {
      "name": "python3",
      "display_name": "Python 3"
    },
    "language_info": {
      "name": "python"
    }
  },
  "cells": [
    {
      "cell_type": "markdown",
      "metadata": {},
      "source": [
        "# 🧠 Vector Store e Embeddings: A Biblioteca da IA Moderna\n\n**Módulo 7 de 15 - LangChain v0.2**\n\n### Por Pedro Nunes Guth\n\n---\n\nTá, mas o que é um Vector Store? Imagina que você tem uma biblioteca GIGANTE com milhões de livros, mas não tem um sistema de catalogação. Como você acharia o livro que precisa? Impossível, né?\n\nÉ exatamente isso que fazemos com informações quando usamos Vector Stores! Transformamos textos em \"impressões digitais matemáticas\" (embeddings) e organizamos tudo de forma que a IA consiga achar rapidinho o que precisa.\n\nNos módulos anteriores, vimos como carregar e dividir documentos. Agora vamos aprender como fazer a IA \"entender\" e organizar essas informações para usar no RAG (que vem no próximo módulo)!\n\n**🎯 O que vamos ver:**\n- O que são embeddings na prática\n- Como funciona um Vector Store\n- Implementação com LangChain v0.2\n- Similaridade semântica\n- Preparação para RAG"
      ]
    },
    {
      "cell_type": "markdown",
      "metadata": {},
      "source": [
        "## 🤔 Mas Afinal, O Que São Embeddings?\n\nTá, vou explicar com uma analogia que todo brasileiro entende: **DNA das palavras**!\n\nSabe como cada pessoa tem um DNA único que define suas características? Embeddings são como o \"DNA semântico\" das palavras e frases!\n\n### 📊 Matematicamente Falando:\n\nUm embedding é uma representação vetorial densa de texto em um espaço multidimensional (geralmente 768, 1024 ou 1536 dimensões).\n\n$$\\text{embedding}(\\text{\"cachorro\"}) = [0.2, -0.1, 0.8, ..., 0.3] \\in \\mathbb{R}^n$$\n\nonde $n$ é o número de dimensões do modelo.\n\n### 🧪 A Mágica da Similaridade:\n\nPalavras com significados similares têm embeddings próximos no espaço vetorial:\n\n$$\\text{similaridade}(v_1, v_2) = \\frac{v_1 \\cdot v_2}{||v_1|| \\cdot ||v_2||}$$\n\nIsso significa que \"cachorro\" e \"cão\" terão vetores bem próximos!\n\n**💡 Dica do Pedro:** Pensa assim: se as palavras fossem pessoas numa festa, as que têm assuntos em comum ficariam conversando perto umas das outras!"
      ]
    },
    {
      "cell_type": "code",
      "metadata": {},
      "execution_count": null,
      "outputs": [],
      "source": [
        "# Bora instalar as dependências!\n",
        "!pip install langchain langchain-community langchain-google-genai\n",
        "!pip install faiss-cpu sentence-transformers\n",
        "!pip install numpy matplotlib seaborn plotly"
      ]
    },
    {
      "cell_type": "code",
      "metadata": {},
      "execution_count": null,
      "outputs": [],
      "source": [
        "# Imports essenciais para nosso laboratório de embeddings\n",
        "import numpy as np\n",
        "import matplotlib.pyplot as plt\n",
        "import seaborn as sns\n",
        "from sklearn.decomposition import PCA\n",
        "from sklearn.metrics.pairwise import cosine_similarity\n",
        "import warnings\n",
        "warnings.filterwarnings('ignore')\n",
        "\n",
        "# LangChain imports - a nova geração!\n",
        "from langchain_google_genai import GoogleGenerativeAIEmbeddings\n",
        "from langchain_community.vectorstores import FAISS\n",
        "from langchain_community.embeddings import HuggingFaceEmbeddings\n",
        "from langchain.schema import Document\n",
        "\n",
        "print(\"🚀 Todas as bibliotecas carregadas! Bora para a aventura dos vetores!\")"
      ]
    },
    {
      "cell_type": "code",
      "metadata": {},
      "execution_count": null,
      "outputs": [],
      "source": [
        "# Configurando nossa chave da Google (você vai precisar da sua!)\n",
        "import os\n",
        "from google.colab import userdata\n",
        "\n",
        "# Se estiver no Colab, use:\n",
        "# os.environ[\"GOOGLE_API_KEY\"] = userdata.get('GOOGLE_API_KEY')\n",
        "\n",
        "# Se estiver local, descomente e coloque sua chave:\n",
        "# os.environ[\"GOOGLE_API_KEY\"] = \"sua_chave_aqui\"\n",
        "\n",
        "print(\"🔐 Chaves configuradas! Vamos embeddar tudo!\")"
      ]
    },
    {
      "cell_type": "markdown",
      "metadata": {},
      "source": [
        "## 🎯 Primeiro Contato: Criando Nossos Primeiros Embeddings\n\nVamos começar com o básico: transformar texto em vetores! É como traduzir português para \"matematiquês\" que a IA entende.\n\n### 🔧 Tipos de Modelos de Embedding:\n\n1. **Google Embeddings**: Integrados com Gemini\n2. **Sentence Transformers**: Gratuitos e poderosos\n3. **OpenAI Embeddings**: Caros mas eficientes\n\n**💡 Dica do Pedro:** Para estudar, use Sentence Transformers. Para produção séria, Google ou OpenAI!"
      ]
    },
    {
      "cell_type": "code",
      "metadata": {},
      "execution_count": null,
      "outputs": [],
      "source": [
        "# Vamos criar nosso primeiro modelo de embedding!\n",
        "# Usando um modelo gratuito para começar\n",
        "\n",
        "# Modelo brasileiro que funciona bem em português!\n",
        "embeddings_model = HuggingFaceEmbeddings(\n",
        "    model_name=\"sentence-transformers/paraphrase-multilingual-MiniLM-L12-v2\",\n",
        "    model_kwargs={'device': 'cpu'}  # Usa CPU mesmo\n",
        ")\n",
        "\n",
        "print(\"🎉 Modelo de embedding carregado!\")\n",
        "print(f\"📊 Dimensões do vetor: Vamos descobrir...\")"
      ]
    },
    {
      "cell_type": "code",
      "metadata": {},
      "execution_count": null,
      "outputs": [],
      "source": [
        "# Testando nosso modelo com frases brasileiras!\n",
        "frases_teste = [\n",
        "    \"Eu amo programar em Python\",\n",
        "    \"Adoro desenvolver com Python\", \n",
        "    \"Python é uma linguagem incrível\",\n",
        "    \"Hoje está chovendo muito\",\n",
        "    \"O clima está chuvoso\",\n",
        "    \"Vou comer pizza hoje\"\n",
        "]\n",
        "\n",
        "# Gerando embeddings para cada frase\n",
        "print(\"🧠 Gerando embeddings...\")\n",
        "embeddings_frases = []\n",
        "\n",
        "for i, frase in enumerate(frases_teste):\n",
        "    embedding = embeddings_model.embed_query(frase)\n",
        "    embeddings_frases.append(embedding)\n",
        "    print(f\"📝 Frase {i+1}: '{frase}'\")\n",
        "    print(f\"🔢 Dimensões: {len(embedding)}\")\n",
        "    print(f\"📊 Primeiros 5 valores: {embedding[:5]}\")\n",
        "    print(\"-\" * 50)\n",
        "\n",
        "print(\"✅ Todos os embeddings gerados!\")"
      ]
    },
    {
      "cell_type": "markdown",
      "metadata": {},
      "source": [
        "## 📈 Visualizando a Mágica dos Embeddings\n\nTá, mas como visualizar 384 dimensões? É impossível! Mas temos um truque: **PCA (Análise de Componentes Principais)**.\n\nÉ como pegar uma foto 3D e fazer uma sombra 2D na parede - perdemos informação, mas conseguimos \"ver\" as relações!\n\n![](/Users/pedroguth/Downloads/Projetos/Book Maker/5-Imagens/langchain---usando-versão-v0.2-modulo-07_img_01.png)"
      ]
    },
    {
      "cell_type": "code",
      "metadata": {},
      "execution_count": null,
      "outputs": [],
      "source": [
        "# Vamos visualizar nossos embeddings em 2D!\n",
        "# É como fazer uma \"radiografia\" dos vetores\n",
        "\n",
        "# Convertendo para numpy array para facilitar\n",
        "embeddings_array = np.array(embeddings_frases)\n",
        "print(f\"📊 Shape dos embeddings: {embeddings_array.shape}\")\n",
        "\n",
        "# Aplicando PCA para reduzir para 2D\n",
        "pca = PCA(n_components=2, random_state=42)\n",
        "embeddings_2d = pca.fit_transform(embeddings_array)\n",
        "\n",
        "print(f\"📉 Variância explicada: {pca.explained_variance_ratio_}\")\n",
        "print(f\"📊 Total de variância capturada: {sum(pca.explained_variance_ratio_):.2%}\")"
      ]
    },
    {
      "cell_type": "code",
      "metadata": {},
      "execution_count": null,
      "outputs": [],
      "source": [
        "# Criando o gráfico dos embeddings - a visualização da mágica!\n",
        "plt.figure(figsize=(12, 8))\n",
        "\n",
        "# Cores diferentes para temas diferentes\n",
        "cores = ['red', 'red', 'red', 'blue', 'blue', 'green']\n",
        "temas = ['Python', 'Python', 'Python', 'Clima', 'Clima', 'Comida']\n",
        "\n",
        "# Plotando os pontos\n",
        "for i, (x, y) in enumerate(embeddings_2d):\n",
        "    plt.scatter(x, y, c=cores[i], s=100, alpha=0.7)\n",
        "    plt.annotate(f\"{i+1}: {temas[i]}\", \n",
        "                xy=(x, y), \n",
        "                xytext=(5, 5), \n",
        "                textcoords='offset points',\n",
        "                fontsize=10,\n",
        "                bbox=dict(boxstyle='round,pad=0.3', facecolor=cores[i], alpha=0.3))\n",
        "\n",
        "plt.title('🎯 Visualização dos Embeddings - Frases Similares Ficam Juntas!', fontsize=14)\n",
        "plt.xlabel('Componente Principal 1')\n",
        "plt.ylabel('Componente Principal 2')\n",
        "plt.grid(True, alpha=0.3)\n",
        "\n",
        "# Legenda\n",
        "plt.scatter([], [], c='red', label='Programação Python', s=100)\n",
        "plt.scatter([], [], c='blue', label='Clima/Chuva', s=100)\n",
        "plt.scatter([], [], c='green', label='Comida', s=100)\n",
        "plt.legend()\n",
        "\n",
        "plt.tight_layout()\n",
        "plt.show()\n",
        "\n",
        "print(\"🎨 Liiindo! Viu como as frases similares ficam próximas?\")"
      ]
    },
    {
      "cell_type": "markdown",
      "metadata": {},
      "source": [
        "## 🔍 Calculando Similaridades: A Matemática do \"Parecido\"\n\nAgora vamos calcular exatamente o quão \"parecidas\" são nossas frases usando **similaridade cosseno**.\n\n### 📐 Fórmula da Similaridade Cosseno:\n\n$$\\cos(\\theta) = \\frac{A \\cdot B}{||A|| \\cdot ||B||} = \\frac{\\sum_{i=1}^{n} A_i B_i}{\\sqrt{\\sum_{i=1}^{n} A_i^2} \\sqrt{\\sum_{i=1}^{n} B_i^2}}$$\n\n**Onde:**\n- 1.0 = Idênticos\n- 0.0 = Sem relação  \n- -1.0 = Opostos\n\n**💡 Dica do Pedro:** É como medir o ângulo entre dois vetores. Quanto menor o ângulo, mais parecidos!"
      ]
    },
    {
      "cell_type": "code",
      "metadata": {},
      "execution_count": null,
      "outputs": [],
      "source": [
        "# Calculando a matriz de similaridade - quem é parecido com quem?\n",
        "similaridade_matrix = cosine_similarity(embeddings_array)\n",
        "\n",
        "print(\"🧮 Matriz de Similaridade Cosseno:\")\n",
        "print(\"(1.0 = idênticos, 0.0 = sem relação)\\n\")\n",
        "\n",
        "# Criando labels mais legíveis\n",
        "labels = [\n",
        "    \"Amo Python\",\n",
        "    \"Adoro Python\", \n",
        "    \"Python incrível\",\n",
        "    \"Chovendo muito\",\n",
        "    \"Clima chuvoso\",\n",
        "    \"Comer pizza\"\n",
        "]\n",
        "\n",
        "# Mostrando a matriz bonitinha\n",
        "for i, frase1 in enumerate(labels):\n",
        "    for j, frase2 in enumerate(labels):\n",
        "        if i <= j:  # Só mostra a parte superior da matriz\n",
        "            score = similaridade_matrix[i][j]\n",
        "            emoji = \"🔥\" if score > 0.8 and i != j else \"✅\" if score > 0.6 and i != j else \"➡️\" if i == j else \"❌\"\n",
        "            print(f\"{emoji} '{frase1}' vs '{frase2}': {score:.3f}\")\n",
        "    print()"
      ]
    },
    {
      "cell_type": "code",
      "metadata": {},
      "execution_count": null,
      "outputs": [],
      "source": [
        "# Criando um heatmap da similaridade - visual e bonito!\n",
        "plt.figure(figsize=(10, 8))\n",
        "\n",
        "# Heatmap com seaborn\n",
        "sns.heatmap(similaridade_matrix, \n",
        "            xticklabels=labels,\n",
        "            yticklabels=labels,\n",
        "            annot=True,\n",
        "            fmt='.2f',\n",
        "            cmap='RdYlBu_r',\n",
        "            center=0.5,\n",
        "            square=True,\n",
        "            cbar_kws={'label': 'Similaridade Cosseno'})\n",
        "\n",
        "plt.title('🔥 Mapa de Calor da Similaridade\\nQuanto mais vermelho, mais parecido!', fontsize=14)\n",
        "plt.xticks(rotation=45, ha='right')\n",
        "plt.yticks(rotation=0)\n",
        "plt.tight_layout()\n",
        "plt.show()\n",
        "\n",
        "print(\"🎨 Agora dá pra ver claramente quem é parecido com quem!\")"
      ]
    },
    {
      "cell_type": "markdown",
      "metadata": {},
      "source": [
        "## 🗄️ Vector Stores: A Biblioteca Organizada da IA\n\nTá, mas e se tivermos milhões de documentos? Não dá pra calcular similaridade com tudo na mão!\n\nEntra o **Vector Store** - é como uma biblioteca super organizada onde:\n- 📚 Cada livro (documento) tem sua \"impressão digital\" (embedding)\n- 🔍 Quando você procura algo, ele acha os mais parecidos rapidinho\n- ⚡ Usa algoritmos especiais (como FAISS) para busca ultra-rápida\n\n### 🏗️ Como Funciona um Vector Store:\n\n```mermaid\ngraph TD\n    A[Documento Original] --> B[Gerar Embedding]\n    B --> C[Armazenar no Vector Store]\n    D[Query do Usuário] --> E[Gerar Embedding da Query]\n    E --> F[Buscar Similares no Vector Store]\n    F --> G[Retornar Documentos Mais Relevantes]\n    C --> F\n```\n\n**💡 Dica do Pedro:** É como o Spotify que recomenda músicas parecidas com o que você gosta, mas para textos!"
      ]
    },
    {
      "cell_type": "code",
      "metadata": {},
      "execution_count": null,
      "outputs": [],
      "source": [
        "# Vamos criar nosso primeiro Vector Store!\n",
        "# Usando FAISS - Facebook AI Similarity Search (gratuito e rápido)\n",
        "\n",
        "# Primeiro, criamos documentos estruturados (lembra do módulo 6?)\n",
        "documentos_exemplo = [\n",
        "    Document(\n",
        "        page_content=\"Python é uma linguagem de programação interpretada de alto nível.\",\n",
        "        metadata={\"fonte\": \"wikipedia\", \"categoria\": \"programação\"}\n",
        "    ),\n",
        "    Document(\n",
        "        page_content=\"LangChain é um framework para desenvolver aplicações com modelos de linguagem.\",\n",
        "        metadata={\"fonte\": \"docs\", \"categoria\": \"programação\"}\n",
        "    ),\n",
        "    Document(\n",
        "        page_content=\"Inteligência artificial está revolucionando a tecnologia moderna.\",\n",
        "        metadata={\"fonte\": \"artigo\", \"categoria\": \"tecnologia\"}\n",
        "    ),\n",
        "    Document(\n",
        "        page_content=\"Machine learning permite que computadores aprendam sem programação explícita.\",\n",
        "        metadata={\"fonte\": \"livro\", \"categoria\": \"tecnologia\"}\n",
        "    ),\n",
        "    Document(\n",
        "        page_content=\"O futebol é o esporte mais popular do Brasil.\",\n",
        "        metadata={\"fonte\": \"esporte\", \"categoria\": \"esporte\"}\n",
        "    ),\n",
        "    Document(\n",
        "        page_content=\"A culinária brasileira é muito diversificada e saborosa.\",\n",
        "        metadata={\"fonte\": \"gastronomia\", \"categoria\": \"cultura\"}\n",
        "    )\n",
        "]\n",
        "\n",
        "print(f\"📚 Criamos {len(documentos_exemplo)} documentos para nosso vector store!\")\n",
        "print(\"\\n📋 Resumo dos documentos:\")\n",
        "for i, doc in enumerate(documentos_exemplo):\n",
        "    print(f\"{i+1}. {doc.page_content[:50]}... [{doc.metadata['categoria']}]\")"
      ]
    },
    {
      "cell_type": "code",
      "metadata": {},
      "execution_count": null,
      "outputs": [],
      "source": [
        "# Criando nosso Vector Store com FAISS\n",
        "print(\"🏗️ Construindo o Vector Store...\")\n",
        "print(\"📊 Gerando embeddings para todos os documentos...\")\n",
        "\n",
        "# FAISS.from_documents faz toda a mágica:\n",
        "# 1. Gera embeddings para cada documento\n",
        "# 2. Cria o índice FAISS\n",
        "# 3. Armazena tudo organizadinho\n",
        "vector_store = FAISS.from_documents(\n",
        "    documents=documentos_exemplo,\n",
        "    embedding=embeddings_model\n",
        ")\n",
        "\n",
        "print(\"✅ Vector Store criado com sucesso!\")\n",
        "print(f\"📈 Número de documentos indexados: {vector_store.index.ntotal}\")\n",
        "print(\"🚀 Agora podemos fazer buscas semânticas ultra-rápidas!\")"
      ]
    },
    {
      "cell_type": "markdown",
      "metadata": {},
      "source": [
        "## 🔍 Busca Semântica: A Mágica Acontece Aqui!\n\nAgora vem a parte mais **LINDA** do Vector Store: busca semântica!\n\nDiferente de busca tradicional (que procura palavras exatas), a busca semântica entende o **significado**!\n\n### 🆚 Comparação:\n- **Busca Tradicional:** \"cachorro\" ≠ \"cão\" \n- **Busca Semântica:** \"cachorro\" ≈ \"cão\" ≈ \"pet\" ≈ \"animal doméstico\"\n\n![](/Users/pedroguth/Downloads/Projetos/Book Maker/5-Imagens/langchain---usando-versão-v0.2-modulo-07_img_02.png)"
      ]
    },
    {
      "cell_type": "code",
      "metadata": {},
      "execution_count": null,
      "outputs": [],
      "source": [
        "# Vamos testar nossa busca semântica!\n",
        "def busca_semantica(query, k=3):\n",
        "    \"\"\"Função para fazer busca semântica e mostrar resultados bonitinhos\"\"\"\n",
        "    print(f\"🔍 Buscando por: '{query}'\")\n",
        "    print(\"=\"*60)\n",
        "    \n",
        "    # Busca por similaridade\n",
        "    resultados = vector_store.similarity_search_with_score(query, k=k)\n",
        "    \n",
        "    for i, (doc, score) in enumerate(resultados, 1):\n",
        "        # Convertendo score do FAISS (distância) para similaridade\n",
        "        similaridade = 1 / (1 + score)  # Quanto menor a distância, maior a similaridade\n",
        "        \n",
        "        print(f\"🏆 Resultado {i} - Similaridade: {similaridade:.3f}\")\n",
        "        print(f\"📝 Conteúdo: {doc.page_content}\")\n",
        "        print(f\"🏷️ Categoria: {doc.metadata['categoria']}\")\n",
        "        print(f\"📊 Score FAISS: {score:.3f}\")\n",
        "        print(\"-\" * 40)\n",
        "    \n",
        "    return resultados\n",
        "\n",
        "print(\"🎯 Função de busca semântica pronta! Vamos testar...\")"
      ]
    },
    {
      "cell_type": "code",
      "metadata": {},
      "execution_count": null,
      "outputs": [],
      "source": [
        "# Teste 1: Buscando sobre programação\n",
        "resultados1 = busca_semantica(\"Como programar em linguagens de código?\", k=3)"
      ]
    },
    {
      "cell_type": "code",
      "metadata": {},
      "execution_count": null,
      "outputs": [],
      "source": [
        "# Teste 2: Buscando sobre IA/tecnologia\n",
        "resultados2 = busca_semantica(\"Algoritmos que aprendem sozinhos\", k=3)"
      ]
    },
    {
      "cell_type": "code",
      "metadata": {},
      "execution_count": null,
      "outputs": [],
      "source": [
        "# Teste 3: Buscando sobre cultura brasileira\n",
        "resultados3 = busca_semantica(\"Tradições e comida do Brasil\", k=2)"
      ]
    },
    {
      "cell_type": "markdown",
      "metadata": {},
      "source": [
        "## ⚙️ Configurações Avançadas do Vector Store\n\nBora turbinar nosso Vector Store! Tem várias configurações que fazem diferença na qualidade da busca.\n\n### 🎛️ Parâmetros Importantes:\n\n1. **k**: Quantos resultados retornar\n2. **fetch_k**: Quantos candidatos buscar internamente (sempre >= k)\n3. **lambda_mult**: Para MMR (Maximum Marginal Relevance) - diversidade vs relevância\n4. **score_threshold**: Filtro por score mínimo\n\n**💡 Dica do Pedro:** Fetch_k maior = busca mais precisa mas mais lenta. É o trade-off clássico!"
      ]
    },
    {
      "cell_type": "code",
      "metadata": {},
      "execution_count": null,
      "outputs": [],
      "source": [
        "# Testando diferentes tipos de busca\n",
        "query_teste = \"Desenvolvimento de software com IA\"\n",
        "\n",
        "print(\"🧪 Comparando diferentes tipos de busca:\\n\")\n",
        "\n",
        "# 1. Busca simples por similaridade\n",
        "print(\"1️⃣ BUSCA POR SIMILARIDADE SIMPLES:\")\n",
        "docs_similaridade = vector_store.similarity_search(query_teste, k=2)\n",
        "for i, doc in enumerate(docs_similaridade, 1):\n",
        "    print(f\"   {i}. {doc.page_content[:60]}...\")\n",
        "\n",
        "print(\"\\n\" + \"=\"*60 + \"\\n\")\n",
        "\n",
        "# 2. Busca com score\n",
        "print(\"2️⃣ BUSCA COM SCORE:\")\n",
        "docs_com_score = vector_store.similarity_search_with_score(query_teste, k=2)\n",
        "for i, (doc, score) in enumerate(docs_com_score, 1):\n",
        "    print(f\"   {i}. Score: {score:.3f} - {doc.page_content[:50]}...\")\n",
        "\n",
        "print(\"\\n\" + \"=\"*60 + \"\\n\")\n",
        "\n",
        "# 3. MMR (Maximum Marginal Relevance) - busca diversificada\n",
        "print(\"3️⃣ BUSCA COM MMR (diversificada):\")\n",
        "docs_mmr = vector_store.max_marginal_relevance_search(\n",
        "    query_teste, \n",
        "    k=2, \n",
        "    fetch_k=4,  # Busca 4 candidatos internamente\n",
        "    lambda_mult=0.7  # 0.7 = balanceado, 1.0 = só relevância, 0.0 = só diversidade\n",
        ")\n",
        "for i, doc in enumerate(docs_mmr, 1):\n",
        "    print(f\"   {i}. {doc.page_content[:60]}...\")\n",
        "\n",
        "print(\"\\n✅ Viu a diferença? MMR tenta trazer resultados relevantes MAS diversos!\")"
      ]
    },
    {
      "cell_type": "markdown",
      "metadata": {},
      "source": [
        "## 📊 Análise de Performance: Medindo a Qualidade\n\nComo saber se nosso Vector Store tá funcionando bem? Vamos criar métricas!\n\n### 📈 Métricas Importantes:\n\n1. **Tempo de busca**: Velocidade das consultas\n2. **Precisão**: Relevância dos resultados\n3. **Diversidade**: Variedade dos resultados\n4. **Cobertura**: Capacidade de achar informação relevante\n\n![](/Users/pedroguth/Downloads/Projetos/Book Maker/5-Imagens/langchain---usando-versão-v0.2-modulo-07_img_03.png)"
      ]
    },
    {
      "cell_type": "code",
      "metadata": {},
      "execution_count": null,
      "outputs": [],
      "source": [
        "# Vamos medir a performance do nosso Vector Store!\n",
        "import time\n",
        "\n",
        "def medir_performance_busca(queries, vector_store, k=3, num_testes=5):\n",
        "    \"\"\"Mede tempo e analisa qualidade das buscas\"\"\"\n",
        "    resultados_performance = []\n",
        "    \n",
        "    for query in queries:\n",
        "        print(f\"⏱️ Testando query: '{query}'\")\n",
        "        tempos = []\n",
        "        \n",
        "        # Múltiplos testes para média confiável\n",
        "        for i in range(num_testes):\n",
        "            start_time = time.time()\n",
        "            docs = vector_store.similarity_search(query, k=k)\n",
        "            end_time = time.time()\n",
        "            tempos.append(end_time - start_time)\n",
        "        \n",
        "        tempo_medio = np.mean(tempos)\n",
        "        tempo_std = np.std(tempos)\n",
        "        \n",
        "        # Análise de diversidade (categorias diferentes nos resultados)\n",
        "        categorias = [doc.metadata['categoria'] for doc in docs]\n",
        "        diversidade = len(set(categorias)) / len(categorias)\n",
        "        \n",
        "        resultados_performance.append({\n",
        "            'query': query,\n",
        "            'tempo_medio': tempo_medio,\n",
        "            'tempo_std': tempo_std,\n",
        "            'diversidade': diversidade,\n",
        "            'categorias_encontradas': categorias\n",
        "        })\n",
        "        \n",
        "        print(f\"   ⚡ Tempo médio: {tempo_medio*1000:.2f}ms (±{tempo_std*1000:.2f}ms)\")\n",
        "        print(f\"   🎯 Diversidade: {diversidade:.2f}\")\n",
        "        print(f\"   📋 Categorias: {categorias}\")\n",
        "        print()\n",
        "    \n",
        "    return resultados_performance\n",
        "\n",
        "# Queries de teste\n",
        "queries_teste = [\n",
        "    \"programação e desenvolvimento\",\n",
        "    \"inteligência artificial\",\n",
        "    \"cultura brasileira\",\n",
        "    \"aprendizado de máquina\"\n",
        "]\n",
        "\n",
        "print(\"🚀 Iniciando testes de performance...\\n\")\n",
        "performance_results = medir_performance_busca(queries_teste, vector_store)"
      ]
    },
    {
      "cell_type": "code",
      "metadata": {},
      "execution_count": null,
      "outputs": [],
      "source": [
        "# Visualizando os resultados de performance\n",
        "fig, (ax1, ax2) = plt.subplots(1, 2, figsize=(15, 6))\n",
        "\n",
        "# Gráfico 1: Tempo de busca\n",
        "queries = [r['query'] for r in performance_results]\n",
        "tempos = [r['tempo_medio']*1000 for r in performance_results]  # em ms\n",
        "erros = [r['tempo_std']*1000 for r in performance_results]\n",
        "\n",
        "bars1 = ax1.bar(range(len(queries)), tempos, yerr=erros, \n",
        "                capsize=5, alpha=0.7, color='skyblue')\n",
        "ax1.set_title('⚡ Tempo de Busca por Query', fontsize=12)\n",
        "ax1.set_ylabel('Tempo (ms)')\n",
        "ax1.set_xticks(range(len(queries)))\n",
        "ax1.set_xticklabels([q[:15] + '...' if len(q) > 15 else q for q in queries], \n",
        "                    rotation=45, ha='right')\n",
        "\n",
        "# Adicionando valores nas barras\n",
        "for i, bar in enumerate(bars1):\n",
        "    height = bar.get_height()\n",
        "    ax1.text(bar.get_x() + bar.get_width()/2., height + erros[i]/2,\n",
        "             f'{height:.1f}ms', ha='center', va='bottom', fontsize=9)\n",
        "\n",
        "# Gráfico 2: Diversidade dos resultados\n",
        "diversidades = [r['diversidade'] for r in performance_results]\n",
        "bars2 = ax2.bar(range(len(queries)), diversidades, \n",
        "                alpha=0.7, color='lightcoral')\n",
        "ax2.set_title('🎯 Diversidade dos Resultados', fontsize=12)\n",
        "ax2.set_ylabel('Score de Diversidade (0-1)')\n",
        "ax2.set_ylim(0, 1)\n",
        "ax2.set_xticks(range(len(queries)))\n",
        "ax2.set_xticklabels([q[:15] + '...' if len(q) > 15 else q for q in queries], \n",
        "                    rotation=45, ha='right')\n",
        "\n",
        "# Adicionando valores nas barras\n",
        "for i, bar in enumerate(bars2):\n",
        "    height = bar.get_height()\n",
        "    ax2.text(bar.get_x() + bar.get_width()/2., height + 0.02,\n",
        "             f'{height:.2f}', ha='center', va='bottom', fontsize=9)\n",
        "\n",
        "plt.tight_layout()\n",
        "plt.show()\n",
        "\n",
        "# Estatísticas resumo\n",
        "tempo_total_medio = np.mean([r['tempo_medio'] for r in performance_results])\n",
        "diversidade_media = np.mean([r['diversidade'] for r in performance_results])\n",
        "\n",
        "print(f\"📊 RESUMO DA PERFORMANCE:\")\n",
        "print(f\"⚡ Tempo médio de busca: {tempo_total_medio*1000:.2f}ms\")\n",
        "print(f\"🎯 Diversidade média: {diversidade_media:.2f}\")\n",
        "print(f\"💡 Vector Store funcionando {'🚀 EXCELENTE!' if tempo_total_medio < 0.01 else '✅ BEM!'}\")"
      ]
    },
    {
      "cell_type": "markdown",
      "metadata": {},
      "source": [
        "## 💾 Salvando e Carregando Vector Stores\n\nE se quisermos salvar nosso Vector Store? Não queremos ficar recriando embeddings toda hora!\n\n### 🔄 Persistence Strategies:\n\n1. **Local**: Salva em disco (FAISS suporta nativamente)\n2. **Cloud**: AWS S3, Google Cloud Storage\n3. **Database**: PostgreSQL com pgvector, Pinecone, Weaviate\n\n**💡 Dica do Pedro:** Para desenvolvimento, use local. Para produção, considere soluções cloud!"
      ]
    },
    {
      "cell_type": "code",
      "metadata": {},
      "execution_count": null,
      "outputs": [],
      "source": [
        "# Salvando nosso Vector Store\n",
        "import os\n",
        "\n",
        "# Criando diretório se não existir\n",
        "vector_store_path = \"./meu_vector_store\"\n",
        "os.makedirs(vector_store_path, exist_ok=True)\n",
        "\n",
        "print(\"💾 Salvando Vector Store...\")\n",
        "\n",
        "# FAISS permite salvar o índice\n",
        "vector_store.save_local(vector_store_path)\n",
        "\n",
        "print(f\"✅ Vector Store salvo em: {vector_store_path}\")\n",
        "print(\"📁 Arquivos criados:\")\n",
        "for arquivo in os.listdir(vector_store_path):\n",
        "    tamanho = os.path.getsize(os.path.join(vector_store_path, arquivo))\n",
        "    print(f\"   📄 {arquivo}: {tamanho} bytes\")"
      ]
    },
    {
      "cell_type": "code",
      "metadata": {},
      "execution_count": null,
      "outputs": [],
      "source": [
        "# Carregando Vector Store salvo\n",
        "print(\"📂 Carregando Vector Store do disco...\")\n",
        "\n",
        "# Carregando o vector store salvo\n",
        "vector_store_carregado = FAISS.load_local(\n",
        "    vector_store_path, \n",
        "    embeddings_model,\n",
        "    allow_dangerous_deserialization=True  # Necessário para arquivos locais\n",
        ")\n",
        "\n",
        "print(\"✅ Vector Store carregado com sucesso!\")\n",
        "print(f\"📊 Documentos no índice: {vector_store_carregado.index.ntotal}\")\n",
        "\n",
        "# Testando se funciona\n",
        "print(\"\\n🧪 Testando vector store carregado:\")\n",
        "teste_docs = vector_store_carregado.similarity_search(\"Python programming\", k=2)\n",
        "for i, doc in enumerate(teste_docs, 1):\n",
        "    print(f\"   {i}. {doc.page_content[:50]}...\")\n",
        "\n",
        "print(\"\\n🎉 Liiindo! Funciona perfeitamente!\")"
      ]
    },
    {
      "cell_type": "markdown",
      "metadata": {},
      "source": [
        "## 🏋️‍♀️ Exercício Prático 1: Construa Seu Próprio Vector Store\n\nAgora é sua vez! Vamos criar um Vector Store com documentos sobre o Brasil.\n\n**🎯 Seu Desafio:**\n1. Criar 8 documentos sobre diferentes aspectos do Brasil\n2. Construir um Vector Store\n3. Fazer 3 buscas diferentes\n4. Analisar os resultados\n\n**💡 Dica do Pedro:** Pense em categorias como: geografia, cultura, economia, história, esporte, culinária!"
      ]
    },
    {
      "cell_type": "code",
      "metadata": {},
      "execution_count": null,
      "outputs": [],
      "source": [
        "# SEU CÓDIGO AQUI!\n",
        "# 1. Crie uma lista com 8 Document objects sobre o Brasil\n",
        "# Exemplo de estrutura:\n",
        "\n",
        "meus_documentos_brasil = [\n",
        "    # Document(\n",
        "    #     page_content=\"Sua informação sobre o Brasil aqui...\",\n",
        "    #     metadata={\"categoria\": \"geografia\", \"fonte\": \"exemplo\"}\n",
        "    # ),\n",
        "    # ... adicione mais 7 documentos\n",
        "]\n",
        "\n",
        "# SEU CÓDIGO PARA:\n",
        "# 2. Criar o vector store\n",
        "# 3. Fazer 3 buscas diferentes\n",
        "# 4. Mostrar os resultados\n",
        "\n",
        "print(\"🚧 Escreva seu código aqui!\")\n",
        "print(\"💪 Você consegue! Bora praticar!\")"
      ]
    },
    {
      "cell_type": "markdown",
      "metadata": {},
      "source": [
        "## 🔬 Exercício Prático 2: Comparando Modelos de Embedding\n\nDiferentes modelos de embedding podem dar resultados diferentes! Vamos comparar.\n\n**🎯 Seu Desafio:**\n1. Usar dois modelos diferentes (ex: multilingual vs português específico)\n2. Fazer a mesma busca com ambos\n3. Comparar os resultados\n4. Analisar qual funciona melhor\n\n**💡 Dica do Pedro:** Teste com frases em português bem brasileiro para ver a diferença!"
      ]
    },
    {
      "cell_type": "code",
      "metadata": {},
      "execution_count": null,
      "outputs": [],
      "source": [
        "# EXERCÍCIO: Compare dois modelos de embedding\n",
        "\n",
        "# Modelo 1: Já temos o multilingual\n",
        "modelo1 = embeddings_model\n",
        "\n",
        "# Modelo 2: Tente outro modelo (descomente uma opção):\n",
        "# modelo2 = HuggingFaceEmbeddings(model_name=\"sentence-transformers/all-MiniLM-L6-v2\")\n",
        "# modelo2 = HuggingFaceEmbeddings(model_name=\"neuralmind/bert-base-portuguese-cased\")\n",
        "\n",
        "# SEU CÓDIGO AQUI!\n",
        "# 1. Crie dois vector stores com o mesmo conteúdo mas modelos diferentes\n",
        "# 2. Faça a mesma busca em ambos\n",
        "# 3. Compare os resultados\n",
        "\n",
        "print(\"🧪 Implemente a comparação de modelos aqui!\")\n",
        "print(\"🔬 Ciência de dados na prática!\")"
      ]
    },
    {
      "cell_type": "markdown",
      "metadata": {},
      "source": [
        "## 🚀 Conectando com o RAG: Preparando o Terreno\n\nAgora que dominamos Vector Stores, vamos ver como isso se conecta com RAG (Retrieval-Augmented Generation) que veremos no **próximo módulo**!\n\n### 🔗 Como Vector Store + RAG Funcionam Juntos:\n\n```mermaid\ngraph LR\n    A[Pergunta do Usuário] --> B[Vector Store]\n    B --> C[Documentos Relevantes]\n    C --> D[LLM + Contexto]\n    D --> E[Resposta Fundamentada]\n    \n    F[Base de Conhecimento] --> B\n```\n\n**💡 Dica do Pedro:** O Vector Store é o \"cérebro\" que lembra das informações. O LLM é a \"boca\" que fala baseado no que o cérebro lembrou!"
      ]
    },
    {
      "cell_type": "code",
      "metadata": {},
      "execution_count": null,
      "outputs": [],
      "source": [
        "# Preview do RAG - uma pitadinha do que vem por aí!\n",
        "def preview_rag(query, vector_store, top_k=2):\n",
        "    \"\"\"Mini demonstração de como seria um RAG simples\"\"\"\n",
        "    print(f\"🤖 PREVIEW RAG: '{query}'\\n\")\n",
        "    \n",
        "    # 1. Busca documentos relevantes (Retrieval)\n",
        "    print(\"1️⃣ RETRIEVAL - Buscando documentos relevantes...\")\n",
        "    docs_relevantes = vector_store.similarity_search(query, k=top_k)\n",
        "    \n",
        "    contexto = \"\"\n",
        "    for i, doc in enumerate(docs_relevantes, 1):\n",
        "        contexto += f\"Documento {i}: {doc.page_content}\\n\"\n",
        "        print(f\"   📄 Doc {i}: {doc.page_content[:60]}...\")\n",
        "    \n",
        "    print(f\"\\n2️⃣ AUGMENTATION - Preparando contexto para o LLM...\")\n",
        "    \n",
        "    # 2. Monta prompt com contexto (Augmentation)\n",
        "    prompt_rag = f\"\"\"\n",
        "    Contexto relevante:\n",
        "    {contexto}\n",
        "    \n",
        "    Pergunta: {query}\n",
        "    \n",
        "    Responda baseado APENAS no contexto fornecido:\n",
        "    \"\"\"\n",
        "    \n",
        "    print(\"   ✅ Contexto preparado!\")\n",
        "    print(\"\\n3️⃣ GENERATION - Aqui entraria o LLM para gerar a resposta...\")\n",
        "    print(\"   🔮 No próximo módulo implementaremos isso completo!\")\n",
        "    \n",
        "    return prompt_rag, docs_relevantes\n",
        "\n",
        "# Testando nosso preview\n",
        "print(\"🎬 Demonstração de como será o RAG completo:\\n\")\n",
        "prompt_exemplo, docs_exemplo = preview_rag(\"Como aprender programação?\", vector_store)\n",
        "\n",
        "print(\"\\n\" + \"=\"*50)\n",
        "print(\"🚀 No Módulo 8, vamos implementar RAG completo com LangChain!\")"
      ]
    },
    {
      "cell_type": "markdown",
      "metadata": {},
      "source": [
        "## 📚 Resumo: O Que Aprendemos Hoje\n\n**Liiindo!** Que jornada incrível pelos Vector Stores e Embeddings! 🎉\n\n### ✅ Conceitos Dominados:\n\n1. **🧠 Embeddings**: \"DNA semântico\" das palavras\n   - Vetores multidimensionais que capturam significado\n   - Similaridade cosseno para medir \"parecimento\"\n\n2. **🗄️ Vector Stores**: Biblioteca organizada da IA\n   - FAISS para busca ultra-rápida\n   - Busca semântica vs busca tradicional\n\n3. **🔍 Tipos de Busca**:\n   - Similarity Search: Por relevância\n   - MMR: Balanceando relevância e diversidade\n   - Com scores: Para análise quantitativa\n\n4. **⚡ Performance**: Medindo qualidade e velocidade\n\n5. **💾 Persistence**: Salvando e carregando para reutilizar\n\n### 🔗 Conexões com o Curso:\n- **Módulo 6 ➡️ 7**: Document Loading → Vector Storage\n- **Módulo 7 ➡️ 8**: Vector Storage → RAG Implementation\n\n### 🎯 Próximos Passos:\nNo **Módulo 8**, vamos juntar tudo:\n- Vector Store (✅ dominado)\n- LLMs (✅ do Módulo 2)\n- Prompts (✅ do Módulo 3)\n- = **RAG COMPLETO** 🚀\n\n**💡 Dica Final do Pedro:** Vector Stores são a base de 80% das aplicações de IA moderna. Você acabou de dominar uma das tecnologias mais importantes do momento!\n\n![](/Users/pedroguth/Downloads/Projetos/Book Maker/5-Imagens/langchain---usando-versão-v0.2-modulo-07_img_04.png)"
      ]
    },
    {
      "cell_type": "markdown",
      "metadata": {},
      "source": [
        "## 🎊 Parabéns! Você é Oficialmente um Vector Store Expert!\n\n**🏆 Certificado Imaginário:** *\"Pedro Guth certifica que você domina Vector Stores e está pronto para RAG!\"*\n\n### 🚀 Para Casa:\n1. Experimente diferentes modelos de embedding\n2. Teste com seus próprios documentos\n3. Brinque com os parâmetros de busca\n4. Se prepare para o RAG no próximo módulo!\n\n### 📖 Leituras Extras (Opcional):\n- Documentação oficial do FAISS\n- Sentence Transformers documentation\n- Artigos sobre embedding models em português\n\n**Bora para o próximo módulo implementar RAG completo! 🚀**\n\n---\n*\"A diferença entre busca tradicional e semântica é como a diferença entre procurar pela palavra exata no dicionário vs entender o que a pessoa realmente quer dizer.\"* - Pedro Guth\n\n**#VectorStore #Embeddings #LangChain #RAG #IA**"
      ]
    }
  ]
}