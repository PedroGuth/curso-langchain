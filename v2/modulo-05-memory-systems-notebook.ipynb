{
  "nbformat": 4,
  "nbformat_minor": 0,
  "metadata": {
    "colab": {
      "provenance": []
    },
    "kernelspec": {
      "name": "python3",
      "display_name": "Python 3"
    },
    "language_info": {
      "name": "python"
    }
  },
  "cells": [
    {
      "cell_type": "markdown",
      "metadata": {},
      "source": [
        "# 🧠 Módulo 5: Memory Systems - A Memória dos Nossos Bots!\n\n### *\"Como fazer seu ChatBot lembrar das conversas anteriores (e não repetir a mesma pergunta 300 vezes!)\"*\n\n---\n\nEaí, pessoal! Tudo tranquilo? 🚀\n\nTá, mas o que diabos é um **Memory System**? Imagina que você tá conversando com seu amigo no WhatsApp e de repente ele esquece TUDO que vocês falaram 2 segundos atrás. Irritante, né?\n\nÉ exatamente isso que acontece com os LLMs por padrão - eles são como aquele peixinho Dory do Nemo: sem memória!\n\nNeste módulo vamos aprender:\n- ✅ Por que LLMs são \"sem memória\"\n- ✅ Tipos de Memory no LangChain\n- ✅ Como implementar cada tipo\n- ✅ Quando usar cada um\n- ✅ Dicas práticas para produção\n\n**Dica do Pedro**: Memory é o que transforma um bot \"burro\" em um assistente inteligente!"
      ]
    },
    {
      "cell_type": "markdown",
      "metadata": {},
      "source": [
        "## 🤔 Por que precisamos de Memory?\n\nTá, vamos começar com o básico: **LLMs são stateless**!\n\nIsso significa que cada vez que você faz uma pergunta, é como se fosse a primeira vez que você conversa com ele. É tipo assim:\n\n```\nVocê: \"Meu nome é João\"\nBot: \"Prazer, João!\"\n\nVocê: \"Qual é o meu nome?\"\nBot: \"Desculpa, não sei seu nome\" 🤦‍♂️\n```\n\nA **memória** resolve isso mantendo o contexto da conversa. É como dar um caderninho pro bot anotar tudo!\n\n### Analogia do Restaurante 🍕\n\nImagina um garçom que:\n- **Sem memória**: Pergunta seu pedido a cada 2 minutos\n- **Com memória**: Lembra do seu pedido e suas preferências\n\nQual você prefere? Óbvio, né!"
      ]
    },
    {
      "cell_type": "code",
      "metadata": {},
      "execution_count": null,
      "outputs": [],
      "source": [
        "# Bora começar! Primeiro, vamos instalar e importar tudo que precisamos\n",
        "!pip install langchain langchain-google-genai python-dotenv matplotlib -q\n",
        "\n",
        "import os\n",
        "from dotenv import load_dotenv\n",
        "import matplotlib.pyplot as plt\n",
        "import numpy as np\n",
        "from datetime import datetime\n",
        "\n",
        "# Imports do LangChain\n",
        "from langchain_google_genai import ChatGoogleGenerativeAI\n",
        "from langchain.memory import (\n",
        "    ConversationBufferMemory,\n",
        "    ConversationBufferWindowMemory,\n",
        "    ConversationSummaryMemory,\n",
        "    ConversationSummaryBufferMemory\n",
        ")\n",
        "from langchain.chains import ConversationChain\n",
        "from langchain.schema import BaseMessage, HumanMessage, AIMessage\n",
        "\n",
        "print(\"✅ Bibliotecas carregadas! Bora pro show!\")"
      ]
    },
    {
      "cell_type": "code",
      "metadata": {},
      "execution_count": null,
      "outputs": [],
      "source": [
        "# Configurando nossa API do Google (lembra dos módulos anteriores?)\n",
        "load_dotenv()\n",
        "\n",
        "# Se não tiver a API key, descomenta a linha abaixo e coloca sua chave\n",
        "# os.environ[\"GOOGLE_API_KEY\"] = \"sua-api-key-aqui\"\n",
        "\n",
        "# Nosso modelo padrão do curso\n",
        "llm = ChatGoogleGenerativeAI(\n",
        "    model=\"gemini-2.0-flash-exp\",\n",
        "    temperature=0.7\n",
        ")\n",
        "\n",
        "print(\"🤖 Modelo configurado! Gemini 2.0 Flash pronto pra ação!\")"
      ]
    },
    {
      "cell_type": "markdown",
      "metadata": {},
      "source": [
        "## 📊 Visualizando o Problema da Memória\n\nVamos criar um gráfico pra mostrar como funciona a conversa **SEM** memória:"
      ]
    },
    {
      "cell_type": "code",
      "metadata": {},
      "execution_count": null,
      "outputs": [],
      "source": [
        "# Vamos visualizar o problema da falta de memória\n",
        "fig, (ax1, ax2) = plt.subplots(1, 2, figsize=(15, 6))\n",
        "\n",
        "# Gráfico 1: Sem Memória\n",
        "conversas = ['Conversa 1', 'Conversa 2', 'Conversa 3', 'Conversa 4']\n",
        "contexto_sem_memoria = [1, 1, 1, 1]  # Sempre volta ao zero\n",
        "contexto_com_memoria = [1, 2, 3, 4]  # Acumula conhecimento\n",
        "\n",
        "ax1.bar(conversas, contexto_sem_memoria, color='red', alpha=0.7)\n",
        "ax1.set_title('🚫 SEM Memória\\n(Cada conversa é isolada)', fontsize=14, fontweight='bold')\n",
        "ax1.set_ylabel('Contexto Disponível')\n",
        "ax1.set_ylim(0, 5)\n",
        "\n",
        "# Gráfico 2: Com Memória\n",
        "ax2.bar(conversas, contexto_com_memoria, color='green', alpha=0.7)\n",
        "ax2.set_title('✅ COM Memória\\n(Contexto acumulativo)', fontsize=14, fontweight='bold')\n",
        "ax2.set_ylabel('Contexto Disponível')\n",
        "ax2.set_ylim(0, 5)\n",
        "\n",
        "plt.tight_layout()\n",
        "plt.show()\n",
        "\n",
        "print(\"📈 Viu a diferença? Com memória, o bot fica cada vez mais esperto!\")"
      ]
    },
    {
      "cell_type": "markdown",
      "metadata": {},
      "source": [
        "## 🏗️ Arquitetura dos Memory Systems\n\n```mermaid\ngraph TD\n    A[👤 Usuário] --> B[💬 Nova Mensagem]\n    B --> C[🧠 Memory System]\n    C --> D[📚 Contexto Histórico]\n    D --> E[🤖 LLM]\n    E --> F[📝 Resposta]\n    F --> G[💾 Salvar na Memória]\n    G --> C\n    F --> A\n```\n\n### Como funciona na prática:\n\n1. **Usuário** envia mensagem\n2. **Memory System** recupera histórico\n3. **LLM** recebe mensagem + contexto\n4. **Resposta** é gerada\n5. **Tudo é salvo** na memória\n\n**Dica do Pedro**: É tipo um loop infinito de aprendizado!"
      ]
    },
    {
      "cell_type": "markdown",
      "metadata": {},
      "source": [
        "## 🎯 Tipos de Memory no LangChain\n\nO LangChain tem vários tipos de memória, cada um pra uma situação:\n\n### 1. 🗃️ ConversationBufferMemory\n- **O que faz**: Guarda TUDO da conversa\n- **Prós**: Contexto completo\n- **Contras**: Pode ficar gigante\n- **Quando usar**: Conversas curtas\n\n### 2. 🪟 ConversationBufferWindowMemory\n- **O que faz**: Guarda só as últimas N mensagens\n- **Prós**: Controla o tamanho\n- **Contras**: Esquece coisas antigas\n- **Quando usar**: Conversas longas com foco no recente\n\n### 3. 📋 ConversationSummaryMemory\n- **O que faz**: Resume a conversa\n- **Prós**: Muito eficiente\n- **Contras**: Pode perder detalhes\n- **Quando usar**: Conversas muito longas\n\n### 4. 🔄 ConversationSummaryBufferMemory\n- **O que faz**: Mistura resumo + buffer\n- **Prós**: Melhor dos dois mundos\n- **Contras**: Mais complexo\n- **Quando usar**: Conversas longas que precisam de detalhes\n\n**Dica do Pedro**: É como escolher o tamanho da sua mochila pra viajem!"
      ]
    },
    {
      "cell_type": "markdown",
      "metadata": {},
      "source": [
        "## 📊 Comparando os Tipos de Memory\n\nVamos criar uma visualização pra entender as diferenças:"
      ]
    },
    {
      "cell_type": "code",
      "metadata": {},
      "execution_count": null,
      "outputs": [],
      "source": [
        "# Comparação visual dos tipos de memória\n",
        "tipos_memoria = ['Buffer\\nCompleto', 'Buffer\\nWindow', 'Summary\\nOnly', 'Summary+\\nBuffer']\n",
        "uso_tokens = [100, 40, 20, 50]  # Exemplo de uso de tokens\n",
        "precisao_contexto = [100, 70, 60, 85]  # Precisão do contexto preservado\n",
        "\n",
        "fig, (ax1, ax2) = plt.subplots(1, 2, figsize=(15, 6))\n",
        "\n",
        "# Gráfico 1: Uso de Tokens\n",
        "bars1 = ax1.bar(tipos_memoria, uso_tokens, color=['red', 'orange', 'green', 'blue'], alpha=0.7)\n",
        "ax1.set_title('💰 Uso de Tokens (Custo)', fontsize=14, fontweight='bold')\n",
        "ax1.set_ylabel('Tokens Utilizados')\n",
        "ax1.set_ylim(0, 120)\n",
        "\n",
        "# Adicionando valores nas barras\n",
        "for bar, valor in zip(bars1, uso_tokens):\n",
        "    ax1.text(bar.get_x() + bar.get_width()/2, bar.get_height() + 2, \n",
        "             f'{valor}', ha='center', va='bottom', fontweight='bold')\n",
        "\n",
        "# Gráfico 2: Precisão do Contexto\n",
        "bars2 = ax2.bar(tipos_memoria, precisao_contexto, color=['red', 'orange', 'green', 'blue'], alpha=0.7)\n",
        "ax2.set_title('🎯 Precisão do Contexto', fontsize=14, fontweight='bold')\n",
        "ax2.set_ylabel('Precisão (%)')\n",
        "ax2.set_ylim(0, 120)\n",
        "\n",
        "# Adicionando valores nas barras\n",
        "for bar, valor in zip(bars2, precisao_contexto):\n",
        "    ax2.text(bar.get_x() + bar.get_width()/2, bar.get_height() + 2, \n",
        "             f'{valor}%', ha='center', va='bottom', fontweight='bold')\n",
        "\n",
        "plt.tight_layout()\n",
        "plt.show()\n",
        "\n",
        "print(\"📊 Trade-off clássico: Custo vs Precisão!\")\n",
        "print(\"💡 A escolha depende do seu caso de uso específico!\")"
      ]
    },
    {
      "cell_type": "markdown",
      "metadata": {},
      "source": [
        "## 🗃️ 1. ConversationBufferMemory - O Arquivo Completo\n\nVamos começar com o mais simples: guardar TUDO!\n\nÉ tipo aquela pessoa que guarda todos os WhatsApp desde 2010 😅"
      ]
    },
    {
      "cell_type": "code",
      "metadata": {},
      "execution_count": null,
      "outputs": [],
      "source": [
        "# Criando um ConversationBufferMemory\n",
        "from langchain.memory import ConversationBufferMemory\n",
        "\n",
        "# Inicializando a memória\n",
        "buffer_memory = ConversationBufferMemory(\n",
        "    return_messages=True,  # Retorna como objetos Message\n",
        "    memory_key=\"chat_history\"  # Nome da chave no contexto\n",
        ")\n",
        "\n",
        "# Criando uma chain com memória\n",
        "conversation_buffer = ConversationChain(\n",
        "    llm=llm,\n",
        "    memory=buffer_memory,\n",
        "    verbose=True  # Pra ver o que tá rolando nos bastidores\n",
        ")\n",
        "\n",
        "print(\"✅ ConversationBufferMemory criada!\")\n",
        "print(\"🧠 Esta memória vai guardar TODA a conversa!\")"
      ]
    },
    {
      "cell_type": "code",
      "metadata": {},
      "execution_count": null,
      "outputs": [],
      "source": [
        "# Testando o BufferMemory\n",
        "print(\"🗣️ Iniciando conversa com BufferMemory...\\n\")\n",
        "\n",
        "# Primeira mensagem\n",
        "resposta1 = conversation_buffer.predict(input=\"Oi! Meu nome é João e eu adoro pizza.\")\n",
        "print(f\"🤖 Bot: {resposta1}\\n\")\n",
        "\n",
        "# Segunda mensagem - vamos ver se ele lembra\n",
        "resposta2 = conversation_buffer.predict(input=\"Qual é o meu nome e o que eu gosto de comer?\")\n",
        "print(f\"🤖 Bot: {resposta2}\\n\")\n",
        "\n",
        "# Terceira mensagem - mais contexto\n",
        "resposta3 = conversation_buffer.predict(input=\"Eu também trabalho como programador Python.\")\n",
        "print(f\"🤖 Bot: {resposta3}\\n\")"
      ]
    },
    {
      "cell_type": "code",
      "metadata": {},
      "execution_count": null,
      "outputs": [],
      "source": [
        "# Vamos ver o que tem na memória\n",
        "print(\"🧠 Conteúdo da memória BufferMemory:\")\n",
        "print(\"=\" * 50)\n",
        "\n",
        "# Acessando o buffer diretamente\n",
        "historico = buffer_memory.chat_memory.messages\n",
        "\n",
        "for i, mensagem in enumerate(historico, 1):\n",
        "    tipo = \"👤 Usuário\" if mensagem.type == \"human\" else \"🤖 Bot\"\n",
        "    print(f\"{i}. {tipo}: {mensagem.content[:100]}...\")\n",
        "\n",
        "print(f\"\\n📊 Total de mensagens na memória: {len(historico)}\")\n",
        "print(f\"💾 Tamanho aproximado: {sum(len(msg.content) for msg in historico)} caracteres\")"
      ]
    },
    {
      "cell_type": "markdown",
      "metadata": {},
      "source": [
        "## 🪟 2. ConversationBufferWindowMemory - A Janela Deslizante\n\nAgora vamos pro Buffer Window - ele mantém só as últimas N mensagens.\n\nÉ tipo aquela memória RAM do seu computador: mantém só o que é relevante agora!"
      ]
    },
    {
      "cell_type": "code",
      "metadata": {},
      "execution_count": null,
      "outputs": [],
      "source": [
        "# Criando um ConversationBufferWindowMemory\n",
        "from langchain.memory import ConversationBufferWindowMemory\n",
        "\n",
        "# Inicializando com janela de 4 mensagens (2 do usuário + 2 do bot)\n",
        "window_memory = ConversationBufferWindowMemory(\n",
        "    k=4,  # Mantém as últimas 4 mensagens\n",
        "    return_messages=True,\n",
        "    memory_key=\"chat_history\"\n",
        ")\n",
        "\n",
        "# Criando uma nova chain\n",
        "conversation_window = ConversationChain(\n",
        "    llm=llm,\n",
        "    memory=window_memory,\n",
        "    verbose=True\n",
        ")\n",
        "\n",
        "print(\"✅ ConversationBufferWindowMemory criada!\")\n",
        "print(\"🪟 Esta memória mantém apenas as últimas 4 mensagens!\")"
      ]
    },
    {
      "cell_type": "code",
      "metadata": {},
      "execution_count": null,
      "outputs": [],
      "source": [
        "# Testando o WindowMemory com várias mensagens\n",
        "print(\"🗣️ Testando WindowMemory com janela de 4 mensagens...\\n\")\n",
        "\n",
        "mensagens_teste = [\n",
        "    \"Oi! Meu nome é Maria.\",\n",
        "    \"Eu tenho 25 anos.\",\n",
        "    \"Trabalho como designer.\",\n",
        "    \"Adoro viajar para a praia.\",\n",
        "    \"Tenho um gato chamado Mimi.\",\n",
        "    \"Qual é o meu nome mesmo?\"  # Vamos ver se ainda lembra!\n",
        "]\n",
        "\n",
        "for i, mensagem in enumerate(mensagens_teste, 1):\n",
        "    print(f\"📨 Mensagem {i}: {mensagem}\")\n",
        "    resposta = conversation_window.predict(input=mensagem)\n",
        "    print(f\"🤖 Bot: {resposta}\\n\")\n",
        "    \n",
        "    # Mostrando quantas mensagens estão na memória\n",
        "    qtd_memorias = len(window_memory.chat_memory.messages)\n",
        "    print(f\"🧠 Mensagens na memória: {qtd_memorias}/4\\n\")\n",
        "    print(\"-\" * 60)"
      ]
    },
    {
      "cell_type": "markdown",
      "metadata": {},
      "source": [
        "## 📋 3. ConversationSummaryMemory - O Resumidor\n\nAgora a coisa fica interessante! O SummaryMemory não guarda as mensagens - ele faz um **resumo**!\n\nÉ tipo aquele amigo que conta a fofoca resumida: \"Ah, rolou um drama, mas o importante é que no final deu tudo certo\" 😂"
      ]
    },
    {
      "cell_type": "code",
      "metadata": {},
      "execution_count": null,
      "outputs": [],
      "source": [
        "# Criando um ConversationSummaryMemory\n",
        "from langchain.memory import ConversationSummaryMemory\n",
        "\n",
        "# Inicializando - precisa de um LLM pra fazer os resumos!\n",
        "summary_memory = ConversationSummaryMemory(\n",
        "    llm=llm,  # Usa o mesmo LLM pra resumir\n",
        "    return_messages=False,  # Retorna como string\n",
        "    memory_key=\"chat_history\"\n",
        ")\n",
        "\n",
        "# Criando uma nova chain\n",
        "conversation_summary = ConversationChain(\n",
        "    llm=llm,\n",
        "    memory=summary_memory,\n",
        "    verbose=True\n",
        ")\n",
        "\n",
        "print(\"✅ ConversationSummaryMemory criada!\")\n",
        "print(\"📋 Esta memória faz resumos automáticos da conversa!\")\n",
        "print(\"🤖 O próprio LLM vai resumir conforme a conversa cresce!\")"
      ]
    },
    {
      "cell_type": "code",
      "metadata": {},
      "execution_count": null,
      "outputs": [],
      "source": [
        "# Testando o SummaryMemory\n",
        "print(\"🗣️ Testando SummaryMemory...\\n\")\n",
        "\n",
        "# Vamos simular uma conversa longa\n",
        "mensagens_longas = [\n",
        "    \"Oi! Meu nome é Carlos, tenho 30 anos e sou engenheiro de software.\",\n",
        "    \"Trabalho numa startup de fintech aqui em São Paulo há 3 anos.\",\n",
        "    \"Estou desenvolvendo um app de investimentos em Python e React.\",\n",
        "    \"O app já tem 10.000 usuários e está crescendo 20% ao mês.\",\n",
        "    \"Estamos levantando uma rodada de investimento de R$ 2 milhões.\",\n",
        "    \"Me fala um resumo de tudo que conversamos até agora?\"\n",
        "]\n",
        "\n",
        "for i, mensagem in enumerate(mensagens_longas, 1):\n",
        "    print(f\"📨 Mensagem {i}: {mensagem}\")\n",
        "    resposta = conversation_summary.predict(input=mensagem)\n",
        "    print(f\"🤖 Bot: {resposta}\\n\")\n",
        "    \n",
        "    # Vamos espiar o resumo que está sendo mantido\n",
        "    if i > 2:  # Depois de algumas mensagens\n",
        "        resumo_atual = summary_memory.buffer\n",
        "        print(f\"📋 Resumo na memória: {resumo_atual[:150]}...\\n\")\n",
        "    \n",
        "    print(\"-\" * 80)"
      ]
    },
    {
      "cell_type": "markdown",
      "metadata": {},
      "source": [
        "## 🔄 4. ConversationSummaryBufferMemory - O Híbrido\n\nE agora o **melhor dos dois mundos**! O SummaryBufferMemory:\n\n- Mantém as mensagens **recentes** completas\n- **Resume** as mensagens antigas\n\nÉ tipo ter um assistente que anota tudo detalhado no dia, mas faz resumos do mês passado!"
      ]
    },
    {
      "cell_type": "code",
      "metadata": {},
      "execution_count": null,
      "outputs": [],
      "source": [
        "# Criando um ConversationSummaryBufferMemory\n",
        "from langchain.memory import ConversationSummaryBufferMemory\n",
        "\n",
        "# Inicializando com limite de tokens\n",
        "summary_buffer_memory = ConversationSummaryBufferMemory(\n",
        "    llm=llm,\n",
        "    max_token_limit=200,  # Quando passar disso, resume as antigas\n",
        "    return_messages=True,\n",
        "    memory_key=\"chat_history\"\n",
        ")\n",
        "\n",
        "# Criando uma nova chain\n",
        "conversation_summary_buffer = ConversationChain(\n",
        "    llm=llm,\n",
        "    memory=summary_buffer_memory,\n",
        "    verbose=True\n",
        ")\n",
        "\n",
        "print(\"✅ ConversationSummaryBufferMemory criada!\")\n",
        "print(\"🔄 Esta memória combina resumo + buffer!\")\n",
        "print(\"📊 Limite: 200 tokens - depois disso resume as antigas!\")"
      ]
    },
    {
      "cell_type": "code",
      "metadata": {},
      "execution_count": null,
      "outputs": [],
      "source": [
        "# Testando o SummaryBufferMemory\n",
        "print(\"🗣️ Testando SummaryBufferMemory...\\n\")\n",
        "\n",
        "mensagens_hibridas = [\n",
        "    \"Sou a Ana, médica veterinária de 28 anos.\",\n",
        "    \"Trabalho numa clínica veterinária em Belo Horizonte desde 2020.\",\n",
        "    \"Tenho especialização em animais exóticos - papagaios, iguanas, etc.\",\n",
        "    \"Atendo cerca de 50 animais por semana, a maioria cães e gatos.\",\n",
        "    \"Estou pensando em abrir minha própria clínica no ano que vem.\",\n",
        "    \"Qual é a minha profissão e onde trabalho?\"\n",
        "]\n",
        "\n",
        "for i, mensagem in enumerate(mensagens_hibridas, 1):\n",
        "    print(f\"📨 Mensagem {i}: {mensagem}\")\n",
        "    resposta = conversation_summary_buffer.predict(input=mensagem)\n",
        "    print(f\"🤖 Bot: {resposta}\\n\")\n",
        "    \n",
        "    # Verificando o estado da memória\n",
        "    memoria_vars = summary_buffer_memory.load_memory_variables({})\n",
        "    print(f\"🧠 Estado da memória após mensagem {i}:\")\n",
        "    if hasattr(summary_buffer_memory, 'moving_summary_buffer') and summary_buffer_memory.moving_summary_buffer:\n",
        "        print(f\"📋 Tem resumo: {summary_buffer_memory.moving_summary_buffer[:100]}...\")\n",
        "    else:\n",
        "        print(\"📋 Ainda não tem resumo - só mensagens recentes\")\n",
        "    \n",
        "    print(\"-\" * 70)"
      ]
    },
    {
      "cell_type": "markdown",
      "metadata": {},
      "source": [
        "## 📊 Comparação Prática dos Memory Types\n\nVamos fazer um teste prático pra ver como cada tipo se comporta:"
      ]
    },
    {
      "cell_type": "code",
      "metadata": {},
      "execution_count": null,
      "outputs": [],
      "source": [
        "# Função para calcular tamanho aproximado da memória\n",
        "def calcular_tamanho_memoria(memory_obj):\n",
        "    \"\"\"Calcula o tamanho aproximado da memória em caracteres\"\"\"\n",
        "    try:\n",
        "        # Tenta carregar as variáveis da memória\n",
        "        vars_memoria = memory_obj.load_memory_variables({})\n",
        "        \n",
        "        # Soma todos os caracteres\n",
        "        tamanho_total = 0\n",
        "        for key, value in vars_memoria.items():\n",
        "            if isinstance(value, str):\n",
        "                tamanho_total += len(value)\n",
        "            elif isinstance(value, list):\n",
        "                for item in value:\n",
        "                    if hasattr(item, 'content'):\n",
        "                        tamanho_total += len(item.content)\n",
        "                    else:\n",
        "                        tamanho_total += len(str(item))\n",
        "        \n",
        "        return tamanho_total\n",
        "    except:\n",
        "        return 0\n",
        "\n",
        "# Testando com uma sequência de mensagens\n",
        "mensagens_comparacao = [\n",
        "    \"Oi, sou o Pedro, desenvolvedore Python de 35 anos.\",\n",
        "    \"Trabalho com IA e Machine Learning há 8 anos.\",\n",
        "    \"Já criei mais de 100 modelos de ML em produção.\",\n",
        "    \"Especialista em LangChain, FastAPI e AWS.\",\n",
        "    \"Dou aulas online e já treinei mais de 5000 alunos.\"\n",
        "]\n",
        "\n",
        "# Criando memorias limpas para comparação\n",
        "memorias_teste = {\n",
        "    'Buffer': ConversationBufferMemory(return_messages=True),\n",
        "    'Window': ConversationBufferWindowMemory(k=4, return_messages=True),\n",
        "    'Summary': ConversationSummaryMemory(llm=llm),\n",
        "    'SummaryBuffer': ConversationSummaryBufferMemory(llm=llm, max_token_limit=150)\n",
        "}\n",
        "\n",
        "# Simulando as mensagens em todas as memórias\n",
        "for mensagem in mensagens_comparacao:\n",
        "    for nome, memoria in memorias_teste.items():\n",
        "        # Simula uma conversa adicionando mensagem do usuário e uma resposta padrão\n",
        "        memoria.save_context(\n",
        "            {\"input\": mensagem}, \n",
        "            {\"output\": f\"Entendi! Obrigado por compartilhar isso, {mensagem.split()[2] if len(mensagem.split()) > 2 else 'usuário'}!\"}\n",
        "        )\n",
        "\n",
        "print(\"📊 Comparação de tamanhos de memória após 5 interações:\")\n",
        "print(\"=\" * 60)\n",
        "\n",
        "tamanhos = {}\n",
        "for nome, memoria in memorias_teste.items():\n",
        "    tamanho = calcular_tamanho_memoria(memoria)\n",
        "    tamanhos[nome] = tamanho\n",
        "    print(f\"{nome:15} : {tamanho:4d} caracteres\")\n",
        "\n",
        "print(\"\\n💡 Conclusões:\")\n",
        "print(f\"🥇 Mais eficiente: {min(tamanhos, key=tamanhos.get)}\")\n",
        "print(f\"📚 Mais completo: {max(tamanhos, key=tamanhos.get)}\")"
      ]
    },
    {
      "cell_type": "markdown",
      "metadata": {},
      "source": [
        "## 📊 Visualização Final - Eficiência vs Completude"
      ]
    },
    {
      "cell_type": "code",
      "metadata": {},
      "execution_count": null,
      "outputs": [],
      "source": [
        "# Gráfico de barras comparativo final\n",
        "nomes = list(tamanhos.keys())\n",
        "valores = list(tamanhos.values())\n",
        "cores = ['red', 'orange', 'green', 'blue']\n",
        "\n",
        "plt.figure(figsize=(12, 8))\n",
        "\n",
        "# Gráfico de barras\n",
        "bars = plt.bar(nomes, valores, color=cores, alpha=0.7, edgecolor='black', linewidth=2)\n",
        "\n",
        "# Customização\n",
        "plt.title('📊 Comparação de Uso de Memória\\n(Menor = Mais Eficiente)', \n",
        "          fontsize=16, fontweight='bold', pad=20)\n",
        "plt.ylabel('Caracteres Utilizados', fontsize=12, fontweight='bold')\n",
        "plt.xlabel('Tipos de Memory', fontsize=12, fontweight='bold')\n",
        "\n",
        "# Adicionando valores nas barras\n",
        "for bar, valor in zip(bars, valores):\n",
        "    plt.text(bar.get_x() + bar.get_width()/2, bar.get_height() + max(valores)*0.01, \n",
        "             f'{valor}', ha='center', va='bottom', fontweight='bold', fontsize=11)\n",
        "\n",
        "# Adicionando linha de referência\n",
        "plt.axhline(y=np.mean(valores), color='red', linestyle='--', alpha=0.7, \n",
        "            label=f'Média: {int(np.mean(valores))}')\n",
        "\n",
        "plt.legend()\n",
        "plt.grid(axis='y', alpha=0.3)\n",
        "plt.tight_layout()\n",
        "plt.show()\n",
        "\n",
        "print(\"📈 Liiindo! Agora você sabe exatamente qual memory usar!\")"
      ]
    },
    {
      "cell_type": "markdown",
      "metadata": {},
      "source": [
        "## 💡 Dicas Práticas do Pedro\n\n### 🎯 Quando usar cada tipo?\n\n| Tipo | Use quando | Exemplo |\n|------|------------|--------|\n| **Buffer** | Conversas curtas e precisas | Chat de suporte |\n| **Window** | Conversas longas, contexto recente | Games, assistentes |\n| **Summary** | Conversas muito longas | Terapia, consultoria |\n| **SummaryBuffer** | Melhor dos dois mundos | Assistentes corporativos |\n\n### 🚀 Dicas de Performance:\n\n1. **Monitore o tamanho**: Use `len()` na memória\n2. **Defina limites**: Sempre coloque `max_token_limit`\n3. **Teste em produção**: Cada caso é um caso\n4. **Combine tipos**: Use diferentes memórias pra diferentes usuários\n\n### ⚠️ Pegadinhas Comuns:\n\n- **BufferMemory** pode explodir o contexto\n- **SummaryMemory** pode perder detalhes importantes\n- **WindowMemory** esquece coisas antigas\n- Todos custam tokens! 💰\n\n**Dica do Pedro**: Sempre teste com dados reais do seu domínio!"
      ]
    },
    {
      "cell_type": "markdown",
      "metadata": {},
      "source": [
        "## 🔧 Exercício 1: Implementando Memory Customizada\n\nBora criar uma memória personalizada que atende às suas necessidades específicas!\n\n**Desafio**: Criar uma memória que:\n1. Mantém as últimas 3 mensagens completas\n2. Salva informações importantes do usuário (nome, profissão, etc.)\n3. Mostra um resumo das informações salvas"
      ]
    },
    {
      "cell_type": "code",
      "metadata": {},
      "execution_count": null,
      "outputs": [],
      "source": [
        "# EXERCÍCIO 1: Implemente uma MemoryCustomizada\n",
        "class MemoryCustomizada:\n",
        "    def __init__(self):\n",
        "        self.mensagens_recentes = []  # Últimas 3 mensagens\n",
        "        self.info_usuario = {}        # Informações importantes\n",
        "        self.max_mensagens = 3\n",
        "    \n",
        "    def adicionar_mensagem(self, usuario_msg, bot_msg):\n",
        "        \"\"\"Adiciona uma nova troca de mensagens\"\"\"\n",
        "        # TODO: Implementar lógica para:\n",
        "        # 1. Adicionar mensagem à lista\n",
        "        # 2. Manter apenas as últimas 3\n",
        "        # 3. Extrair informações importantes (nome, idade, profissão)\n",
        "        pass\n",
        "    \n",
        "    def get_contexto(self):\n",
        "        \"\"\"Retorna o contexto atual para o LLM\"\"\"\n",
        "        # TODO: Implementar lógica para:\n",
        "        # 1. Formatar mensagens recentes\n",
        "        # 2. Incluir informações do usuário\n",
        "        # 3. Retornar string formatada\n",
        "        pass\n",
        "\n",
        "# Teste sua implementação aqui:\n",
        "# memory_custom = MemoryCustomizada()\n",
        "# memory_custom.adicionar_mensagem(\"Oi, sou João\", \"Prazer, João!\")\n",
        "# print(memory_custom.get_contexto())\n",
        "\n",
        "print(\"🏗️ Seu turno! Implemente a MemoryCustomizada acima\")\n",
        "print(\"💡 Dica: Use regex ou split() para extrair informações\")"
      ]
    },
    {
      "cell_type": "markdown",
      "metadata": {},
      "source": [
        "## 🎮 Exercício 2: Sistema de Memory Inteligente\n\n**Desafio Avançado**: Criar um sistema que **escolhe automaticamente** o tipo de memória baseado no contexto!\n\n**Regras**:\n- Se conversa < 5 mensagens → BufferMemory\n- Se conversa entre 5-15 mensagens → WindowMemory\n- Se conversa > 15 mensagens → SummaryBufferMemory"
      ]
    },
    {
      "cell_type": "code",
      "metadata": {},
      "execution_count": null,
      "outputs": [],
      "source": [
        "# EXERCÍCIO 2: Sistema Inteligente de Memory\n",
        "class MemoryInteligente:\n",
        "    def __init__(self, llm):\n",
        "        self.llm = llm\n",
        "        self.contador_mensagens = 0\n",
        "        self.memory_atual = None\n",
        "        self.tipo_atual = None\n",
        "    \n",
        "    def escolher_memory_tipo(self):\n",
        "        \"\"\"Escolhe o tipo de memória baseado no número de mensagens\"\"\"\n",
        "        # TODO: Implementar lógica de escolha\n",
        "        # Retorna: 'buffer', 'window', ou 'summary_buffer'\n",
        "        pass\n",
        "    \n",
        "    def processar_mensagem(self, input_msg):\n",
        "        \"\"\"Processa uma nova mensagem com a memória apropriada\"\"\"\n",
        "        # TODO: Implementar lógica para:\n",
        "        # 1. Incrementar contador\n",
        "        # 2. Escolher tipo de memória\n",
        "        # 3. Migrar dados se necessário\n",
        "        # 4. Processar mensagem\n",
        "        pass\n",
        "    \n",
        "    def migrar_memoria(self, memoria_antiga, tipo_novo):\n",
        "        \"\"\"Migra dados entre diferentes tipos de memória\"\"\"\n",
        "        # TODO: Implementar migração de dados\n",
        "        pass\n",
        "\n",
        "# Teste seu sistema aqui:\n",
        "# memory_smart = MemoryInteligente(llm)\n",
        "# for i in range(20):\n",
        "#     resultado = memory_smart.processar_mensagem(f\"Mensagem {i+1}\")\n",
        "#     print(f\"Mensagem {i+1}: Usando {memory_smart.tipo_atual}\")\n",
        "\n",
        "print(\"🧠 Desafio avançado! Crie um sistema que se adapta automaticamente\")\n",
        "print(\"🎯 Objetivo: Otimizar performance baseado no tamanho da conversa\")"
      ]
    },
    {
      "cell_type": "markdown",
      "metadata": {},
      "source": [
        "## 🎯 Casos de Uso Reais\n\nVamos ver onde cada tipo de memória brilha na vida real:"
      ]
    },
    {
      "cell_type": "code",
      "metadata": {},
      "execution_count": null,
      "outputs": [],
      "source": [
        "# Simulando casos de uso reais\n",
        "casos_uso = {\n",
        "    \"🏥 Suporte Médico\": {\n",
        "        \"memory\": \"SummaryBuffer\",\n",
        "        \"motivo\": \"Precisa lembrar histórico médico completo + sintomas recentes\",\n",
        "        \"exemplo\": \"Paciente com diabetes menciona novos sintomas\"\n",
        "    },\n",
        "    \"🛒 E-commerce\": {\n",
        "        \"memory\": \"Window\",\n",
        "        \"motivo\": \"Foco nos produtos vistos recentemente\",\n",
        "        \"exemplo\": \"Cliente comparando smartphones nas últimas mensagens\"\n",
        "    },\n",
        "    \"📚 Tutor Educacional\": {\n",
        "        \"memory\": \"Buffer\",\n",
        "        \"motivo\": \"Conversas curtas e focadas em exercícios específicos\",\n",
        "        \"exemplo\": \"Explicando um conceito de matemática\"\n",
        "    },\n",
        "    \"💼 Assistente Executivo\": {\n",
        "        \"memory\": \"SummaryBuffer\",\n",
        "        \"motivo\": \"Precisa lembrar decisões passadas + contexto atual\",\n",
        "        \"exemplo\": \"Acompanhando projeto de 6 meses com reuniões semanais\"\n",
        "    }\n",
        "}\n",
        "\n",
        "print(\"🎯 CASOS DE USO REAIS\")\n",
        "print(\"=\" * 60)\n",
        "\n",
        "for caso, info in casos_uso.items():\n",
        "    print(f\"\\n{caso}\")\n",
        "    print(f\"   Memory: {info['memory']}\")\n",
        "    print(f\"   Por quê: {info['motivo']}\")\n",
        "    print(f\"   Exemplo: {info['exemplo']}\")\n",
        "\n",
        "print(\"\\n💡 A escolha da memória pode fazer ou quebrar seu produto!\")"
      ]
    },
    {
      "cell_type": "markdown",
      "metadata": {},
      "source": [
        "## 🔮 Preparando para os Próximos Módulos\n\nLiiiindo! Agora que dominamos Memory Systems, vamos ver como isso se conecta com o que vem por aí:\n\n### 🗂️ Módulo 6 - Document Loading\n- **Conexão**: Vamos usar memória para lembrar de documentos processados\n- **Preparação**: Memory vai guardar contexto de múltiplos documentos\n\n### 🔍 Módulo 7 - Vector Store\n- **Conexão**: Memory + Vector Store = busca semântica com contexto\n- **Preparação**: Combinar memória conversacional com busca em documentos\n\n### 🤖 Módulo 8 - RAG\n- **Conexão**: Memory é ESSENCIAL no RAG para conversas contextuais\n- **Preparação**: \"Lembre do que discutimos sobre este documento\"\n\n**Dica do Pedro**: Memory é a base para construir assistentes inteligentes de verdade!"
      ]
    },
    {
      "cell_type": "code",
      "metadata": {},
      "execution_count": null,
      "outputs": [],
      "source": [
        "# Preview do que vem no próximo módulo\n",
        "print(\"🔮 PREVIEW - PRÓXIMO MÓDULO\")\n",
        "print(\"=\" * 40)\n",
        "print(\"📚 Document Loading & Splitters\")\n",
        "print(\"\")\n",
        "print(\"Vamos aprender a:\")\n",
        "print(\"• Carregar PDFs, Word, websites\")\n",
        "print(\"• Dividir documentos grandes\")\n",
        "print(\"• Combinar com Memory Systems\")\n",
        "print(\"• Preparar dados para RAG\")\n",
        "print(\"\")\n",
        "print(\"🚀 Com Memory + Documents = Assistente que lembra E aprende!\")\n",
        "\n",
        "# Salvando um exemplo de memory para usar no próximo módulo\n",
        "import pickle\n",
        "\n",
        "# Criando uma memória de exemplo para carregar no próximo módulo\n",
        "memory_exemplo = ConversationBufferMemory(return_messages=True)\n",
        "memory_exemplo.save_context(\n",
        "    {\"input\": \"Vou analisar alguns documentos sobre IA\"}, \n",
        "    {\"output\": \"Perfeito! Vou lembrar que você está interessado em documentos sobre IA!\"}\n",
        ")\n",
        "\n",
        "print(\"💾 Memória de exemplo salva para o próximo módulo!\")"
      ]
    },
    {
      "cell_type": "markdown",
      "metadata": {},
      "source": [
        "## 🎊 Resumo Final - O que Aprendemos\n\n### ✅ Conceitos Dominados:\n\n1. **🧠 Por que Memory é Essencial**\n   - LLMs são stateless por padrão\n   - Memory transforma bots em assistentes\n\n2. **🗃️ ConversationBufferMemory**\n   - Guarda tudo\n   - Perfeito para conversas curtas\n\n3. **🪟 ConversationBufferWindowMemory**\n   - Mantém últimas N mensagens\n   - Controla o tamanho do contexto\n\n4. **📋 ConversationSummaryMemory**\n   - Resume conversas automaticamente\n   - Muito eficiente em tokens\n\n5. **🔄 ConversationSummaryBufferMemory**\n   - Melhor dos dois mundos\n   - Buffer recente + resumo antigo\n\n### 🎯 Quando Usar Cada Um:\n\n| Cenário | Memory Ideal | Por quê |\n|---------|-------------|--------|\n| Chat suporte | Buffer | Conversas curtas e precisas |\n| Game/App | Window | Contexto recente mais importante |\n| Consultoria | Summary | Conversas muito longas |\n| Assistente corporativo | SummaryBuffer | Equilibrio perfeito |\n\n### 🚀 Próximos Passos:\n- Módulo 6: Document Loading (como dar \"conhecimento\" pro bot)\n- Módulo 7: Vector Store (busca semântica inteligente) \n- Módulo 8: RAG (combinando tudo!)\n\n**Dica Final do Pedro**: Memory é o primeiro passo para criar assistentes que realmente **entendem** e **lembram**. No próximo módulo vamos dar \"conhecimento\" pra eles!\n\n![](/Users/pedroguth/Downloads/Projetos/Book Maker/5-Imagens/langchain---usando-versão-v0.2-modulo-05_img_01.png)"
      ]
    }
  ]
}