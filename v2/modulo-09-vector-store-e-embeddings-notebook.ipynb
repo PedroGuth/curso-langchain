{
  "nbformat": 4,
  "nbformat_minor": 0,
  "metadata": {
    "colab": {
      "provenance": []
    },
    "kernelspec": {
      "name": "python3",
      "display_name": "Python 3"
    },
    "language_info": {
      "name": "python"
    }
  },
  "cells": [
    {
      "cell_type": "markdown",
      "metadata": {},
      "source": [
        "# 🧠 Vector Store e Embeddings: A Memória Inteligente da IA\n\n**Módulo 9 - Curso LangChain v0.3**\n\n*Por Pedro Guth*\n\n![](https://s3.us-east-1.amazonaws.com/turing.education/notebooks/imagens/langchain-modulo-09_img_01.png)\n\nBora entender como a IA consegue \"lembrar\" e encontrar informações relevantes de forma inteligente! 🚀\n\nAté agora no nosso curso já vimos:\n- Como conversar com LLMs (ChatModel)\n- Como criar prompts inteligentes (Prompt Templates) \n- Como carregar e dividir documentos (Document Loading e Splitters)\n\nAgora vamos aprender como fazer a IA \"lembrar\" dessas informações de forma eficiente!"
      ]
    },
    {
      "cell_type": "markdown",
      "metadata": {},
      "source": [
        "## 🤔 Tá, mas o que é um Vector Store?\n\nImagina que você tem uma biblioteca gigante com milhões de livros. Como você encontraria rapidamente todos os livros sobre \"culinária italiana\"?\n\nUm **Vector Store** é como um bibliotecário super inteligente que:\n1. Lê cada livro e entende o \"significado\" dele\n2. Organiza os livros não por ordem alfabética, mas por **similaridade de conteúdo**\n3. Quando você pergunta algo, ele encontra os livros mais relevantes instantaneamente\n\n### Como funciona na prática:\n- Cada texto é convertido em **números** (vetores)\n- Textos similares ficam \"próximos\" no espaço matemático\n- Busca por similaridade ao invés de palavras exatas\n\n**Dica!** Vector Stores são essenciais para RAG (Retrieval Augmented Generation) que vamos ver no próximo módulo!"
      ]
    },
    {
      "cell_type": "markdown",
      "metadata": {},
      "source": [
        "## 🎯 E o que são Embeddings?\n\n**Embeddings** são a mágica por trás dos Vector Stores!\n\nPensa assim: como você explicaria para um computador a diferença entre \"cachorro\" e \"gato\"? \n\nEmbeddings fazem exatamente isso - eles convertem **palavras e textos em números** que capturam o significado semântico.\n\n### Exemplo conceitual:\n- \"Rei\" - \"Homem\" + \"Mulher\" = \"Rainha\"\n- \"Paris\" - \"França\" + \"Brasil\" = \"Brasília\"\n\n### Representação matemática:\n$$\\text{Embedding} = [0.1, -0.3, 0.7, 0.2, \\ldots, 0.5]$$\n\nCada texto vira um vetor com centenas ou milhares de dimensões!\n\n**Dica!** Similaridade é calculada usando distância coseno: $$\\text{similarity} = \\frac{A \\cdot B}{|A| \\times |B|}$$"
      ]
    },
    {
      "cell_type": "code",
      "execution_count": null,
      "metadata": {},
      "outputs": [],
      "source": [
        "# Vamos começar instalando as bibliotecas que vamos usar\n",
        "!pip install langchain langchain-community langchain-openai faiss-cpu sentence-transformers python-dotenv\n",
        "\n",
        "# Imports básicos\n",
        "import numpy as np\n",
        "import matplotlib.pyplot as plt\n",
        "from sklearn.decomposition import PCA\n",
        "from sklearn.metrics.pairwise import cosine_similarity\n",
        "import warnings\n",
        "warnings.filterwarnings('ignore')\n",
        "\n",
        "print(\"✅ Bibliotecas instaladas com sucesso!\")"
      ]
    },
    {
      "cell_type": "markdown",
      "metadata": {},
      "source": [
        "## 🔧 Setup do Ambiente LangChain\n\nAgora vamos configurar nosso ambiente para trabalhar com embeddings no LangChain. Vamos usar modelos gratuitos para começar!"
      ]
    },
    {
      "cell_type": "code",
      "execution_count": null,
      "metadata": {},
      "outputs": [],
      "source": [
        "# Imports do LangChain para embeddings e vector stores\n",
        "from langchain_community.embeddings import HuggingFaceEmbeddings\n",
        "from langchain_community.vectorstores import FAISS\n",
        "from langchain.schema import Document\n",
        "from langchain.text_splitter import RecursiveCharacterTextSplitter\n",
        "\n",
        "# Vamos usar um modelo de embedding gratuito e bom em português\n",
        "print(\"🔄 Carregando modelo de embeddings...\")\n",
        "embeddings_model = HuggingFaceEmbeddings(\n",
        "    model_name=\"sentence-transformers/paraphrase-multilingual-MiniLM-L12-v2\"\n",
        ")\n",
        "\n",
        "print(\"✅ Modelo carregado! Este modelo entende português e mais 49 idiomas!\")\n",
        "print(f\"Dimensões do vetor: {len(embeddings_model.embed_query('teste'))}\")"
      ]
    },
    {
      "cell_type": "markdown",
      "metadata": {},
      "source": [
        "## 🧪 Primeiro Experimento: Visualizando Embeddings\n\nVamos ver como palavras similares ficam próximas no espaço vetorial!"
      ]
    },
    {
      "cell_type": "code",
      "execution_count": null,
      "metadata": {},
      "outputs": [],
      "source": [
        "# Vamos testar com algumas palavras relacionadas\n",
        "palavras = [\n",
        "    \"cachorro\", \"gato\", \"animal\", \"pet\",\n",
        "    \"carro\", \"bicicleta\", \"transporte\", \"veículo\",\n",
        "    \"pizza\", \"macarrão\", \"comida\", \"restaurante\",\n",
        "    \"programação\", \"código\", \"python\", \"desenvolvimento\"\n",
        "]\n",
        "\n",
        "print(\"🔄 Gerando embeddings para as palavras...\")\n",
        "embeddings_list = []\n",
        "for palavra in palavras:\n",
        "    embedding = embeddings_model.embed_query(palavra)\n",
        "    embeddings_list.append(embedding)\n",
        "    \n",
        "# Convertendo para numpy array para facilitar os cálculos\n",
        "embeddings_array = np.array(embeddings_list)\n",
        "print(f\"✅ Gerados {len(embeddings_list)} embeddings de {len(embeddings_list[0])} dimensões cada\")"
      ]
    },
    {
      "cell_type": "code",
      "execution_count": null,
      "metadata": {},
      "outputs": [],
      "source": [
        "# Vamos reduzir as dimensões para conseguir visualizar em 2D\n",
        "pca = PCA(n_components=2)\n",
        "embeddings_2d = pca.fit_transform(embeddings_array)\n",
        "\n",
        "# Criando o gráfico\n",
        "plt.figure(figsize=(12, 8))\n",
        "colors = ['red', 'red', 'red', 'red',      # animais\n",
        "         'blue', 'blue', 'blue', 'blue',   # transporte\n",
        "         'green', 'green', 'green', 'green', # comida\n",
        "         'orange', 'orange', 'orange', 'orange'] # programação\n",
        "\n",
        "for i, (palavra, cor) in enumerate(zip(palavras, colors)):\n",
        "    plt.scatter(embeddings_2d[i, 0], embeddings_2d[i, 1], c=cor, s=100)\n",
        "    plt.annotate(palavra, (embeddings_2d[i, 0], embeddings_2d[i, 1]), \n",
        "                xytext=(5, 5), textcoords='offset points', fontsize=10)\n",
        "\n",
        "plt.title('Visualização de Embeddings - Palavras Similares Ficam Próximas!', fontsize=14)\n",
        "plt.xlabel('Dimensão 1')\n",
        "plt.ylabel('Dimensão 2')\n",
        "plt.grid(True, alpha=0.3)\n",
        "plt.legend(['Animais', 'Transporte', 'Comida', 'Programação'])\n",
        "plt.show()\n",
        "\n",
        "print(\"🎯 Liiindo! Veja como palavras do mesmo contexto ficam agrupadas!\")"
      ]
    },
    {
      "cell_type": "markdown",
      "metadata": {},
      "source": [
        "## 📊 Calculando Similaridade\n\nAgora vamos calcular a similaridade entre palavras usando a **distância coseno**. Quanto mais próximo de 1, mais similares são as palavras!"
      ]
    },
    {
      "cell_type": "code",
      "execution_count": null,
      "metadata": {},
      "outputs": [],
      "source": [
        "# Calculando matriz de similaridade\n",
        "similarity_matrix = cosine_similarity(embeddings_array)\n",
        "\n",
        "# Vamos ver alguns exemplos interessantes\n",
        "print(\"🔍 SIMILARIDADES MAIS INTERESSANTES:\")\n",
        "print(\"=\"*50)\n",
        "\n",
        "for i in range(len(palavras)):\n",
        "    for j in range(i+1, len(palavras)):\n",
        "        sim = similarity_matrix[i][j]\n",
        "        if sim > 0.5:  # Só mostra similaridades altas\n",
        "            print(f\"{palavras[i]:12} ↔ {palavras[j]:12} | Similaridade: {sim:.3f}\")\n",
        "\n",
        "print(\"\\n💡 Valores próximos de 1 = muito similares\")\n",
        "print(\"💡 Valores próximos de 0 = pouco similares\")"
      ]
    },
    {
      "cell_type": "markdown",
      "metadata": {},
      "source": [
        "## 🗃️ Criando nosso Primeiro Vector Store\n\nAgora vamos criar um Vector Store de verdade! Vamos simular uma base de conhecimento sobre tecnologia.\n\nLembra do módulo anterior onde aprendemos sobre Document Loading? Agora vamos usar esses conceitos!"
      ]
    },
    {
      "cell_type": "code",
      "execution_count": null,
      "metadata": {},
      "outputs": [],
      "source": [
        "# Vamos criar alguns documentos sobre tecnologia\n",
        "documentos_texto = [\n",
        "    \"Python é uma linguagem de programação interpretada, de alto nível e de propósito geral.\",\n",
        "    \"Machine Learning é um ramo da inteligência artificial que usa algoritmos para aprender padrões.\",\n",
        "    \"O LangChain é um framework para desenvolvimento de aplicações com Large Language Models.\",\n",
        "    \"JavaScript é a linguagem de programação mais popular para desenvolvimento web frontend.\",\n",
        "    \"Deep Learning usa redes neurais artificiais com múltiplas camadas para resolver problemas complexos.\",\n",
        "    \"React é uma biblioteca JavaScript para construção de interfaces de usuário interativas.\",\n",
        "    \"Natural Language Processing permite que computadores entendam e processem linguagem humana.\",\n",
        "    \"AWS é a plataforma de computação em nuvem mais popular do mundo.\",\n",
        "    \"Docker é uma plataforma que usa containers para facilitar o deployment de aplicações.\",\n",
        "    \"Git é um sistema de controle de versão distribuído usado para gerenciar código fonte.\"\n",
        "]\n",
        "\n",
        "# Convertendo textos em objetos Document (como vimos no módulo anterior)\n",
        "documents = []\n",
        "for i, texto in enumerate(documentos_texto):\n",
        "    doc = Document(\n",
        "        page_content=texto,\n",
        "        metadata={\"id\": i, \"categoria\": \"tecnologia\"}\n",
        "    )\n",
        "    documents.append(doc)\n",
        "\n",
        "print(f\"✅ Criados {len(documents)} documentos para indexar no vector store\")"
      ]
    },
    {
      "cell_type": "code",
      "execution_count": null,
      "metadata": {},
      "outputs": [],
      "source": [
        "# Agora vamos criar nosso Vector Store usando FAISS\n",
        "print(\"🔄 Criando Vector Store...\")\n",
        "print(\"Isso pode demorar um pouquinho na primeira vez...\")\n",
        "\n",
        "# FAISS é uma biblioteca super eficiente para busca por similaridade\n",
        "vector_store = FAISS.from_documents(\n",
        "    documents=documents,\n",
        "    embedding=embeddings_model\n",
        ")\n",
        "\n",
        "print(\"✅ Vector Store criado com sucesso!\")\n",
        "print(f\"📚 Indexados {len(documents)} documentos\")\n",
        "print(\"🎯 Agora podemos fazer buscas semânticas!\")"
      ]
    },
    {
      "cell_type": "markdown",
      "metadata": {},
      "source": [
        "## 🔍 Fazendo Buscas Semânticas\n\nAgora vem a parte mais legal! Vamos fazer perguntas e ver como o Vector Store encontra documentos relevantes baseado no **significado**, não apenas nas palavras exatas."
      ]
    },
    {
      "cell_type": "code",
      "execution_count": null,
      "metadata": {},
      "outputs": [],
      "source": [
        "# Vamos fazer algumas consultas interessantes\n",
        "consultas = [\n",
        "    \"Como funciona inteligência artificial?\",\n",
        "    \"Qual linguagem usar para sites?\", \n",
        "    \"Como fazer deploy de aplicações?\",\n",
        "    \"Ferramentas para gerenciar código\",\n",
        "    \"Desenvolvimento de interfaces web\"\n",
        "]\n",
        "\n",
        "for consulta in consultas:\n",
        "    print(f\"\\n🔍 BUSCA: '{consulta}'\")\n",
        "    print(\"=\"*60)\n",
        "    \n",
        "    # Busca pelos 2 documentos mais similares\n",
        "    docs_similares = vector_store.similarity_search(consulta, k=2)\n",
        "    \n",
        "    for i, doc in enumerate(docs_similares, 1):\n",
        "        print(f\"{i}. {doc.page_content}\")\n",
        "        \n",
        "    print(\"\\n💡 Veja como encontrou documentos relevantes mesmo sem usar as palavras exatas!\")"
      ]
    },
    {
      "cell_type": "markdown",
      "metadata": {},
      "source": [
        "## 📈 Busca com Scores de Similaridade\n\nVamos ver exatamente **quão similares** são os documentos encontrados através dos scores de similaridade."
      ]
    },
    {
      "cell_type": "code",
      "execution_count": null,
      "metadata": {},
      "outputs": [],
      "source": [
        "# Fazendo busca com scores de similaridade\n",
        "consulta_teste = \"programação e desenvolvimento de software\"\n",
        "\n",
        "print(f\"🎯 ANÁLISE DETALHADA DA BUSCA: '{consulta_teste}'\")\n",
        "print(\"=\"*70)\n",
        "\n",
        "# similarity_search_with_score retorna documentos E seus scores\n",
        "docs_com_score = vector_store.similarity_search_with_score(consulta_teste, k=5)\n",
        "\n",
        "for i, (doc, score) in enumerate(docs_com_score, 1):\n",
        "    print(f\"\\n{i}. SCORE: {score:.4f}\")\n",
        "    print(f\"   TEXTO: {doc.page_content}\")\n",
        "    \n",
        "    # Vamos interpretar o score\n",
        "    if score < 0.5:\n",
        "        interpretacao = \"🟢 Muito relevante\"\n",
        "    elif score < 1.0:\n",
        "        interpretacao = \"🟡 Relevante\"\n",
        "    else:\n",
        "        interpretacao = \"🔴 Pouco relevante\"\n",
        "    \n",
        "    print(f\"   RELEVÂNCIA: {interpretacao}\")\n",
        "\n",
        "print(\"\\n📊 No FAISS, scores MENORES = mais similares (é uma distância!)\")"
      ]
    },
    {
      "cell_type": "markdown",
      "metadata": {},
      "source": [
        "## ⚡ Diferentes Tipos de Vector Stores\n\nExistem vários tipos de Vector Stores, cada um com suas vantagens:\n\n### 📋 Principais opções no LangChain:\n- **FAISS**: Rápido, local, ótimo para prototipagem\n- **Chroma**: Persistente, fácil de usar\n- **Pinecone**: Gerenciado, escalável (pago)\n- **Weaviate**: Open source, recursos avançados\n- **Qdrant**: Russo, muito rápido\n\n**Dica!** Para produção, considere options que persistem dados automaticamente!"
      ]
    },
    {
      "cell_type": "code",
      "execution_count": null,
      "metadata": {},
      "outputs": [],
      "source": [
        "# Vamos também testar com Chroma (se disponível)\n",
        "try:\n",
        "    from langchain_community.vectorstores import Chroma\n",
        "    \n",
        "    print(\"🔄 Testando Chroma Vector Store...\")\n",
        "    \n",
        "    # Criando vector store com Chroma\n",
        "    chroma_store = Chroma.from_documents(\n",
        "        documents=documents[:3],  # Só os primeiros 3 para testar\n",
        "        embedding=embeddings_model\n",
        "    )\n",
        "    \n",
        "    # Testando uma busca\n",
        "    resultado = chroma_store.similarity_search(\"linguagem de programação\", k=2)\n",
        "    \n",
        "    print(\"✅ Chroma funcionando!\")\n",
        "    print(\"🔍 Resultado da busca no Chroma:\")\n",
        "    for doc in resultado:\n",
        "        print(f\"   • {doc.page_content}\")\n",
        "        \n",
        "except Exception as e:\n",
        "    print(f\"⚠️ Chroma não disponível: {e}\")\n",
        "    print(\"💡 Isso é normal! FAISS já é suficiente para aprender\")"
      ]
    },
    {
      "cell_type": "markdown",
      "metadata": {},
      "source": [
        "## 💾 Persistindo e Carregando Vector Stores\n\nNa vida real, você não quer recriar seu Vector Store toda vez! Vamos aprender a salvar e carregar."
      ]
    },
    {
      "cell_type": "code",
      "execution_count": null,
      "metadata": {},
      "outputs": [],
      "source": [
        "# Salvando nosso Vector Store\n",
        "import os\n",
        "\n",
        "# Criando diretório para salvar\n",
        "save_directory = \"meu_vector_store\"\n",
        "if not os.path.exists(save_directory):\n",
        "    os.makedirs(save_directory)\n",
        "\n",
        "print(\"💾 Salvando Vector Store...\")\n",
        "\n",
        "# FAISS permite salvar localmente\n",
        "vector_store.save_local(save_directory)\n",
        "\n",
        "print(f\"✅ Vector Store salvo em: {save_directory}\")\n",
        "print(f\"📁 Arquivos criados: {os.listdir(save_directory)}\")"
      ]
    },
    {
      "cell_type": "code",
      "execution_count": null,
      "metadata": {},
      "outputs": [],
      "source": [
        "# Carregando Vector Store salvo\n",
        "print(\"📂 Carregando Vector Store salvo...\")\n",
        "\n",
        "# Carregando de volta\n",
        "vector_store_carregado = FAISS.load_local(\n",
        "    save_directory,\n",
        "    embeddings_model,\n",
        "    allow_dangerous_deserialization=True  # Necessário para versões mais recentes\n",
        ")\n",
        "\n",
        "print(\"✅ Vector Store carregado com sucesso!\")\n",
        "\n",
        "# Testando se funciona\n",
        "teste = vector_store_carregado.similarity_search(\"inteligência artificial\", k=1)\n",
        "print(f\"🧪 Teste: {teste[0].page_content}\")\n",
        "\n",
        "print(\"\\n🎯 Liiindo! Agora você pode salvar e carregar seus Vector Stores!\")"
      ]
    },
    {
      "cell_type": "markdown",
      "metadata": {},
      "source": [
        "## 🔄 Adicionando Novos Documentos\n\nVector Stores não são estáticos! Você pode adicionar novos documentos dinamicamente."
      ]
    },
    {
      "cell_type": "code",
      "execution_count": null,
      "metadata": {},
      "outputs": [],
      "source": [
        "# Vamos adicionar alguns documentos novos\n",
        "novos_textos = [\n",
        "    \"Kubernetes é uma plataforma de orquestração de containers open-source.\",\n",
        "    \"FastAPI é um framework web moderno e rápido para construir APIs com Python.\",\n",
        "    \"Pandas é uma biblioteca Python essencial para análise e manipulação de dados.\"\n",
        "]\n",
        "\n",
        "# Convertendo em Documents\n",
        "novos_docs = []\n",
        "for i, texto in enumerate(novos_textos):\n",
        "    doc = Document(\n",
        "        page_content=texto,\n",
        "        metadata={\"id\": len(documents) + i, \"categoria\": \"tecnologia\", \"novo\": True}\n",
        "    )\n",
        "    novos_docs.append(doc)\n",
        "\n",
        "print(f\"➕ Adicionando {len(novos_docs)} novos documentos...\")\n",
        "\n",
        "# Adicionando ao vector store existente\n",
        "vector_store.add_documents(novos_docs)\n",
        "\n",
        "print(\"✅ Documentos adicionados com sucesso!\")\n",
        "\n",
        "# Testando busca com os novos documentos\n",
        "resultado = vector_store.similarity_search(\"análise de dados\", k=2)\n",
        "print(\"\\n🔍 Testando busca com novos documentos:\")\n",
        "for doc in resultado:\n",
        "    print(f\"   • {doc.page_content}\")"
      ]
    },
    {
      "cell_type": "markdown",
      "metadata": {},
      "source": [
        "## 🎨 Visualizando o Vector Store Completo\n\nVamos criar uma visualização legal de todo nosso vector store para entender como os documentos se organizam no espaço vetorial."
      ]
    },
    {
      "cell_type": "code",
      "execution_count": null,
      "metadata": {},
      "outputs": [],
      "source": [
        "# Vamos buscar todos os embeddings do nosso vector store\n",
        "# Para isso, vamos fazer uma busca bem genérica que retorne muitos documentos\n",
        "todos_docs = vector_store.similarity_search(\"tecnologia programação\", k=20)\n",
        "\n",
        "print(f\"📊 Coletando embeddings de {len(todos_docs)} documentos...\")\n",
        "\n",
        "# Gerando embeddings de todos os documentos para visualizar\n",
        "doc_embeddings = []\n",
        "doc_labels = []\n",
        "\n",
        "for doc in todos_docs:\n",
        "    # Pegando só as primeiras palavras para o label\n",
        "    label = ' '.join(doc.page_content.split()[:3]) + '...'\n",
        "    doc_labels.append(label)\n",
        "    \n",
        "    # Gerando embedding\n",
        "    embedding = embeddings_model.embed_query(doc.page_content)\n",
        "    doc_embeddings.append(embedding)\n",
        "\n",
        "# Reduzindo dimensionalidade para visualizar\n",
        "doc_embeddings_array = np.array(doc_embeddings)\n",
        "pca_docs = PCA(n_components=2)\n",
        "docs_2d = pca_docs.fit_transform(doc_embeddings_array)\n",
        "\n",
        "print(\"✅ Embeddings coletados! Criando visualização...\")"
      ]
    },
    {
      "cell_type": "code",
      "execution_count": null,
      "metadata": {},
      "outputs": [],
      "source": [
        "# Criando visualização dos documentos no espaço vetorial\n",
        "plt.figure(figsize=(15, 10))\n",
        "\n",
        "# Definindo cores baseadas no tipo de tecnologia\n",
        "cores_por_tema = []\n",
        "for label in doc_labels:\n",
        "    if any(word in label.lower() for word in ['python', 'javascript', 'linguagem']):\n",
        "        cores_por_tema.append('red')\n",
        "    elif any(word in label.lower() for word in ['machine', 'deep', 'artificial', 'natural']):\n",
        "        cores_por_tema.append('blue')\n",
        "    elif any(word in label.lower() for word in ['react', 'web', 'interface']):\n",
        "        cores_por_tema.append('green')\n",
        "    elif any(word in label.lower() for word in ['aws', 'docker', 'kubernetes']):\n",
        "        cores_por_tema.append('orange')\n",
        "    else:\n",
        "        cores_por_tema.append('gray')\n",
        "\n",
        "# Plotando os pontos\n",
        "for i, (x, y) in enumerate(docs_2d):\n",
        "    plt.scatter(x, y, c=cores_por_tema[i], s=100, alpha=0.7)\n",
        "    plt.annotate(doc_labels[i], (x, y), xytext=(5, 5), \n",
        "                textcoords='offset points', fontsize=8, \n",
        "                bbox=dict(boxstyle='round,pad=0.3', facecolor='white', alpha=0.7))\n",
        "\n",
        "plt.title('Mapa do Vector Store - Documentos Similares Ficam Próximos!', fontsize=16)\n",
        "plt.xlabel('Dimensão 1 (PCA)', fontsize=12)\n",
        "plt.ylabel('Dimensão 2 (PCA)', fontsize=12)\n",
        "plt.grid(True, alpha=0.3)\n",
        "\n",
        "# Criando legenda\n",
        "from matplotlib.patches import Patch\n",
        "legend_elements = [\n",
        "    Patch(facecolor='red', label='Linguagens de Programação'),\n",
        "    Patch(facecolor='blue', label='Inteligência Artificial'),\n",
        "    Patch(facecolor='green', label='Desenvolvimento Web'),\n",
        "    Patch(facecolor='orange', label='Infraestrutura/Cloud'),\n",
        "    Patch(facecolor='gray', label='Outros')\n",
        "]\n",
        "plt.legend(handles=legend_elements, loc='upper right')\n",
        "\n",
        "plt.tight_layout()\n",
        "plt.show()\n",
        "\n",
        "print(\"🎯 Liiindo! Veja como documentos similares se agrupam naturalmente!\")"
      ]
    },
    {
      "cell_type": "markdown",
      "metadata": {},
      "source": [
        "## 🛠️ Exercício Prático 1: Criando seu Vector Store\n\nAgora é sua vez! Vamos criar um vector store sobre um tema diferente."
      ]
    },
    {
      "cell_type": "code",
      "execution_count": null,
      "metadata": {},
      "outputs": [],
      "source": [
        "# 🎯 EXERCÍCIO: Complete o código abaixo\n",
        "# Crie um vector store sobre culinária brasileira\n",
        "\n",
        "# 1. Crie uma lista com pelo menos 5 frases sobre culinária brasileira\n",
        "culinaria_textos = [\n",
        "    # Adicione suas frases aqui!\n",
        "    \"Feijoada é um dos pratos mais tradicionais da culinária brasileira.\",\n",
        "    # ... adicione mais 4 frases\n",
        "]\n",
        "\n",
        "# 2. Converta em Documents\n",
        "# Seu código aqui...\n",
        "\n",
        "# 3. Crie o vector store\n",
        "# Seu código aqui...\n",
        "\n",
        "# 4. Teste com uma busca sobre \"sobremesa brasileira\"\n",
        "# Seu código aqui...\n",
        "\n",
        "print(\"🍽️ Complete este exercício para praticar!\")"
      ]
    },
    {
      "cell_type": "markdown",
      "metadata": {},
      "source": [
        "## 🔗 Integrando com Chains (Preparação para RAG)\n\nLembra das Chains que vimos no módulo 6? Agora vamos conectar vector stores com chains, preparando o terreno para RAG no próximo módulo!"
      ]
    },
    {
      "cell_type": "code",
      "execution_count": null,
      "metadata": {},
      "outputs": [],
      "source": [
        "# Criando uma chain simples que usa vector store\n",
        "from langchain.schema.runnable import RunnablePassthrough\n",
        "from langchain.schema.output_parser import StrOutputParser\n",
        "from langchain_core.prompts import PromptTemplate\n",
        "\n",
        "# Função simples para buscar documentos relevantes\n",
        "def buscar_documentos(query):\n",
        "    docs = vector_store.similarity_search(query, k=2)\n",
        "    # Juntando o conteúdo dos documentos\n",
        "    contexto = \"\\n\".join([doc.page_content for doc in docs])\n",
        "    return contexto\n",
        "\n",
        "# Criando um template que usa o contexto do vector store\n",
        "template = \"\"\"Com base no seguinte contexto sobre tecnologia:\n",
        "\n",
        "CONTEXTO:\n",
        "{contexto}\n",
        "\n",
        "PERGUNTA: {pergunta}\n",
        "\n",
        "Responda de forma clara e baseada no contexto fornecido.\n",
        "RESPOSTA:\"\"\"\n",
        "\n",
        "prompt = PromptTemplate(\n",
        "    template=template,\n",
        "    input_variables=[\"contexto\", \"pergunta\"]\n",
        ")\n",
        "\n",
        "print(\"🔗 Chain preparada para usar com vector store!\")\n",
        "print(\"💡 No próximo módulo vamos ver como fazer isso com LLMs de verdade!\")\n",
        "\n",
        "# Testando a busca\n",
        "pergunta_teste = \"O que é Python?\"\n",
        "contexto_encontrado = buscar_documentos(pergunta_teste)\n",
        "\n",
        "print(f\"\\n🔍 Para a pergunta: '{pergunta_teste}'\")\n",
        "print(f\"📚 Contexto encontrado:\\n{contexto_encontrado}\")"
      ]
    },
    {
      "cell_type": "markdown",
      "metadata": {},
      "source": [
        "## ⚙️ Configurações Avançadas de Vector Stores\n\nVamos ver algumas configurações mais avançadas que você pode usar para otimizar seus vector stores."
      ]
    },
    {
      "cell_type": "code",
      "execution_count": null,
      "metadata": {},
      "outputs": [],
      "source": [
        "# Testando diferentes algoritmos de busca\n",
        "print(\"🔬 COMPARANDO DIFERENTES ALGORITMOS DE BUSCA\")\n",
        "print(\"=\"*60)\n",
        "\n",
        "query_teste = \"desenvolvimento de aplicações web\"\n",
        "\n",
        "# 1. Busca padrão por similaridade\n",
        "docs_similarity = vector_store.similarity_search(query_teste, k=3)\n",
        "print(\"\\n1️⃣ SIMILARITY SEARCH (padrão):\")\n",
        "for i, doc in enumerate(docs_similarity, 1):\n",
        "    texto_resumido = doc.page_content[:50] + \"...\"\n",
        "    print(f\"   {i}. {texto_resumido}\")\n",
        "\n",
        "# 2. Busca com MMR (Maximum Marginal Relevance)\n",
        "# MMR balanceia relevância e diversidade\n",
        "try:\n",
        "    docs_mmr = vector_store.max_marginal_relevance_search(query_teste, k=3)\n",
        "    print(\"\\n2️⃣ MMR SEARCH (mais diverso):\")\n",
        "    for i, doc in enumerate(docs_mmr, 1):\n",
        "        texto_resumido = doc.page_content[:50] + \"...\"\n",
        "        print(f\"   {i}. {texto_resumido}\")\n",
        "except:\n",
        "    print(\"\\n2️⃣ MMR não disponível nesta versão\")\n",
        "\n",
        "print(\"\\n💡 MMR é útil quando você quer resultados relevantes MAS diversos!\")"
      ]
    },
    {
      "cell_type": "markdown",
      "metadata": {},
      "source": [
        "## 📊 Métricas e Avaliação de Vector Stores\n\nComo saber se seu vector store está funcionando bem? Vamos criar algumas métricas simples!"
      ]
    },
    {
      "cell_type": "code",
      "execution_count": null,
      "metadata": {},
      "outputs": [],
      "source": [
        "# Criando função para avaliar qualidade das buscas\n",
        "def avaliar_vector_store(vector_store, queries_teste, respostas_esperadas):\n",
        "    \"\"\"\n",
        "    Avalia a qualidade de um vector store\n",
        "    \"\"\"\n",
        "    scores = []\n",
        "    \n",
        "    print(\"📊 AVALIANDO QUALIDADE DO VECTOR STORE\")\n",
        "    print(\"=\"*50)\n",
        "    \n",
        "    for i, (query, palavras_esperadas) in enumerate(zip(queries_teste, respostas_esperadas)):\n",
        "        # Busca o documento mais relevante\n",
        "        docs = vector_store.similarity_search(query, k=1)\n",
        "        \n",
        "        if docs:\n",
        "            documento_encontrado = docs[0].page_content.lower()\n",
        "            \n",
        "            # Conta quantas palavras-chave esperadas aparecem no resultado\n",
        "            palavras_encontradas = 0\n",
        "            for palavra in palavras_esperadas:\n",
        "                if palavra.lower() in documento_encontrado:\n",
        "                    palavras_encontradas += 1\n",
        "            \n",
        "            score = palavras_encontradas / len(palavras_esperadas)\n",
        "            scores.append(score)\n",
        "            \n",
        "            print(f\"\\n🔍 Query {i+1}: '{query}'\")\n",
        "            print(f\"📄 Documento: {docs[0].page_content[:60]}...\")\n",
        "            print(f\"🎯 Score: {score:.2f} ({palavras_encontradas}/{len(palavras_esperadas)} palavras-chave)\")\n",
        "        else:\n",
        "            scores.append(0)\n",
        "    \n",
        "    score_medio = sum(scores) / len(scores) if scores else 0\n",
        "    print(f\"\\n📊 SCORE MÉDIO DO VECTOR STORE: {score_medio:.2f}\")\n",
        "    \n",
        "    return score_medio, scores\n",
        "\n",
        "# Definindo queries de teste\n",
        "queries_teste = [\n",
        "    \"linguagem para programar\",\n",
        "    \"inteligência artificial e aprendizado\", \n",
        "    \"desenvolvimento web frontend\"\n",
        "]\n",
        "\n",
        "# Palavras que esperamos encontrar em cada resposta\n",
        "respostas_esperadas = [\n",
        "    [\"python\", \"javascript\", \"linguagem\"],\n",
        "    [\"machine\", \"learning\", \"artificial\", \"deep\"],\n",
        "    [\"javascript\", \"react\", \"web\", \"frontend\"]\n",
        "]\n",
        "\n",
        "# Executando avaliação\n",
        "score_final, scores_individuais = avaliar_vector_store(vector_store, queries_teste, respostas_esperadas)"
      ]
    },
    {
      "cell_type": "markdown",
      "metadata": {},
      "source": [
        "## 🎯 Exercício Final: Vector Store Completo\n\nHora do exercício final! Vamos criar um vector store completo do zero."
      ]
    },
    {
      "cell_type": "code",
      "execution_count": null,
      "metadata": {},
      "outputs": [],
      "source": [
        "# 🎯 EXERCÍCIO FINAL: Vector Store sobre Esportes\n",
        "# Sua missão: criar um sistema completo de busca sobre esportes\n",
        "\n",
        "print(\"🏆 EXERCÍCIO FINAL: Sistema de Busca sobre Esportes\")\n",
        "print(\"=\"*60)\n",
        "print(\"\\n📝 TAREFAS:\")\n",
        "print(\"1. Criar pelo menos 8 documentos sobre diferentes esportes\")\n",
        "print(\"2. Criar o vector store\")\n",
        "print(\"3. Fazer 3 buscas diferentes\")\n",
        "print(\"4. Salvar o vector store\")\n",
        "print(\"5. Adicionar 2 novos documentos\")\n",
        "print(\"6. Testar uma busca final\")\n",
        "\n",
        "# Comece aqui!\n",
        "# Dica: use esportes como futebol, basquete, tênis, natação, etc.\n",
        "\n",
        "# 1. Seus documentos sobre esportes:\n",
        "esportes_docs = [\n",
        "    # Complete com pelo menos 8 frases sobre esportes!\n",
        "]\n",
        "\n",
        "print(\"\\n🚀 Complete este exercício para dominar vector stores!\")\n",
        "print(\"💡 Dica: pense em diferentes aspectos - regras, equipamentos, história...\")"
      ]
    },
    {
      "cell_type": "markdown",
      "metadata": {},
      "source": [
        "## 🎊 Resumo e Próximos Passos\n\n**Parabéns! Você dominou Vector Stores e Embeddings! 🎉**\n\n### 📚 O que aprendemos:\n- ✅ **Embeddings**: Como transformar texto em vetores numéricos\n- ✅ **Vector Stores**: Como armazenar e buscar por similaridade semântica\n- ✅ **FAISS**: Vector store rápido para prototipagem\n- ✅ **Busca Semântica**: Encontrar documentos por significado, não palavras exatas\n- ✅ **Persistência**: Salvar e carregar vector stores\n- ✅ **Métricas**: Avaliar a qualidade das buscas\n\n### 🔄 Conexão com o curso:\n- **Módulos anteriores**: Usamos Documents do módulo 8\n- **Próximo módulo**: RAG (Retrieval Augmented Generation) - onde vamos conectar vector stores com LLMs!\n\n### 🎯 **No próximo módulo (RAG)** vamos:\n- Conectar vector stores com Gemini/ChatGPT\n- Fazer perguntas e obter respostas baseadas em nossos documentos\n- Criar um sistema completo de Q&A\n\n**Dica!** Vector Stores são a base de quase todas as aplicações modernas de IA que trabalham com documentos!\n\n![](https://s3.us-east-1.amazonaws.com/turing.education/notebooks/imagens/langchain-modulo-09_img_02.png)"
      ]
    }
  ]
}