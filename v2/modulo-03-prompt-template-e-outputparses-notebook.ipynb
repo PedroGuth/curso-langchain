{
  "nbformat": 4,
  "nbformat_minor": 0,
  "metadata": {
    "colab": {
      "provenance": []
    },
    "kernelspec": {
      "name": "python3",
      "display_name": "Python 3"
    },
    "language_info": {
      "name": "python"
    }
  },
  "cells": [
    {
      "cell_type": "markdown",
      "metadata": {},
      "source": [
        "# 🎯 Prompt Templates e OutputParsers: A Arte de Conversar com IA de Forma Profissional!\n\n**Módulo 3 - LangChain v0.2 | Por Pedro Guth**\n\n---\n\nE aí pessoal! 🚀 Bem-vindos ao terceiro módulo do nosso curso de LangChain!\n\nNo módulo anterior, aprendemos sobre ChatModels e LCEL. Agora vamos dar um passo GIGANTE para frente: aprender a criar prompts profissionais e parsear as respostas da IA de forma estruturada!\n\nTá, mas Pedro, por que isso é importante? 🤔\n\nImagina que você tem um assistente super inteligente, mas ele só entende instruções muito específicas e às vezes responde de forma bagunçada. Os **Prompt Templates** são como um roteiro bem estruturado, e os **OutputParsers** são como um tradutor que organiza tudo bonitinho!\n\n**Analogia do Garçom:** É como a diferença entre chegar no restaurante e falar \"quero comida\" vs \"Oi, gostaria do prato executivo com frango grelhado, arroz branco e salada verde, por favor\". Qual vai dar melhor resultado? 😄"
      ]
    },
    {
      "cell_type": "markdown",
      "metadata": {},
      "source": [
        "## 📋 O que vamos aprender hoje?\n\n1. **Prompt Templates**: Como criar prompts reutilizáveis e profissionais\n2. **OutputParsers**: Como estruturar as respostas da IA\n3. **Integração**: Como combinar tudo isso com LCEL\n4. **Casos práticos**: Exemplos do mundo real\n5. **Preparação**: Base para Chains (próximo módulo)\n\n---\n\n![](/Users/pedroguth/Downloads/Projetos/Book Maker/5-Imagens/langchain---usando-versão-v0.2-modulo-03_img_01.png)"
      ]
    },
    {
      "cell_type": "code",
      "execution_count": null,
      "metadata": {},
      "outputs": [],
      "source": [
        "# Vamos começar instalando e importando tudo que precisamos!\n# Bora preparar nosso ambiente de trabalho! 🛠️\n\n!pip install langchain langchain-google-genai python-dotenv matplotlib\n\nimport os\nfrom dotenv import load_dotenv\nfrom langchain_google_genai import ChatGoogleGenerativeAI\nfrom langchain.prompts import PromptTemplate, ChatPromptTemplate\nfrom langchain.output_parsers import PydanticOutputParser, CommaSeparatedListOutputParser\nfrom langchain.schema import BaseOutputParser\nfrom pydantic import BaseModel, Field\nfrom typing import List\nimport matplotlib.pyplot as plt\nimport json\n\n# Carregando as variáveis de ambiente\nload_dotenv()\n\nprint(\"✅ Imports realizados com sucesso!\")\nprint(\"🚀 Vamos começar nossa jornada com Prompt Templates!\")"
      ]
    },
    {
      "cell_type": "code",
      "execution_count": null,
      "metadata": {},
      "outputs": [],
      "source": [
        "# Configurando nosso modelo (lembrando do módulo anterior!)\n# Usando o Gemini 2.0 Flash como definido no curso\n\nllm = ChatGoogleGenerativeAI(\n    model=\"gemini-2.0-flash-exp\",\n    temperature=0.7,\n    google_api_key=os.getenv(\"GOOGLE_API_KEY\")\n)\n\n# Testando se está funcionando\nresposta_simples = llm.invoke(\"Olá! Como você está?\")\nprint(\"🤖 Teste do modelo:\")\nprint(resposta_simples.content)\n\nprint(\"\\n✅ Modelo configurado e funcionando!\")"
      ]
    },
    {
      "cell_type": "markdown",
      "metadata": {},
      "source": [
        "## 🎭 Entendendo Prompt Templates\n\n**Tá, mas o que são Prompt Templates mesmo?**\n\nPense nos Prompt Templates como **formulários inteligentes** para conversar com IA. Em vez de escrever prompts do zero toda vez, você cria um \"molde\" que pode ser reutilizado!\n\n**Analogia da Receita de Bolo:** 🍰\n- Sem template: \"Faça um bolo\" (muito vago!)\n- Com template: \"Faça um bolo de {sabor} com {cobertura}, serve {pessoas} pessoas\" (específico e reutilizável!)\n\n### Vantagens dos Prompt Templates:\n\n1. **Consistência**: Sempre o mesmo padrão\n2. **Reutilização**: Muda só as variáveis\n3. **Manutenção**: Altera em um lugar, funciona em todo lugar\n4. **Profissionalismo**: Prompts bem estruturados\n\n"
      ]
    },
    {
      "cell_type": "code",
      "execution_count": null,
      "metadata": {},
      "outputs": [],
      "source": [
        "# Exemplo prático: Prompt sem template vs com template\n# Vamos ver a diferença na prática!\n\n# ❌ JEITO RUIM - Sem template (sempre recriando)\nprompt_ruim_1 = \"Escreva um email de marketing para vender curso de Python\"\nprompt_ruim_2 = \"Escreva um email de marketing para vender curso de Java\"\nprompt_ruim_3 = \"Escreva um email de marketing para vender curso de JavaScript\"\n\nprint(\"❌ Jeito ruim - Repetindo código:\")\nprint(f\"Prompt 1: {prompt_ruim_1}\")\nprint(f\"Prompt 2: {prompt_ruim_2}\")\nprint(f\"Prompt 3: {prompt_ruim_3}\")\n\nprint(\"\\n\" + \"=\"*50 + \"\\n\")\n\n# ✅ JEITO BOM - Com template\ntemplate_bom = PromptTemplate(\n    input_variables=[\"curso\", \"nivel\"],\n    template=\"\"\"\n    Escreva um email de marketing profissional para vender um curso de {curso}.\n    \n    Detalhes:\n    - Nível: {nivel}\n    - Tom: Entusiasta mas profissional\n    - Tamanho: Máximo 200 palavras\n    - Inclua call-to-action\n    \n    Email:\n    \"\"\"\n)\n\nprint(\"✅ Jeito bom - Com template reutilizável:\")\nprint(template_bom.template)\n\n# Testando o template\nprompt_python = template_bom.format(curso=\"Python\", nivel=\"Iniciante\")\nprint(f\"\\n🐍 Prompt para Python:\\n{prompt_python}\")"
      ]
    },
    {
      "cell_type": "markdown",
      "metadata": {},
      "source": [
        "### 💡 Dica do Pedro:\n\n**Sempre use templates quando:**\n- O prompt tem estrutura repetitiva\n- Você vai usar o mesmo padrão várias vezes\n- Quer manter consistência no projeto\n- Está trabalhando em equipe\n\n---\n\n## 🔄 Tipos de Prompt Templates\n\nO LangChain oferece diferentes tipos de templates para diferentes necessidades:"
      ]
    },
    {
      "cell_type": "code",
      "execution_count": null,
      "metadata": {},
      "outputs": [],
      "source": [
        "# 1. PromptTemplate - Para modelos de texto simples\ntemplate_simples = PromptTemplate(\n    input_variables=[\"produto\", \"problema\"],\n    template=\"Como o {produto} pode resolver o problema de {problema}?\"\n)\n\nprint(\"1️⃣ PromptTemplate Simples:\")\nprint(template_simples.format(produto=\"ChatGPT\", problema=\"produtividade no trabalho\"))\n\nprint(\"\\n\" + \"-\"*50 + \"\\n\")\n\n# 2. ChatPromptTemplate - Para modelos de chat (mais moderno!)\nchat_template = ChatPromptTemplate.from_messages([\n    (\"system\", \"Você é um especialista em {area} com 10 anos de experiência.\"),\n    (\"human\", \"Me explique sobre {topico} de forma simples e prática.\")\n])\n\nprint(\"2️⃣ ChatPromptTemplate (RECOMENDADO):\")\nmensagens = chat_template.format_messages(\n    area=\"Inteligência Artificial\",\n    topico=\"Redes Neurais\"\n)\n\nfor msg in mensagens:\n    print(f\"{msg.type}: {msg.content}\")\n\nprint(\"\\n\" + \"-\"*50 + \"\\n\")\n\n# 3. Template com múltiplas variáveis e lógica\ntemplate_avancado = ChatPromptTemplate.from_template(\"\"\"\nVocê é um {papel} especializado em {area}.\n\nTarefa: {tarefa}\n\nContexto:\n- Público-alvo: {publico}\n- Nível de conhecimento: {nivel}\n- Formato desejado: {formato}\n\nInstruções específicas:\n1. Use linguagem {tom}\n2. Inclua exemplos práticos\n3. Mantenha o foco em {foco}\n\nResposta:\n\"\"\")\n\nprint(\"3️⃣ Template Avançado com Múltiplas Variáveis:\")\nprint(\"Template criado com sucesso! ✅\")"
      ]
    },
    {
      "cell_type": "markdown",
      "metadata": {},
      "source": [
        "## 📊 Visualizando o Fluxo de Prompt Templates\n\nVamos criar um diagrama para entender melhor como funciona:"
      ]
    },
    {
      "cell_type": "code",
      "execution_count": null,
      "metadata": {},
      "outputs": [],
      "source": [
        "# Vamos visualizar o processo de criação e uso de templates\nimport matplotlib.pyplot as plt\nimport matplotlib.patches as patches\nfrom matplotlib.patches import FancyBboxPatch\n\nfig, ax = plt.subplots(1, 1, figsize=(12, 8))\n\n# Definindo as etapas\netapas = [\n    (\"1. Template\\nDefinition\", 1, 6, \"lightblue\"),\n    (\"2. Variable\\nInput\", 3, 6, \"lightgreen\"),\n    (\"3. Format\\nPrompt\", 5, 6, \"lightyellow\"),\n    (\"4. Send to\\nLLM\", 7, 6, \"lightcoral\"),\n    (\"5. Get\\nResponse\", 9, 6, \"lightpink\")\n]\n\n# Desenhando as caixas\nfor texto, x, y, cor in etapas:\n    box = FancyBboxPatch((x-0.4, y-0.4), 0.8, 0.8, \n                         boxstyle=\"round,pad=0.1\", \n                         facecolor=cor, \n                         edgecolor='black',\n                         linewidth=2)\n    ax.add_patch(box)\n    ax.text(x, y, texto, ha='center', va='center', fontsize=10, fontweight='bold')\n\n# Desenhando as setas\nfor i in range(len(etapas)-1):\n    x1 = etapas[i][1] + 0.4\n    x2 = etapas[i+1][1] - 0.4\n    y = 6\n    ax.annotate('', xy=(x2, y), xytext=(x1, y),\n                arrowprops=dict(arrowstyle='->', lw=2, color='darkblue'))\n\n# Adicionando exemplos embaixo\nexemplos = [\n    \"Template:\\n'Explique {topico}\\npara {publico}'\",\n    \"Variables:\\ntopico='AI'\\npublico='crianças'\",\n    \"Formatted:\\n'Explique AI\\npara crianças'\",\n    \"LLM\\nProcessing\",\n    \"Response:\\n'AI é como um\\nrobô inteligente...'\"\n]\n\nfor i, (exemplo, x, y, cor) in enumerate(zip(exemplos, [e[1] for e in etapas], [4]*5, [e[3] for e in etapas])):\n    ax.text(x, y, exemplo, ha='center', va='center', fontsize=8, \n            bbox=dict(boxstyle=\"round,pad=0.3\", facecolor='white', alpha=0.8))\n\nax.set_xlim(0, 10)\nax.set_ylim(3, 7)\nax.set_title('🎯 Fluxo de Prompt Templates no LangChain', fontsize=16, fontweight='bold', pad=20)\nax.axis('off')\n\nplt.tight_layout()\nplt.show()\n\nprint(\"📊 Fluxo visualizado! Agora você entende o processo completo!\")"
      ]
    },
    {
      "cell_type": "markdown",
      "metadata": {},
      "source": [
        "## 🎯 Output Parsers - Organizando as Respostas\n\n**Tá, Pedro, mas o que são Output Parsers?**\n\nImagina que você pergunta para um amigo \"Me fala 3 filmes bons\" e ele responde:\n\n*\"Ah cara, tem aquele filme do Batman que é muito bom, sabe? E também O Poderoso Chefão que é clássico né, ah e Interestelar que é meio complexo mas é demais!\"*\n\nOs **Output Parsers** são como um organizador que pega essa resposta bagunçada e transforma em:\n```\n1. Batman\n2. O Poderoso Chefão  \n3. Interestelar\n```\n\n**Em termos técnicos:** Output Parsers pegam a resposta de texto da IA e transformam em estruturas de dados úteis (listas, dicionários, objetos, etc.)\n\n![](/Users/pedroguth/Downloads/Projetos/Book Maker/5-Imagens/langchain---usando-versão-v0.2-modulo-03_img_03.png)"
      ]
    },
    {
      "cell_type": "code",
      "execution_count": null,
      "metadata": {},
      "outputs": [],
      "source": [
        "# Vamos ver na prática a diferença!\n# Exemplo: Pedindo uma lista de linguagens de programação\n\n# ❌ SEM Output Parser - Resposta bagunçada\ntemplate_sem_parser = ChatPromptTemplate.from_template(\n    \"Liste 5 linguagens de programação populares.\"\n)\n\nchain_sem_parser = template_sem_parser | llm\nresposta_bagunçada = chain_sem_parser.invoke({})\n\nprint(\"❌ SEM Output Parser - Resposta bagunçada:\")\nprint(resposta_bagunçada.content)\nprint(f\"Tipo da resposta: {type(resposta_bagunçada.content)}\")\n\nprint(\"\\n\" + \"=\"*60 + \"\\n\")\n\n# ✅ COM Output Parser - Resposta estruturada\nlist_parser = CommaSeparatedListOutputParser()\n\ntemplate_com_parser = ChatPromptTemplate.from_template(\n    \"Liste 5 linguagens de programação populares.\\n{format_instructions}\"\n)\n\n# O parser automaticamente adiciona instruções de formatação!\nprint(\"✅ COM Output Parser - Instruções automáticas:\")\nprint(\"Instruções geradas pelo parser:\")\nprint(list_parser.get_format_instructions())\n\n# Criando a chain completa\nchain_com_parser = template_com_parser | llm | list_parser\n\n# Executando\nresposta_organizada = chain_com_parser.invoke({\n    \"format_instructions\": list_parser.get_format_instructions()\n})\n\nprint(\"\\nResposta estruturada:\")\nprint(resposta_organizada)\nprint(f\"Tipo da resposta: {type(resposta_organizada)}\")\nprint(f\"É uma lista? {isinstance(resposta_organizada, list)}\")"
      ]
    },
    {
      "cell_type": "markdown",
      "metadata": {},
      "source": [
        "### 💡 Dica do Pedro:\n\n**Por que usar Output Parsers?** 🤔\n\n1. **Previsibilidade**: Sempre recebe dados no formato esperado\n2. **Integração**: Fácil de usar com código Python\n3. **Validação**: Garante que os dados estão corretos\n4. **Produtividade**: Não precisa processar texto manualmente\n\n---\n\n## 🛠️ Tipos de Output Parsers"
      ]
    },
    {
      "cell_type": "code",
      "execution_count": null,
      "metadata": {},
      "outputs": [],
      "source": [
        "# 1. CommaSeparatedListOutputParser - Para listas simples\nprint(\"1️⃣ CommaSeparatedListOutputParser\")\nprint(\"-\" * 40)\n\nlist_parser = CommaSeparatedListOutputParser()\ntemplate_lista = ChatPromptTemplate.from_template(\n    \"Liste 3 benefícios de aprender Python.\\n{format_instructions}\"\n)\n\nchain_lista = template_lista | llm | list_parser\nresultado_lista = chain_lista.invoke({\n    \"format_instructions\": list_parser.get_format_instructions()\n})\n\nprint(f\"Resultado: {resultado_lista}\")\nprint(f\"Tipo: {type(resultado_lista)}\")\nprint(f\"Primeiro item: {resultado_lista[0]}\")\n\nprint(\"\\n\" + \"=\"*50 + \"\\n\")\n\n# 2. Vamos criar um parser customizado simples\nclass SimpleJSONParser(BaseOutputParser):\n    \"\"\"Parser customizado para JSON simples\"\"\"\n    \n    def get_format_instructions(self) -> str:\n        return \"Responda em formato JSON válido com as chaves especificadas.\"\n    \n    def parse(self, text: str) -> dict:\n        # Remove possíveis caracteres extras e extrai o JSON\n        try:\n            # Procura por { até } no texto\n            start = text.find('{')\n            end = text.rfind('}') + 1\n            if start != -1 and end != 0:\n                json_str = text[start:end]\n                return json.loads(json_str)\n            else:\n                raise ValueError(\"JSON não encontrado\")\n        except Exception as e:\n            return {\"erro\": f\"Não foi possível parsear: {str(e)}\", \"texto_original\": text}\n\nprint(\"2️⃣ Parser Customizado - SimpleJSONParser\")\nprint(\"-\" * 40)\n\njson_parser = SimpleJSONParser()\ntemplate_json = ChatPromptTemplate.from_template(\n    \"Crie um perfil de desenvolvedor Python com nome, experiência (anos) e especialidade.\\n{format_instructions}\"\n)\n\nchain_json = template_json | llm | json_parser\nresultado_json = chain_json.invoke({\n    \"format_instructions\": json_parser.get_format_instructions()\n})\n\nprint(f\"Resultado JSON: {resultado_json}\")\nprint(f\"Tipo: {type(resultado_json)}\")\n\nif isinstance(resultado_json, dict) and \"nome\" in resultado_json:\n    print(f\"Nome do dev: {resultado_json.get('nome', 'N/A')}\")"
      ]
    },
    {
      "cell_type": "markdown",
      "metadata": {},
      "source": [
        "## 🏗️ Pydantic Output Parser - O Mais Poderoso!\n\n**Tá, mas Pedro, e se eu quiser algo mais robusto?**\n\nAí entra o **PydanticOutputParser**! É como ter um assistente super exigente que verifica se tudo está certinho antes de entregar o resultado.\n\n**Analogia do Controle de Qualidade:** 🏭\nÉ como uma fábrica que não só organiza os produtos, mas também verifica se cada um tem as especificações corretas antes de sair da linha de produção!\n\n![](/Users/pedroguth/Downloads/Projetos/Book Maker/5-Imagens/langchain---usando-versão-v0.2-modulo-03_img_04.png)"
      ]
    },
    {
      "cell_type": "code",
      "execution_count": null,
      "metadata": {},
      "outputs": [],
      "source": [
        "# Definindo um modelo Pydantic - Estrutura de dados com validação\nclass PerfilProgramador(BaseModel):\n    \"\"\"Modelo para perfil de programador\"\"\"\n    nome: str = Field(description=\"Nome completo do programador\")\n    idade: int = Field(description=\"Idade em anos\", ge=18, le=80)  # ge = greater equal, le = less equal\n    linguagens: List[str] = Field(description=\"Lista de linguagens que domina\")\n    experiencia_anos: int = Field(description=\"Anos de experiência\", ge=0)\n    salario_desejado: float = Field(description=\"Salário desejado em reais\")\n    remoto: bool = Field(description=\"Aceita trabalho remoto\")\n    especialidade: str = Field(description=\"Área de especialização\")\n\n# Criando o parser\npydantic_parser = PydanticOutputParser(pydantic_object=PerfilProgramador)\n\nprint(\"🏗️ PydanticOutputParser - Estrutura Definida:\")\nprint(\"Campos obrigatórios:\")\nfor campo, info in PerfilProgramador.__fields__.items():\n    print(f\"  - {campo}: {info.annotation}\")\n\nprint(\"\\n📋 Instruções automáticas geradas:\")\nprint(pydantic_parser.get_format_instructions())"
      ]
    },
    {
      "cell_type": "code",
      "execution_count": null,
      "metadata": {},
      "outputs": [],
      "source": [
        "# Usando o PydanticOutputParser na prática\ntemplate_pydantic = ChatPromptTemplate.from_template(\n    \"\"\"\n    Crie um perfil fictício de um programador brasileiro.\n    \n    Seja realista com os valores e informações.\n    Use dados que fazem sentido para o mercado brasileiro.\n    \n    {format_instructions}\n    \"\"\"\n)\n\n# Criando a chain completa\nchain_pydantic = template_pydantic | llm | pydantic_parser\n\nprint(\"🚀 Executando chain com Pydantic Parser...\")\n\ntry:\n    resultado_pydantic = chain_pydantic.invoke({\n        \"format_instructions\": pydantic_parser.get_format_instructions()\n    })\n    \n    print(\"✅ Sucesso! Perfil criado:\")\n    print(f\"📋 Tipo do resultado: {type(resultado_pydantic)}\")\n    print(f\"👤 Nome: {resultado_pydantic.nome}\")\n    print(f\"🎂 Idade: {resultado_pydantic.idade} anos\")\n    print(f\"💻 Linguagens: {', '.join(resultado_pydantic.linguagens)}\")\n    print(f\"⏱️ Experiência: {resultado_pydantic.experiencia_anos} anos\")\n    print(f\"💰 Salário desejado: R$ {resultado_pydantic.salario_desejado:,.2f}\")\n    print(f\"🏠 Trabalho remoto: {'Sim' if resultado_pydantic.remoto else 'Não'}\")\n    print(f\"🎯 Especialidade: {resultado_pydantic.especialidade}\")\n    \n    # Mostrando que é um objeto Python real!\n    print(f\"\\n🔍 Acessando como objeto Python:\")\n    print(f\"Primeira linguagem: {resultado_pydantic.linguagens[0]}\")\n    print(f\"É sênior? {resultado_pydantic.experiencia_anos >= 5}\")\n    \nexcept Exception as e:\n    print(f\"❌ Erro: {e}\")\n    print(\"Isso pode acontecer se a IA não seguir exatamente o formato!\")"
      ]
    },
    {
      "cell_type": "markdown",
      "metadata": {},
      "source": [
        "## 📊 Comparando Diferentes Output Parsers\n\nVamos criar uma visualização para comparar os diferentes tipos:"
      ]
    },
    {
      "cell_type": "code",
      "execution_count": null,
      "metadata": {},
      "outputs": [],
      "source": [
        "# Comparando performance e complexidade dos parsers\nimport matplotlib.pyplot as plt\nimport numpy as np\n\nparsers = ['Sem Parser', 'Lista Simples', 'JSON Custom', 'Pydantic']\ncomplexidade = [1, 3, 6, 9]\nvalidacao = [0, 2, 5, 10]\nreutilizacao = [2, 5, 7, 10]\n\nx = np.arange(len(parsers))\nwidth = 0.25\n\nfig, ax = plt.subplots(figsize=(12, 8))\n\n# Criando as barras\nrects1 = ax.bar(x - width, complexidade, width, label='Complexidade', color='lightcoral', alpha=0.8)\nrects2 = ax.bar(x, validacao, width, label='Validação', color='lightblue', alpha=0.8)\nrects3 = ax.bar(x + width, reutilizacao, width, label='Reutilização', color='lightgreen', alpha=0.8)\n\n# Adicionando labels e título\nax.set_xlabel('Tipos de Output Parsers', fontsize=12, fontweight='bold')\nax.set_ylabel('Pontuação (0-10)', fontsize=12, fontweight='bold')\nax.set_title('🔍 Comparação de Output Parsers\\n(Complexidade vs Benefícios)', fontsize=14, fontweight='bold')\nax.set_xticks(x)\nax.set_xticklabels(parsers)\nax.legend()\nax.grid(axis='y', alpha=0.3)\n\n# Adicionando valores nas barras\ndef adicionar_valores(rects):\n    for rect in rects:\n        height = rect.get_height()\n        ax.annotate(f'{height}',\n                    xy=(rect.get_x() + rect.get_width() / 2, height),\n                    xytext=(0, 3),\n                    textcoords=\"offset points\",\n                    ha='center', va='bottom',\n                    fontweight='bold')\n\nadicionar_valores(rects1)\nadicionar_valores(rects2)\nadicionar_valores(rects3)\n\nplt.tight_layout()\nplt.show()\n\n# Tabela explicativa\nprint(\"📊 Análise dos Output Parsers:\")\nprint(\"-\" * 50)\nprint(\"🔴 Sem Parser:\")\nprint(\"  + Simples de implementar\")\nprint(\"  - Sem validação, dados inconsistentes\")\nprint(\"\\n🟡 Lista Simples:\")\nprint(\"  + Fácil para listas básicas\")\nprint(\"  - Limitado a estruturas simples\")\nprint(\"\\n🟠 JSON Custom:\")\nprint(\"  + Flexível e customizável\")\nprint(\"  - Requer mais código para validação\")\nprint(\"\\n🟢 Pydantic (RECOMENDADO):\")\nprint(\"  + Validação automática\")\nprint(\"  + Type hints\")\nprint(\"  + Documentação automática\")\nprint(\"  + Reutilizável\")\nprint(\"  - Mais complexo para casos simples\")"
      ]
    },
    {
      "cell_type": "markdown",
      "metadata": {},
      "source": [
        "## 🔗 Integrando Templates e Parsers com LCEL\n\n**Agora vem a parte LINDA! 🎨**\n\nVamos combinar tudo que aprendemos usando LCEL (LangChain Expression Language) que vimos no módulo anterior!\n\n**Analogia da Linha de Produção:** 🏭\nÉ como uma fábrica moderna onde cada etapa está perfeitamente sincronizada:\n1. **Matéria-prima** (seus dados) → \n2. **Molde** (Template) → \n3. **Máquina** (LLM) → \n4. **Controle de Qualidade** (Parser) → \n5. **Produto Final** (dados estruturados)\n\n![](/Users/pedroguth/Downloads/Projetos/Book Maker/5-Imagens/langchain---usando-versão-v0.2-modulo-03_img_05.png)"
      ]
    },
    {
      "cell_type": "code",
      "execution_count": null,
      "metadata": {},
      "outputs": [],
      "source": [
        "# Exemplo prático: Sistema de análise de produtos\n# Vamos criar um sistema que analisa produtos e retorna dados estruturados\n\n# 1. Definindo o modelo de dados\nclass AnalyseProduto(BaseModel):\n    \"\"\"Análise estruturada de produto\"\"\"\n    nome_produto: str = Field(description=\"Nome do produto\")\n    categoria: str = Field(description=\"Categoria do produto\")\n    pontos_fortes: List[str] = Field(description=\"Lista de pontos fortes\")\n    pontos_fracos: List[str] = Field(description=\"Lista de pontos fracos\")\n    nota_geral: int = Field(description=\"Nota de 1 a 10\", ge=1, le=10)\n    publico_alvo: str = Field(description=\"Público-alvo principal\")\n    preco_justo: float = Field(description=\"Preço justo estimado em reais\")\n    recomenda: bool = Field(description=\"Recomenda a compra\")\n\n# 2. Criando o parser\nanalise_parser = PydanticOutputParser(pydantic_object=AnalyseProduto)\n\n# 3. Criando o template\nanalise_template = ChatPromptTemplate.from_template(\n    \"\"\"\n    Você é um especialista em análise de produtos de tecnologia.\n    \n    Analise o seguinte produto: {produto}\n    \n    Categoria do produto: {categoria}\n    \n    Faça uma análise completa e honesta, considerando:\n    - Qualidade e funcionalidades\n    - Custo-benefício\n    - Público-alvo\n    - Comparação com concorrentes\n    - Preço justo para o mercado brasileiro\n    \n    Seja específico e realista nas suas avaliações.\n    \n    {format_instructions}\n    \"\"\"\n)\n\n# 4. Criando a chain completa com LCEL\nanalise_chain = analise_template | llm | analise_parser\n\nprint(\"🏭 Sistema de Análise de Produtos Criado!\")\nprint(\"✅ Template: Configurado\")\nprint(\"✅ Parser: Configurado\")\nprint(\"✅ Chain: Pronta para uso\")\n\n# Testando o sistema\nprint(\"\\n🧪 Testando com iPhone 15...\")\n\ntry:\n    resultado = analise_chain.invoke({\n        \"produto\": \"iPhone 15\",\n        \"categoria\": \"Smartphone\",\n        \"format_instructions\": analise_parser.get_format_instructions()\n    })\n    \n    print(\"\\n📱 ANÁLISE COMPLETA:\")\n    print(\"=\" * 50)\n    print(f\"📦 Produto: {resultado.nome_produto}\")\n    print(f\"📂 Categoria: {resultado.categoria}\")\n    print(f\"⭐ Nota: {resultado.nota_geral}/10\")\n    print(f\"💰 Preço justo: R$ {resultado.preco_justo:,.2f}\")\n    print(f\"🎯 Público-alvo: {resultado.publico_alvo}\")\n    print(f\"✅ Recomenda: {'Sim' if resultado.recomenda else 'Não'}\")\n    \n    print(f\"\\n👍 Pontos Fortes:\")\n    for i, ponto in enumerate(resultado.pontos_fortes, 1):\n        print(f\"  {i}. {ponto}\")\n    \n    print(f\"\\n👎 Pontos Fracos:\")\n    for i, ponto in enumerate(resultado.pontos_fracos, 1):\n        print(f\"  {i}. {ponto}\")\n        \nexcept Exception as e:\n    print(f\"❌ Erro na análise: {e}\")"
      ]
    },
    {
      "cell_type": "markdown",
      "metadata": {},
      "source": [
        "### 💡 Dica do Pedro - Melhores Práticas:\n\n1. **Sempre use ChatPromptTemplate** para modelos modernos\n2. **PydanticOutputParser para dados estruturados** importantes\n3. **Trate erros** - nem sempre a IA segue o formato perfeitamente\n4. **Teste com dados reais** antes de colocar em produção\n5. **Use LCEL** para chains mais limpas e legíveis\n\n---\n\n## 🎮 Exercício Prático 1 - Seu Primeiro Sistema Completo"
      ]
    },
    {
      "cell_type": "code",
      "execution_count": null,
      "metadata": {},
      "outputs": [],
      "source": [
        "# 🎯 EXERCÍCIO: Crie um sistema de recomendação de cursos\n# \n# Sua missão:\n# 1. Criar um modelo Pydantic para RecomendacaoCurso\n# 2. Criar um template que recebe: interesse, nivel, tempo_disponivel\n# 3. Criar uma chain completa\n# 4. Testar com seus próprios dados\n\nprint(\"🎮 EXERCÍCIO 1: Sistema de Recomendação de Cursos\")\nprint(\"=\" * 55)\nprint(\"📝 Sua missão:\")\nprint(\"1. Criar modelo RecomendacaoCurso com campos relevantes\")\nprint(\"2. Criar template que recebe interesse, nível e tempo disponível\")\nprint(\"3. Implementar chain completa\")\nprint(\"4. Testar com seus dados\")\nprint(\"\\n💡 Dica: Pense nos campos que seriam úteis em uma recomendação real!\")\nprint(\"\\n🚀 Comece aqui embaixo:\")\n\n# SEU CÓDIGO AQUI!\n# \n# class RecomendacaoCurso(BaseModel):\n#     # Defina os campos necessários\n#     pass\n# \n# # Crie o parser, template e chain\n# \n# # Teste o sistema\n\n# EXEMPLO DE SOLUÇÃO (descomente para ver):\n\"\"\"\nclass RecomendacaoCurso(BaseModel):\n    nome_curso: str = Field(description=\"Nome do curso recomendado\")\n    plataforma: str = Field(description=\"Plataforma onde encontrar\")\n    duracao_horas: int = Field(description=\"Duração em horas\")\n    nivel: str = Field(description=\"Nível: iniciante, intermediário ou avançado\")\n    preco: float = Field(description=\"Preço em reais\")\n    motivo: str = Field(description=\"Por que é recomendado\")\n    habilidades: List[str] = Field(description=\"Habilidades que vai desenvolver\")\n\nparser = PydanticOutputParser(pydantic_object=RecomendacaoCurso)\ntemplate = ChatPromptTemplate.from_template(...)\nchain = template | llm | parser\n\"\"\"\n\nprint(\"\\n⏰ Tempo sugerido: 15 minutos\")\nprint(\"🆘 Dúvidas? Chama o Pedro!\")"
      ]
    },
    {
      "cell_type": "markdown",
      "metadata": {},
      "source": [
        "## 🔗 Conectando com o Futuro - Chains\n\n**Preparando o terreno para o próximo módulo! 🚀**\n\nTudo que vimos hoje são os **blocos fundamentais** para construir **Chains** mais complexas!\n\n**Analogia do LEGO:** 🧱\n- **Templates** = Peças básicas coloridas\n- **Parsers** = Conectores especiais\n- **LCEL** = Instruções de montagem\n- **Chains** (próximo módulo) = Construções complexas!\n\n![](/Users/pedroguth/Downloads/Projetos/Book Maker/5-Imagens/langchain---usando-versão-v0.2-modulo-03_img_06.png)"
      ]
    },
    {
      "cell_type": "code",
      "execution_count": null,
      "metadata": {},
      "outputs": [],
      "source": [
        "# Preview do que vem no próximo módulo: Chains avançadas!\n# Vamos criar uma mini-chain que combina múltiplas etapas\n\nprint(\"🔮 PREVIEW: Chains Avançadas (Próximo Módulo)\")\nprint(\"=\" * 50)\n\n# Simulando uma chain com múltiplas etapas\n# Etapa 1: Gerar ideia\nideia_template = ChatPromptTemplate.from_template(\n    \"Sugira uma ideia criativa para um app sobre {tema}\"\n)\n\n# Etapa 2: Avaliar a ideia (usando nosso parser!)\nclass AvaliacaoIdeia(BaseModel):\n    nome_app: str = Field(description=\"Nome sugerido para o app\")\n    viabilidade: int = Field(description=\"Viabilidade de 1 a 10\")\n    publico_alvo: str = Field(description=\"Público-alvo\")\n    monetizacao: str = Field(description=\"Como monetizar\")\n\navaliacao_parser = PydanticOutputParser(pydantic_object=AvaliacaoIdeia)\navaliacao_template = ChatPromptTemplate.from_template(\n    \"\"\"\n    Avalie esta ideia de app: {ideia}\n    \n    Seja realista sobre viabilidade técnica e de mercado.\n    \n    {format_instructions}\n    \"\"\"\n)\n\n# Criando as chains\nchain_ideia = ideia_template | llm\nchain_avaliacao = avaliacao_template | llm | avaliacao_parser\n\nprint(\"🧪 Testando preview de chain complexa...\")\n\ntry:\n    # Etapa 1: Gerar ideia\n    ideia = chain_ideia.invoke({\"tema\": \"sustentabilidade\"})\n    print(f\"💡 Ideia gerada: {ideia.content[:100]}...\")\n    \n    # Etapa 2: Avaliar ideia\n    avaliacao = chain_avaliacao.invoke({\n        \"ideia\": ideia.content,\n        \"format_instructions\": avaliacao_parser.get_format_instructions()\n    })\n    \n    print(f\"\\n⭐ Avaliação estruturada:\")\n    print(f\"📱 Nome: {avaliacao.nome_app}\")\n    print(f\"📊 Viabilidade: {avaliacao.viabilidade}/10\")\n    print(f\"🎯 Público: {avaliacao.publico_alvo}\")\n    print(f\"💰 Monetização: {avaliacao.monetizacao}\")\n    \n    print(\"\\n🎉 Isso é só o começo! No próximo módulo vamos aprender a:\")\n    print(\"  ✅ Criar chains complexas com múltiplas etapas\")\n    print(\"  ✅ Fazer chains condicionais\")\n    print(\"  ✅ Chains com loops e decisões\")\n    print(\"  ✅ Chains que se corrigem automaticamente\")\n    \nexcept Exception as e:\n    print(f\"❌ Erro no preview: {e}\")\n    print(\"Não se preocupe, vamos aprender a lidar com isso no próximo módulo!\")"
      ]
    },
    {
      "cell_type": "markdown",
      "metadata": {},
      "source": [
        "## 🎮 Exercício Final - Desafio Completo\n\n**Hora do desafio final! 🏆**\n\nVamos criar um sistema mais complexo que combina tudo que aprendemos!"
      ]
    },
    {
      "cell_type": "code",
      "execution_count": null,
      "metadata": {},
      "outputs": [],
      "source": [
        "# 🏆 DESAFIO FINAL: Sistema de Análise de Carreira em Tech\n# \n# Crie um sistema que:\n# 1. Recebe: cargo_atual, anos_experiencia, tecnologias, objetivo\n# 2. Retorna análise estruturada com próximos passos\n# 3. Inclui roadmap, cursos, salário esperado, etc.\n\nprint(\"🏆 DESAFIO FINAL: Sistema de Análise de Carreira\")\nprint(\"=\" * 50)\nprint(\"🎯 Seu objetivo: Criar um consultor de carreira IA!\")\nprint(\"\\n📋 Requisitos:\")\nprint(\"1. Modelo Pydantic com pelo menos 8 campos relevantes\")\nprint(\"2. Template que recebe informações da carreira atual\")\nprint(\"3. Sistema que dá conselhos práticos e realistas\")\nprint(\"4. Roadmap estruturado com timeline\")\nprint(\"\\n💡 Campos sugeridos:\")\nprint(\"  - proximo_cargo, salario_esperado, tempo_transicao\")\nprint(\"  - cursos_recomendados, certificacoes, soft_skills\")\nprint(\"  - roadmap_6_meses, roadmap_1_ano, dificuldades\")\n\nprint(\"\\n🚀 Implemente aqui:\")\n\n# SEU CÓDIGO AQUI!\n# Seja criativo e pense no que seria realmente útil!\n\n# ESTRUTURA SUGERIDA:\n# class AnaliseCarreira(BaseModel):\n#     # Seus campos aqui\n#     pass\n# \n# # Parser, template e chain\n# \n# # Teste com diferentes perfis\n\nprint(\"\\n⏰ Tempo sugerido: 25 minutos\")\nprint(\"🎁 Bônus: Se conseguir implementar, você já está pronto para o próximo módulo!\")"
      ]
    },
    {
      "cell_type": "markdown",
      "metadata": {},
      "source": [
        "## 📊 Diagrama de Fluxo Completo\n\nVamos visualizar tudo que aprendemos hoje:"
      ]
    },
    {
      "cell_type": "code",
      "execution_count": null,
      "metadata": {},
      "outputs": [],
      "source": [
        "# Criando um diagrama Mermaid conceitual\nprint(\"\"\"\n🎯 FLUXO COMPLETO: Templates + Parsers + LCEL\n\n```mermaid\ngraph TD\n    A[\"🔤 Input Variables\"] --> B[\"📝 Prompt Template\"]\n    B --> C[\"✨ Formatted Prompt\"]\n    C --> D[\"🤖 LLM (Gemini)\"]\n    D --> E[\"📄 Raw Response\"]\n    E --> F[\"🔧 Output Parser\"]\n    F --> G[\"📊 Structured Data\"]\n    \n    H[\"💡 Format Instructions\"] --> F\n    I[\"🔍 Pydantic Validation\"] --> F\n    \n    G --> J[\"✅ Ready for Use\"]\n    \n    style A fill:#e1f5fe\n    style B fill:#f3e5f5\n    style D fill:#fff3e0\n    style F fill:#e8f5e8\n    style G fill:#fce4ec\n```\n\"\"\")\n\n# Vamos criar uma visualização em Python também\nfig, ax = plt.subplots(figsize=(14, 10))\n\n# Definindo posições dos componentes\ncomponentes = {\n    'Input\\nVariables': (1, 8, 'lightblue'),\n    'Prompt\\nTemplate': (3, 8, 'lightcyan'),\n    'Formatted\\nPrompt': (5, 8, 'lightyellow'),\n    'LLM\\n(Gemini)': (7, 8, 'lightcoral'),\n    'Raw\\nResponse': (9, 8, 'lightpink'),\n    'Output\\nParser': (11, 8, 'lightgreen'),\n    'Structured\\nData': (13, 8, 'lavender'),\n    'Format\\nInstructions': (11, 6, 'wheat'),\n    'Pydantic\\nValidation': (11, 4, 'lightsteelblue'),\n    'Ready for\\nProduction': (13, 6, 'lightseagreen')\n}\n\n# Desenhando os componentes\nfor nome, (x, y, cor) in componentes.items():\n    circle = plt.Circle((x, y), 0.8, facecolor=cor, edgecolor='black', linewidth=2)\n    ax.add_patch(circle)\n    ax.text(x, y, nome, ha='center', va='center', fontsize=9, fontweight='bold')\n\n# Desenhando as conexões\nconexoes = [\n    ((1, 8), (3, 8)),    # Input -> Template\n    ((3, 8), (5, 8)),    # Template -> Formatted\n    ((5, 8), (7, 8)),    # Formatted -> LLM\n    ((7, 8), (9, 8)),    # LLM -> Raw Response\n    ((9, 8), (11, 8)),   # Raw Response -> Parser\n    ((11, 8), (13, 8)),  # Parser -> Structured\n    ((11, 6), (11, 8)),  # Format Instructions -> Parser\n    ((11, 4), (11, 8)),  # Validation -> Parser\n    ((13, 8), (13, 6))   # Structured -> Production\n]\n\nfor (x1, y1), (x2, y2) in conexoes:\n    ax.annotate('', xy=(x2-0.3, y2), xytext=(x1+0.3, y1),\n                arrowprops=dict(arrowstyle='->', lw=2, color='darkblue'))\n\nax.set_xlim(0, 14)\nax.set_ylim(3, 9)\nax.set_title('🎯 Arquitetura Completa: Templates + Parsers + LCEL\\n(O que aprendemos hoje)', \n             fontsize=16, fontweight='bold', pad=20)\nax.axis('off')\n\nplt.tight_layout()\nplt.show()\n\nprint(\"\\n🎉 Parabéns! Você dominou os fundamentos dos Templates e Parsers!\")"
      ]
    },
    {
      "cell_type": "markdown",
      "metadata": {},
      "source": [
        "## 🎯 Resumo do Módulo 3\n\n**O que você aprendeu hoje? Liiiindo! 🎉**\n\n### 📝 Prompt Templates:\n- ✅ **O que são**: Moldes reutilizáveis para prompts\n- ✅ **Por que usar**: Consistência, reutilização, manutenção\n- ✅ **Tipos**: PromptTemplate, ChatPromptTemplate (recomendado)\n- ✅ **Melhores práticas**: Sempre use para projetos sérios\n\n### 🔧 Output Parsers:\n- ✅ **O que são**: Organizadores de respostas da IA  \n- ✅ **Tipos**: Lista simples, JSON custom, Pydantic (recomendado)\n- ✅ **Pydantic**: Validação automática, type hints, robustez\n- ✅ **Benefícios**: Dados estruturados, menos bugs, mais produtividade\n\n### 🔗 Integração com LCEL:\n- ✅ **Chains simples**: Template | LLM | Parser\n- ✅ **Preparação**: Base sólida para chains complexas\n- ✅ **Próximo módulo**: Chains avançadas com múltiplas etapas\n\n---\n\n![](/Users/pedroguth/Downloads/Projetos/Book Maker/5-Imagens/langchain---usando-versão-v0.2-modulo-03_img_07.png)"
      ]
    },
    {
      "cell_type": "markdown",
      "metadata": {},
      "source": [
        "## 🚀 Preparando para o Módulo 4: Chains\n\n**O que vem por aí? 🔮**\n\nNo próximo módulo vamos aprender:\n\n1. **Sequential Chains**: Chains que executam em sequência\n2. **Conditional Chains**: Chains que tomam decisões\n3. **Parallel Chains**: Executando múltiplas chains ao mesmo tempo\n4. **Error Handling**: Chains que se recuperam de erros\n5. **Chain Composition**: Combinando chains complexas\n\n### 💡 Dica do Pedro Final:\n\n**Para se preparar para o próximo módulo:**\n- ✅ Pratique criando templates diversos\n- ✅ Experimente diferentes parsers\n- ✅ Combine templates + parsers + LCEL\n- ✅ Pense em casos de uso do seu trabalho\n\n**Lição de casa (opcional):** 📚\nTente criar um sistema completo usando tudo que aprendemos hoje. Pode ser:\n- Sistema de análise de currículos\n- Gerador de relatórios estruturados  \n- Assistente de planejamento de viagens\n- Analisador de sentimentos com dados estruturados\n\n---\n\n## 🎊 Parabéns!\n\nVocê concluiu o **Módulo 3** do curso de LangChain!\n\nAgora você tem as ferramentas fundamentais para criar sistemas de IA profissionais e estruturados. No próximo módulo, vamos usar tudo isso para construir **Chains** ainda mais poderosas!\n\n**Nos vemos no Módulo 4! Bora para as Chains! 🚀**\n\n---\n\n*\"O sucesso é a soma de pequenos esforços repetidos dia após dia.\"* 💪\n\n**#LangChain #IA #Python #PedroGuth**"
      ]
    }
  ]
}