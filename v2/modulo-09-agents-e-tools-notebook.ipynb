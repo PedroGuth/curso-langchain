{
  "nbformat": 4,
  "nbformat_minor": 0,
  "metadata": {
    "colab": {
      "provenance": []
    },
    "kernelspec": {
      "name": "python3",
      "display_name": "Python 3"
    },
    "language_info": {
      "name": "python"
    }
  },
  "cells": [
    {
      "cell_type": "markdown",
      "metadata": {},
      "source": [
        "# 🤖 Agentes e Ferramentas: Quando a IA Ganha Superpoderes!\n\n**Módulo 9 - LangChain v0.2 com Pedro Guth**\n\nBora! Chegamos numa parte SENSACIONAL do LangChain! 🚀\n\nImagina que você tem um assistente pessoal que não só conversa contigo, mas também pode:\n- Buscar informações na internet\n- Fazer cálculos complexos\n- Acessar APIs\n- Executar código\n- E muito mais!\n\nIsso são os **Agents** (Agentes) com **Tools** (Ferramentas)! É como dar uma caixa de ferramentas completa para sua IA! 🧰"
      ]
    },
    {
      "cell_type": "markdown",
      "metadata": {},
      "source": [
        "## 🎯 O que vamos aprender?\n\n- O que são Agents e Tools\n- Como criar ferramentas customizadas\n- Diferentes tipos de agentes\n- ReAct (Reasoning + Acting)\n- Integração com APIs externas\n- Casos práticos e projetos\n\n**Dica do Pedro:** Os Agents são o que mais aproxima a IA de um \"assistente inteligente\" de verdade!"
      ]
    },
    {
      "cell_type": "code",
      "execution_count": null,
      "metadata": {},
      "outputs": [],
      "source": [
        "# Vamos instalar e importar tudo que precisamos!\n",
        "!pip install langchain langchain-google-genai langchain-community wikipedia-api requests\n",
        "\n",
        "import os\n",
        "from langchain_google_genai import ChatGoogleGenerativeAI\n",
        "from langchain.agents import create_react_agent, AgentExecutor, Tool\n",
        "from langchain.prompts import PromptTemplate\n",
        "from langchain_community.tools import WikipediaQueryRun\n",
        "from langchain_community.utilities import WikipediaAPIWrapper\n",
        "import requests\n",
        "import json\n",
        "from datetime import datetime\n",
        "import matplotlib.pyplot as plt\n",
        "import numpy as np\n",
        "\n",
        "print(\"✅ Imports realizados com sucesso!\")"
      ]
    },
    {
      "cell_type": "code",
      "execution_count": null,
      "metadata": {},
      "outputs": [],
      "source": [
        "# Configurando nossa API do Google (use sua chave!)\n",
        "os.environ[\"GOOGLE_API_KEY\"] = \"sua_chave_aqui\"  # Substitua pela sua chave!\n",
        "\n",
        "# Inicializando nosso modelo\n",
        "llm = ChatGoogleGenerativeAI(\n",
        "    model=\"gemini-2.0-flash-exp\",\n",
        "    temperature=0.1\n",
        ")\n",
        "\n",
        "print(\"🤖 Modelo Gemini carregado e pronto!\")"
      ]
    },
    {
      "cell_type": "markdown",
      "metadata": {},
      "source": [
        "## 🧠 Conceitos Fundamentais\n\n### O que são Agents?\n\nTá, mas o que é um **Agent** exatamente?\n\nUm Agent é como um \"cérebro\" que pode:\n1. **Raciocinar** sobre um problema\n2. **Decidir** qual ferramenta usar\n3. **Executar** a ação\n4. **Avaliar** o resultado\n5. **Repetir** até resolver o problema\n\n### O que são Tools?\n\nAs **Tools** são as \"mãos\" do Agent! São funções que permitem ao Agent:\n- Buscar na web\n- Fazer cálculos\n- Acessar bancos de dados\n- Executar código\n- E qualquer coisa que você programar!\n\n**Analogia:** É como dar um smartphone para sua IA - ela pode usar diferentes apps para resolver problemas!"
      ]
    },
    {
      "cell_type": "markdown",
      "metadata": {},
      "source": [
        "## 🔧 Criando Nossa Primeira Tool\n\nVamos começar criando uma ferramenta simples - uma calculadora!\n\nO padrão ReAct funciona assim:\n- **Re**asoning (Raciocínio): \"Preciso calcular algo\"\n- **Act**ion (Ação): \"Vou usar a calculadora\"\n- **Observation** (Observação): \"O resultado foi X\"\n\n$$\\text{Agent} = \\text{Reasoning} + \\text{Action} + \\text{Observation}$$"
      ]
    },
    {
      "cell_type": "code",
      "execution_count": null,
      "metadata": {},
      "outputs": [],
      "source": [
        "# Criando nossa primeira tool - Calculadora!\n",
        "def calculadora(expressao):\n",
        "    \"\"\"\n",
        "    Executa cálculos matemáticos seguros.\n",
        "    Entrada: expressão matemática como string\n",
        "    Saída: resultado do cálculo\n",
        "    \"\"\"\n",
        "    try:\n",
        "        # Por segurança, vamos limitar as operações\n",
        "        allowed_chars = set('0123456789+-*/.() ')\n",
        "        if not set(expressao).issubset(allowed_chars):\n",
        "            return \"Erro: Caracteres não permitidos na expressão\"\n",
        "        \n",
        "        resultado = eval(expressao)\n",
        "        return f\"O resultado de {expressao} é: {resultado}\"\n",
        "    except Exception as e:\n",
        "        return f\"Erro no cálculo: {str(e)}\"\n",
        "\n",
        "# Testando nossa calculadora\n",
        "print(calculadora(\"2 + 3 * 4\"))\n",
        "print(calculadora(\"(10 + 5) / 3\"))"
      ]
    },
    {
      "cell_type": "code",
      "execution_count": null,
      "metadata": {},
      "outputs": [],
      "source": [
        "# Criando uma tool de data e hora\n",
        "def obter_data_hora(formato=\"completo\"):\n",
        "    \"\"\"\n",
        "    Obtém a data e hora atual.\n",
        "    Entrada: formato ('completo', 'data', 'hora')\n",
        "    Saída: data/hora formatada\n",
        "    \"\"\"\n",
        "    agora = datetime.now()\n",
        "    \n",
        "    if formato == \"data\":\n",
        "        return agora.strftime(\"%d/%m/%Y\")\n",
        "    elif formato == \"hora\":\n",
        "        return agora.strftime(\"%H:%M:%S\")\n",
        "    else:\n",
        "        return agora.strftime(\"%d/%m/%Y às %H:%M:%S\")\n",
        "\n",
        "# Testando\n",
        "print(\"Data completa:\", obter_data_hora())\n",
        "print(\"Só a data:\", obter_data_hora(\"data\"))\n",
        "print(\"Só a hora:\", obter_data_hora(\"hora\"))"
      ]
    },
    {
      "cell_type": "markdown",
      "metadata": {},
      "source": [
        "## 🛠️ Transformando Funções em Tools do LangChain\n\nAgora vem a mágica! Vamos transformar nossas funções em Tools que o Agent pode usar.\n\n**Dica do Pedro:** Cada Tool precisa de um nome descritivo e uma descrição clara - o Agent usa isso para decidir quando usar cada ferramenta!"
      ]
    },
    {
      "cell_type": "code",
      "execution_count": null,
      "metadata": {},
      "outputs": [],
      "source": [
        "# Criando as Tools do LangChain\n",
        "tool_calculadora = Tool(\n",
        "    name=\"Calculadora\",\n",
        "    func=calculadora,\n",
        "    description=\"Útil para fazer cálculos matemáticos. Entrada: expressão matemática como string (ex: '2+3*4')\"\n",
        ")\n",
        "\n",
        "tool_data_hora = Tool(\n",
        "    name=\"DataHora\", \n",
        "    func=obter_data_hora,\n",
        "    description=\"Obtém data e hora atual. Entrada: 'completo', 'data' ou 'hora'\"\n",
        ")\n",
        "\n",
        "# Tool do Wikipedia (já pronta do LangChain!)\n",
        "wikipedia = WikipediaQueryRun(api_wrapper=WikipediaAPIWrapper(lang=\"pt\"))\n",
        "\n",
        "tool_wikipedia = Tool(\n",
        "    name=\"Wikipedia\",\n",
        "    func=wikipedia.run,\n",
        "    description=\"Busca informações na Wikipedia em português. Entrada: termo de busca\"\n",
        ")\n",
        "\n",
        "print(\"🛠️ Tools criadas com sucesso!\")\n",
        "print(f\"Tool 1: {tool_calculadora.name}\")\n",
        "print(f\"Tool 2: {tool_data_hora.name}\")\n",
        "print(f\"Tool 3: {tool_wikipedia.name}\")"
      ]
    },
    {
      "cell_type": "markdown",
      "metadata": {},
      "source": [
        "## 🎭 Criando Nosso Primeiro Agent\n\nAgora vamos criar o Agent! Ele vai usar o padrão ReAct para raciocinar e agir.\n\nO Agent precisa de:\n1. **Prompt Template** - Como ele deve pensar\n2. **Tools** - O que ele pode fazer  \n3. **LLM** - O \"cérebro\" (nosso Gemini)\n4. **Executor** - Quem coordena tudo"
      ]
    },
    {
      "cell_type": "code",
      "execution_count": null,
      "metadata": {},
      "outputs": [],
      "source": [
        "# Lista de todas as nossas tools\n",
        "tools = [tool_calculadora, tool_data_hora, tool_wikipedia]\n",
        "\n",
        "# Criando um prompt customizado para nosso agent\n",
        "prompt_template = \"\"\"\n",
        "Você é um assistente inteligente que pode usar ferramentas para ajudar o usuário.\n",
        "\n",
        "Você tem acesso às seguintes ferramentas:\n",
        "{tools}\n",
        "\n",
        "Use o seguinte formato:\n",
        "\n",
        "Question: a pergunta do usuário\n",
        "Thought: você sempre deve pensar sobre o que fazer\n",
        "Action: a ação a ser tomada, deve ser uma de [{tool_names}]\n",
        "Action Input: a entrada para a ação\n",
        "Observation: o resultado da ação\n",
        "... (esse ciclo Thought/Action/Action Input/Observation pode se repetir N vezes)\n",
        "Thought: Eu agora sei a resposta final\n",
        "Final Answer: a resposta final para a pergunta original\n",
        "\n",
        "Comece!\n",
        "\n",
        "Question: {input}\n",
        "Thought: {agent_scratchpad}\n",
        "\"\"\"\n",
        "\n",
        "prompt = PromptTemplate.from_template(prompt_template)\n",
        "\n",
        "print(\"📝 Prompt do Agent criado!\")"
      ]
    },
    {
      "cell_type": "code",
      "execution_count": null,
      "metadata": {},
      "outputs": [],
      "source": [
        "# Criando o Agent ReAct\n",
        "agent = create_react_agent(\n",
        "    llm=llm,\n",
        "    tools=tools,\n",
        "    prompt=prompt\n",
        ")\n",
        "\n",
        "# Criando o Executor (quem vai rodar tudo)\n",
        "agent_executor = AgentExecutor(\n",
        "    agent=agent,\n",
        "    tools=tools,\n",
        "    verbose=True,  # Para ver o que está acontecendo\n",
        "    max_iterations=5,  # Máximo de iterações\n",
        "    handle_parsing_errors=True\n",
        ")\n",
        "\n",
        "print(\"🤖 Agent criado e pronto para uso!\")\n",
        "print(f\"Tools disponíveis: {[tool.name for tool in tools]}\")"
      ]
    },
    {
      "cell_type": "markdown",
      "metadata": {},
      "source": [
        "## 🚀 Testando Nosso Agent\n\nLiiindo! Agora vamos ver nosso Agent em ação! \n\nVamos fazer alguns testes para ver como ele raciocina e usa as ferramentas.\n\n**Dica do Pedro:** Repare como o Agent vai \"pensar\" em voz alta - isso é o ReAct funcionando!"
      ]
    },
    {
      "cell_type": "code",
      "execution_count": null,
      "metadata": {},
      "outputs": [],
      "source": [
        "# Teste 1: Cálculo simples\n",
        "pergunta1 = \"Quanto é 15 * 23 + 100?\"\n",
        "\n",
        "print(\"🔥 TESTE 1: Cálculo matemático\")\n",
        "print(f\"Pergunta: {pergunta1}\")\n",
        "print(\"=\" * 50)\n",
        "\n",
        "resposta1 = agent_executor.invoke({\"input\": pergunta1})\n",
        "print(f\"\\n✅ Resposta final: {resposta1['output']}\")"
      ]
    },
    {
      "cell_type": "code",
      "execution_count": null,
      "metadata": {},
      "outputs": [],
      "source": [
        "# Teste 2: Informação + Data\n",
        "pergunta2 = \"Me fale sobre Python (linguagem de programação) e me diga que horas são agora\"\n",
        "\n",
        "print(\"🔥 TESTE 2: Múltiplas ferramentas\")\n",
        "print(f\"Pergunta: {pergunta2}\")\n",
        "print(\"=\" * 50)\n",
        "\n",
        "resposta2 = agent_executor.invoke({\"input\": pergunta2})\n",
        "print(f\"\\n✅ Resposta final: {resposta2['output']}\")"
      ]
    },
    {
      "cell_type": "markdown",
      "metadata": {},
      "source": [
        "## 📊 Visualizando o Fluxo do Agent"
      ]
    },
    {
      "cell_type": "code",
      "execution_count": null,
      "metadata": {},
      "outputs": [],
      "source": [
        "# Vamos criar um gráfico para mostrar como funciona o fluxo do Agent\n",
        "fig, ax = plt.subplots(figsize=(12, 8))\n",
        "\n",
        "# Dados para o gráfico de fluxo\n",
        "steps = ['Input', 'Reasoning', 'Tool Selection', 'Action', 'Observation', 'Final Answer']\n",
        "positions = np.arange(len(steps))\n",
        "complexities = [1, 3, 2, 4, 3, 1]  # Complexidade de cada etapa\n",
        "\n",
        "# Criando o gráfico\n",
        "bars = ax.bar(positions, complexities, \n",
        "              color=['#FF6B6B', '#4ECDC4', '#45B7D1', '#96CEB4', '#FFEAA7', '#DDA0DD'])\n",
        "\n",
        "# Customizações\n",
        "ax.set_xlabel('Etapas do Agent ReAct', fontsize=12)\n",
        "ax.set_ylabel('Complexidade', fontsize=12)\n",
        "ax.set_title('🤖 Fluxo de Processamento do Agent', fontsize=14, fontweight='bold')\n",
        "ax.set_xticks(positions)\n",
        "ax.set_xticklabels(steps, rotation=45, ha='right')\n",
        "\n",
        "# Adicionando valores nas barras\n",
        "for i, bar in enumerate(bars):\n",
        "    height = bar.get_height()\n",
        "    ax.text(bar.get_x() + bar.get_width()/2., height + 0.05,\n",
        "            f'{complexities[i]}', ha='center', va='bottom')\n",
        "\n",
        "plt.tight_layout()\n",
        "plt.grid(True, alpha=0.3)\n",
        "plt.show()\n",
        "\n",
        "print(\"📊 Este gráfico mostra a complexidade de cada etapa do processamento!\")"
      ]
    },
    {
      "cell_type": "markdown",
      "metadata": {},
      "source": [
        "## 🌐 Criando uma Tool de API Externa\n\nAgora vamos criar algo mais avançado - uma tool que consulta uma API externa!\n\nVamos usar a API do ViaCEP para buscar informações de CEP."
      ]
    },
    {
      "cell_type": "code",
      "execution_count": null,
      "metadata": {},
      "outputs": [],
      "source": [
        "# Tool para consultar CEP\n",
        "def consultar_cep(cep):\n",
        "    \"\"\"\n",
        "    Consulta informações de um CEP brasileiro.\n",
        "    Entrada: CEP no formato 12345678 ou 12345-678\n",
        "    Saída: Informações do endereço\n",
        "    \"\"\"\n",
        "    try:\n",
        "        # Limpando o CEP\n",
        "        cep_limpo = cep.replace(\"-\", \"\").replace(\".\", \"\")\n",
        "        \n",
        "        if len(cep_limpo) != 8 or not cep_limpo.isdigit():\n",
        "            return \"Erro: CEP deve ter 8 dígitos\"\n",
        "        \n",
        "        # Fazendo a requisição\n",
        "        url = f\"https://viacep.com.br/ws/{cep_limpo}/json/\"\n",
        "        response = requests.get(url, timeout=5)\n",
        "        \n",
        "        if response.status_code == 200:\n",
        "            dados = response.json()\n",
        "            \n",
        "            if \"erro\" in dados:\n",
        "                return f\"CEP {cep} não encontrado\"\n",
        "            \n",
        "            return (f\"CEP {dados['cep']}: {dados['logradouro']}, \"\n",
        "                   f\"{dados['bairro']}, {dados['localidade']}-{dados['uf']}\")\n",
        "        else:\n",
        "            return \"Erro ao consultar o CEP\"\n",
        "            \n",
        "    except Exception as e:\n",
        "        return f\"Erro na consulta: {str(e)}\"\n",
        "\n",
        "# Testando a função\n",
        "print(\"🏠 Testando consulta de CEP:\")\n",
        "print(consultar_cep(\"01310-100\"))  # Av. Paulista, SP"
      ]
    },
    {
      "cell_type": "code",
      "execution_count": null,
      "metadata": {},
      "outputs": [],
      "source": [
        "# Criando a tool de CEP e atualizando nosso agent\n",
        "tool_cep = Tool(\n",
        "    name=\"ConsultarCEP\",\n",
        "    func=consultar_cep,\n",
        "    description=\"Consulta informações de endereço por CEP brasileiro. Entrada: CEP (ex: '12345-678' ou '12345678')\"\n",
        ")\n",
        "\n",
        "# Nova lista de tools (com CEP incluído)\n",
        "tools_completas = [tool_calculadora, tool_data_hora, tool_wikipedia, tool_cep]\n",
        "\n",
        "# Recriando o agent com a nova tool\n",
        "agent_completo = create_react_agent(\n",
        "    llm=llm,\n",
        "    tools=tools_completas,\n",
        "    prompt=prompt\n",
        ")\n",
        "\n",
        "agent_executor_completo = AgentExecutor(\n",
        "    agent=agent_completo,\n",
        "    tools=tools_completas,\n",
        "    verbose=True,\n",
        "    max_iterations=5,\n",
        "    handle_parsing_errors=True\n",
        ")\n",
        "\n",
        "print(\"🚀 Agent atualizado com tool de CEP!\")\n",
        "print(f\"Tools disponíveis: {[tool.name for tool in tools_completas]}\")"
      ]
    },
    {
      "cell_type": "markdown",
      "metadata": {},
      "source": [
        "## 🎯 Teste Completo do Agent\n\nAgora vamos fazer um teste mais complexo que usa múltiplas ferramentas!\n\n![](/Users/pedroguth/Downloads/Projetos/Book Maker/5-Imagens/langchain---usando-versão-v0.2-modulo-09_img_01.png)"
      ]
    },
    {
      "cell_type": "code",
      "execution_count": null,
      "metadata": {},
      "outputs": [],
      "source": [
        "# Teste complexo: múltiplas ferramentas\n",
        "pergunta_complexa = \"\"\"\n",
        "Preciso de ajuda com o seguinte:\n",
        "1. Calcule quantos dias se passaram desde 1º de janeiro de 2024 até hoje\n",
        "2. Me diga informações sobre o CEP 04038-001\n",
        "3. Busque informações sobre inteligência artificial\n",
        "\"\"\"\n",
        "\n",
        "print(\"🔥 TESTE COMPLEXO: Múltiplas ferramentas\")\n",
        "print(f\"Pergunta: {pergunta_complexa}\")\n",
        "print(\"=\" * 60)\n",
        "\n",
        "resposta_complexa = agent_executor_completo.invoke({\"input\": pergunta_complexa})\n",
        "print(f\"\\n✅ Resposta final: {resposta_complexa['output']}\")"
      ]
    },
    {
      "cell_type": "markdown",
      "metadata": {},
      "source": [
        "## 📊 Gráfico de Performance das Tools"
      ]
    },
    {
      "cell_type": "code",
      "execution_count": null,
      "metadata": {},
      "outputs": [],
      "source": [
        "# Simulando dados de uso das tools\n",
        "tools_names = ['Calculadora', 'Data/Hora', 'Wikipedia', 'CEP']\n",
        "uso_simulado = [25, 15, 35, 20]  # Percentual de uso\n",
        "velocidade = [0.1, 0.05, 2.5, 1.2]  # Tempo médio em segundos\n",
        "\n",
        "fig, (ax1, ax2) = plt.subplots(1, 2, figsize=(15, 6))\n",
        "\n",
        "# Gráfico 1: Uso das Tools (Pizza)\n",
        "colors = ['#FF6B6B', '#4ECDC4', '#45B7D1', '#96CEB4']\n",
        "ax1.pie(uso_simulado, labels=tools_names, autopct='%1.1f%%', \n",
        "        colors=colors, startangle=90)\n",
        "ax1.set_title('📊 Distribuição de Uso das Tools', fontsize=12, fontweight='bold')\n",
        "\n",
        "# Gráfico 2: Velocidade das Tools (Barras)\n",
        "bars = ax2.bar(tools_names, velocidade, color=colors)\n",
        "ax2.set_title('⚡ Tempo Médio de Resposta (segundos)', fontsize=12, fontweight='bold')\n",
        "ax2.set_ylabel('Tempo (s)')\n",
        "ax2.tick_params(axis='x', rotation=45)\n",
        "\n",
        "# Adicionando valores nas barras\n",
        "for bar, vel in zip(bars, velocidade):\n",
        "    height = bar.get_height()\n",
        "    ax2.text(bar.get_x() + bar.get_width()/2., height + 0.05,\n",
        "             f'{vel}s', ha='center', va='bottom')\n",
        "\n",
        "plt.tight_layout()\n",
        "plt.show()\n",
        "\n",
        "print(\"📈 Análise de performance das nossas tools!\")"
      ]
    },
    {
      "cell_type": "markdown",
      "metadata": {},
      "source": [
        "## 🎨 Diagrama da Arquitetura\n\n```mermaid\ngraph TD\n    A[Usuário] --> B[Agent Executor]\n    B --> C[LLM - Gemini]\n    C --> D{Precisa de Tool?}\n    D -->|Sim| E[Selecionar Tool]\n    D -->|Não| F[Resposta Final]\n    E --> G[Calculadora]\n    E --> H[Data/Hora]\n    E --> I[Wikipedia]\n    E --> J[CEP]\n    G --> K[Resultado]\n    H --> K\n    I --> K\n    J --> K\n    K --> C\n    F --> L[Retorno ao Usuário]\n```"
      ]
    },
    {
      "cell_type": "markdown",
      "metadata": {},
      "source": [
        "## 🎓 Exercício Prático 1\n\n**Desafio:** Crie uma tool personalizada!\n\nSua missão:\n1. Crie uma função que converte temperaturas (Celsius ↔ Fahrenheit)\n2. Transforme em uma Tool do LangChain\n3. Adicione ao nosso agent\n4. Teste com uma pergunta\n\n**Dica do Pedro:** A fórmula é: °F = (°C × 9/5) + 32 e °C = (°F - 32) × 5/9"
      ]
    },
    {
      "cell_type": "code",
      "execution_count": null,
      "metadata": {},
      "outputs": [],
      "source": [
        "# SEU CÓDIGO AQUI!\n",
        "# Implemente a tool de conversão de temperatura\n",
        "\n",
        "def converter_temperatura(entrada):\n",
        "    \"\"\"\n",
        "    Converte temperaturas entre Celsius e Fahrenheit.\n",
        "    Entrada: \"25C\" para converter de Celsius ou \"77F\" para Fahrenheit\n",
        "    Saída: temperatura convertida\n",
        "    \"\"\"\n",
        "    # COMPLETE AQUI!\n",
        "    pass\n",
        "\n",
        "# Teste sua função aqui\n",
        "# print(converter_temperatura(\"25C\"))\n",
        "# print(converter_temperatura(\"77F\"))\n",
        "\n",
        "print(\"💪 Complete o exercício e teste sua tool!\")"
      ]
    },
    {
      "cell_type": "markdown",
      "metadata": {},
      "source": [
        "## 🏆 Exercício Prático 2 - Desafio Avançado\n\n**Super Desafio:** Crie um agent especializado!\n\nCrie um agent que seja um \"Assistente de Viagem\" com as seguintes tools:\n1. Consultar CEP (já temos)\n2. Buscar informações sobre cidades (Wikipedia)\n3. Calcular distâncias (você cria)\n4. Converter moedas (você cria - use uma API gratuita)\n\n**Exemplo de uso:**\n\"Quero viajar para uma cidade com CEP 20040-020. Me fale sobre essa cidade e converta R$ 1000 para dólares.\""
      ]
    },
    {
      "cell_type": "code",
      "execution_count": null,
      "metadata": {},
      "outputs": [],
      "source": [
        "# SEU CÓDIGO AQUI!\n",
        "# Crie o Assistente de Viagem\n",
        "\n",
        "def converter_moeda(valor_moeda):\n",
        "    \"\"\"\n",
        "    Converte valores entre moedas (simplificado).\n",
        "    Entrada: \"100 BRL USD\" (100 reais para dólares)\n",
        "    \"\"\"\n",
        "    # IMPLEMENTE AQUI!\n",
        "    # Dica: Use uma API como exchangerate-api.com (gratuita)\n",
        "    pass\n",
        "\n",
        "def calcular_distancia(origem_destino):\n",
        "    \"\"\"\n",
        "    Calcula distância entre cidades (simplificado).\n",
        "    Entrada: \"São Paulo Rio de Janeiro\"\n",
        "    \"\"\"\n",
        "    # IMPLEMENTE AQUI!\n",
        "    # Pode ser uma versão simplificada com distâncias fixas\n",
        "    pass\n",
        "\n",
        "print(\"🌍 Crie seu Assistente de Viagem aqui!\")"
      ]
    },
    {
      "cell_type": "markdown",
      "metadata": {},
      "source": [
        "## 🔍 Monitorando e Debugando Agents\n\nUma parte importante é saber o que está acontecendo \"por baixo do capô\".\n\n**Dica do Pedro:** Sempre use `verbose=True` durante desenvolvimento!"
      ]
    },
    {
      "cell_type": "code",
      "execution_count": null,
      "metadata": {},
      "outputs": [],
      "source": [
        "# Função para analisar o comportamento do agent\n",
        "def analisar_agent_steps(pergunta):\n",
        "    \"\"\"\n",
        "    Executa uma pergunta e mostra estatísticas.\n",
        "    \"\"\"\n",
        "    print(f\"🔍 ANÁLISE DA PERGUNTA: {pergunta}\")\n",
        "    print(\"=\" * 60)\n",
        "    \n",
        "    # Executando e capturando\n",
        "    resultado = agent_executor_completo.invoke({\"input\": pergunta})\n",
        "    \n",
        "    # Simulando estatísticas (em uma implementação real, você capturaria isso)\n",
        "    stats = {\n",
        "        \"tools_usadas\": 2,\n",
        "        \"iteracoes\": 3,\n",
        "        \"tempo_total\": \"2.5s\",\n",
        "        \"tokens_usados\": 450\n",
        "    }\n",
        "    \n",
        "    print(f\"\\n📊 ESTATÍSTICAS:\")\n",
        "    for key, value in stats.items():\n",
        "        print(f\"  {key}: {value}\")\n",
        "    \n",
        "    return resultado\n",
        "\n",
        "# Testando nossa análise\n",
        "resultado_analise = analisar_agent_steps(\"Que horas são e quanto é 100 / 4?\")"
      ]
    },
    {
      "cell_type": "markdown",
      "metadata": {},
      "source": [
        "## 🚀 Performance e Otimizações\n\nAlgumas dicas para deixar seus Agents mais rápidos e eficientes:\n\n### ⚡ Dicas de Performance:\n1. **Limite iterações:** `max_iterations=3` (evita loops infinitos)\n2. **Cache de resultados:** Para APIs externas\n3. **Timeout nas tools:** Para evitar travamentos\n4. **Descrições claras:** Ajuda o LLM a escolher melhor\n5. **Temperature baixa:** Para decisões mais determinísticas\n\n### 🛡️ Dicas de Segurança:\n1. **Validação de entrada:** Sempre validar dados de entrada\n2. **Rate limiting:** Para APIs externas\n3. **Sanitização:** Para evitar injeções\n4. **Logs detalhados:** Para auditoria"
      ]
    },
    {
      "cell_type": "code",
      "execution_count": null,
      "metadata": {},
      "outputs": [],
      "source": [
        "# Exemplo de tool com validação e cache\n",
        "import time\n",
        "from functools import lru_cache\n",
        "\n",
        "@lru_cache(maxsize=100)  # Cache dos últimos 100 resultados\n",
        "def buscar_info_cache(termo):\n",
        "    \"\"\"\n",
        "    Busca informações com cache para otimizar performance.\n",
        "    \"\"\"\n",
        "    # Validação\n",
        "    if not termo or len(termo.strip()) < 2:\n",
        "        return \"Erro: Termo de busca muito curto\"\n",
        "    \n",
        "    # Simulando busca (na prática seria uma API real)\n",
        "    time.sleep(0.5)  # Simula latência\n",
        "    return f\"Informações sobre '{termo}' (resultado em cache)\"\n",
        "\n",
        "# Testando cache\n",
        "print(\"⏱️ Primeira busca (sem cache):\")\n",
        "start = time.time()\n",
        "result1 = buscar_info_cache(\"Python\")\n",
        "print(f\"Tempo: {time.time() - start:.2f}s - {result1}\")\n",
        "\n",
        "print(\"\\n⚡ Segunda busca (com cache):\")\n",
        "start = time.time()\n",
        "result2 = buscar_info_cache(\"Python\")\n",
        "print(f\"Tempo: {time.time() - start:.2f}s - {result2}\")"
      ]
    },
    {
      "cell_type": "markdown",
      "metadata": {},
      "source": [
        "## 📈 Comparação: Com vs Sem Agents\n\nVamos ver a diferença entre usar um chatbot simples e um Agent com tools!"
      ]
    },
    {
      "cell_type": "code",
      "execution_count": null,
      "metadata": {},
      "outputs": [],
      "source": [
        "# Comparando abordagens\n",
        "fig, ax = plt.subplots(figsize=(12, 7))\n",
        "\n",
        "# Dados da comparação\n",
        "categorias = ['Precisão\\nMatemática', 'Info\\nAtualizada', 'Versatilidade', 'Confiabilidade', 'Velocidade']\n",
        "chatbot_simples = [3, 2, 4, 7, 9]\n",
        "agent_tools = [10, 9, 9, 8, 7]\n",
        "\n",
        "x = np.arange(len(categorias))\n",
        "width = 0.35\n",
        "\n",
        "# Criando as barras\n",
        "bars1 = ax.bar(x - width/2, chatbot_simples, width, label='Chatbot Simples', \n",
        "               color='#FF6B6B', alpha=0.8)\n",
        "bars2 = ax.bar(x + width/2, agent_tools, width, label='Agent + Tools', \n",
        "               color='#4ECDC4', alpha=0.8)\n",
        "\n",
        "# Customizações\n",
        "ax.set_xlabel('Aspectos Avaliados')\n",
        "ax.set_ylabel('Score (1-10)')\n",
        "ax.set_title('🥊 Chatbot Simples vs Agent com Tools', fontweight='bold')\n",
        "ax.set_xticks(x)\n",
        "ax.set_xticklabels(categorias)\n",
        "ax.legend()\n",
        "ax.set_ylim(0, 11)\n",
        "\n",
        "# Adicionando valores\n",
        "for bars in [bars1, bars2]:\n",
        "    for bar in bars:\n",
        "        height = bar.get_height()\n",
        "        ax.text(bar.get_x() + bar.get_width()/2., height + 0.1,\n",
        "                f'{int(height)}', ha='center', va='bottom')\n",
        "\n",
        "plt.grid(True, alpha=0.3)\n",
        "plt.tight_layout()\n",
        "plt.show()\n",
        "\n",
        "print(\"📊 Os Agents claramente ganham na maioria dos aspectos!\")"
      ]
    },
    {
      "cell_type": "markdown",
      "metadata": {},
      "source": [
        "## 🎯 Casos de Uso Reais\n\n### 💼 Onde usar Agents na prática:\n\n1. **Assistentes Empresariais:**\n   - Consultar ERP/CRM\n   - Gerar relatórios\n   - Automatizar tarefas\n\n2. **Atendimento ao Cliente:**\n   - Consultar pedidos\n   - Verificar estoque\n   - Processar devoluções\n\n3. **Análise de Dados:**\n   - Executar consultas SQL\n   - Gerar gráficos\n   - Criar dashboards\n\n4. **Automação Residencial:**\n   - Controlar IoT\n   - Monitorar sistemas\n   - Otimizar consumo\n\n![](/Users/pedroguth/Downloads/Projetos/Book Maker/5-Imagens/langchain---usando-versão-v0.2-modulo-09_img_02.png)"
      ]
    },
    {
      "cell_type": "markdown",
      "metadata": {},
      "source": [
        "## 🔮 Preparando para os Próximos Módulos\n\nNos próximos módulos vamos usar tudo que aprendemos aqui:\n\n### 🚀 Módulo 10 e 11 - Projetos Finais:\n- Vamos criar projetos completos usando Agents\n- Integração com RAG (módulo 8) + Agents\n- Memory Systems (módulo 5) + Agents\n\n### 📦 Módulo 12 - Deploy:\n- Como colocar Agents em produção\n- Streamlit + Agents\n- Monitoramento e logs\n\n### 🆕 Módulo 14 - LangGraph:\n- Evolução dos Agents\n- Workflows mais complexos\n- Estados e transições\n\n**Dica do Pedro:** Os Agents são a base para construir assistentes realmente inteligentes!"
      ]
    },
    {
      "cell_type": "markdown",
      "metadata": {},
      "source": [
        "## 🎉 Resumo do Módulo\n\n### 🧠 O que aprendemos:\n\n1. **Conceitos Fundamentais:**\n   - Agents vs Chatbots simples\n   - Padrão ReAct (Reasoning + Acting)\n   - Tools e sua importância\n\n2. **Implementação Prática:**\n   - Criar tools customizadas\n   - Configurar agents ReAct\n   - Integrar APIs externas\n   - Monitorar e debugar\n\n3. **Tools que Criamos:**\n   - ✅ Calculadora matemática\n   - ✅ Data e hora atual\n   - ✅ Consulta Wikipedia\n   - ✅ Consulta de CEP\n\n### 🚀 Próximos Passos:\n- Experimente criar suas próprias tools\n- Integre com APIs que você usa\n- Prepare-se para os projetos finais!\n\n**Liiindo! Agora você sabe criar Agents inteligentes! 🎊**\n\nNos vemos no próximo módulo para começar nosso projeto final! Bora colocar a mão na massa! 💪"
      ]
    }
  ]
}