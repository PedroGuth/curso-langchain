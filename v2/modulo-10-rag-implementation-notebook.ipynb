{
  "nbformat": 4,
  "nbformat_minor": 0,
  "metadata": {
    "colab": {
      "provenance": []
    },
    "kernelspec": {
      "name": "python3",
      "display_name": "Python 3"
    },
    "language_info": {
      "name": "python"
    }
  },
  "cells": [
    {
      "cell_type": "markdown",
      "metadata": {},
      "source": [
        "# 🔍 RAG na Prática: Criando uma IA que Realmente Sabe das Coisas!\n\n## Módulo 10 - LangChain v0.3 Course\n\nFala, pessoal! Pedro Nunes Guth aqui! 🚀\n\nBora colocar a mão na massa e implementar nosso primeiro RAG completo! Nos módulos anteriores a gente viu:\n- Como fazer document loading e splitting (Módulo 8)\n- Como criar embeddings e vector stores (Módulo 9)\n- Chains e prompts (Módulos 4 e 6)\n\nAgora é hora de juntar tudo isso numa implementação RAG que vai fazer sua IA parecer que tem PhD em qualquer assunto!\n\n**Tá, mas o que é RAG mesmo?** 🤔\n\nImagina que você tem um amigo super inteligente, mas que só sabe coisas até 2021. Aí você dá pra ele um monte de livros atualizados e fala: \"Ó, antes de responder qualquer coisa, dá uma olhada nesses livros aqui\". Isso é RAG!\n\n**RAG = Retrieval Augmented Generation**\n- **Retrieval**: Busca informações relevantes\n- **Augmented**: Aumenta o conhecimento da IA\n- **Generation**: Gera respostas baseadas nessas informações\n\n![](https://s3.us-east-1.amazonaws.com/turing.education/notebooks/imagens/langchain-modulo-10_img_01.png)"
      ]
    },
    {
      "cell_type": "markdown",
      "metadata": {},
      "source": [
        "## 📚 Como Funciona o RAG na Prática?\n\nO RAG é tipo aquele sistema de atendimento ao cliente que funciona de verdade (raridade, né?):\n\n1. **Você faz uma pergunta** 🗣️\n2. **O sistema busca nos documentos** 🔍\n3. **Encontra as partes relevantes** 📄\n4. **Monta uma resposta baseada nisso** 🤖\n\nA diferença é que aqui funciona mesmo! 😂\n\n### Fluxo Matemático do RAG:\n\nPara uma query $q$, o RAG funciona assim:\n\n$$\\text{resposta} = \\text{LLM}(q + \\text{retrieve}(q, D))$$\n\nOnde:\n- $q$ = sua pergunta\n- $D$ = base de documentos\n- $\\text{retrieve}(q, D)$ = documentos mais relevantes para $q$\n\n### Etapas Detalhadas:\n\n1. **Embedding da Query**: $e_q = \\text{embedding}(q)$\n2. **Busca por Similaridade**: $\\text{sim}(e_q, e_d) = \\frac{e_q \\cdot e_d}{||e_q|| \\cdot ||e_d||}$\n3. **Seleção dos Top-k**: $D_{top} = \\text{top_k}(\\text{sim}(e_q, D))$\n4. **Geração**: $\\text{resposta} = \\text{LLM}(\\text{prompt} + D_{top} + q)$"
      ]
    },
    {
      "cell_type": "code",
      "execution_count": null,
      "metadata": {},
      "outputs": [],
      "source": [
        "# Bora instalar as dependências que vamos precisar!\n",
        "!pip install langchain langchain-google-genai langchain-community faiss-cpu python-dotenv -q\n",
        "\n",
        "print(\"Liiindo! Tudo instalado! 🚀\")"
      ]
    },
    {
      "cell_type": "code",
      "execution_count": null,
      "metadata": {},
      "outputs": [],
      "source": [
        "# Imports necessários - já conhecemos esses caras dos módulos anteriores!\n",
        "import os\n",
        "from dotenv import load_dotenv\n",
        "\n",
        "# LangChain components que já vimos\n",
        "from langchain_google_genai import ChatGoogleGenerativeAI, GoogleGenerativeAIEmbeddings\n",
        "from langchain.text_splitter import RecursiveCharacterTextSplitter\n",
        "from langchain_community.vectorstores import FAISS\n",
        "from langchain.chains import RetrievalQA\n",
        "from langchain.prompts import PromptTemplate\n",
        "from langchain_community.document_loaders import TextLoader\n",
        "from langchain.schema import Document\n",
        "\n",
        "# Para visualização\n",
        "import matplotlib.pyplot as plt\n",
        "import numpy as np\n",
        "\n",
        "print(\"Imports feitos! Vamos que vamos! 💪\")"
      ]
    },
    {
      "cell_type": "code",
      "execution_count": null,
      "metadata": {},
      "outputs": [],
      "source": [
        "# Configuração da API do Google (lembra do Módulo 2?)\n",
        "load_dotenv()\n",
        "\n",
        "# Se você não tem o arquivo .env, descomente e cole sua API key aqui:\n",
        "# os.environ[\"GOOGLE_API_KEY\"] = \"sua_api_key_aqui\"\n",
        "\n",
        "# Verificando se tá tudo certo\n",
        "if \"GOOGLE_API_KEY\" not in os.environ:\n",
        "    print(\"❌ Opa! Faltou a API key do Google!\")\n",
        "    print(\"Configure no .env ou descomente a linha acima\")\n",
        "else:\n",
        "    print(\"✅ API key configurada! Bora pro RAG!\")"
      ]
    },
    {
      "cell_type": "markdown",
      "metadata": {},
      "source": [
        "## 🏗️ Construindo nosso RAG - Passo 1: Preparando os Documentos\n\nLembra do Módulo 8? Vamos usar aqueles conceitos de document loading e splitting!\n\n**Dica!** 💡 O splitting é super importante! Se você cortar os documentos muito pequenos, perde contexto. Muito grandes, fica confuso. É tipo cortar um bolo - tem que ser na medida certa!\n\nVamos criar alguns documentos de exemplo sobre tecnologia brasileira:"
      ]
    },
    {
      "cell_type": "code",
      "execution_count": null,
      "metadata": {},
      "outputs": [],
      "source": [
        "# Criando documentos de exemplo sobre tecnologia brasileira\n",
        "# (Na vida real, você carregaria de arquivos, APIs, etc.)\n",
        "\n",
        "documentos_exemplo = [\n",
        "    \"\"\"A Nubank foi fundada em 2013 por David Vélez, Cristina Junqueira e Edward Wible. \n",
        "    A empresa revolucionou o mercado financeiro brasileiro com seu cartão de crédito roxo \n",
        "    e aplicativo mobile. Em 2021, a empresa fez IPO na NYSE e se tornou o banco digital \n",
        "    mais valioso da América Latina, com mais de 70 milhões de clientes.\"\"\",\n",
        "    \n",
        "    \"\"\"O Pix foi lançado pelo Banco Central do Brasil em novembro de 2020. É um sistema \n",
        "    de pagamentos instantâneos que funciona 24 horas por dia, 7 dias por semana. \n",
        "    O Pix permite transferências de dinheiro em até 10 segundos e se tornou o meio \n",
        "    de pagamento mais popular do Brasil, processando bilhões de transações por mês.\"\"\",\n",
        "    \n",
        "    \"\"\"A Stone Pagamentos foi fundada em 2012 e se tornou uma das principais empresas \n",
        "    de meios de pagamento do Brasil. A empresa oferece máquinas de cartão (maquininhas), \n",
        "    soluções de software e serviços financeiros para pequenas e médias empresas. \n",
        "    Está listada na NASDAQ desde 2018.\"\"\",\n",
        "    \n",
        "    \"\"\"O iFood é a maior plataforma de delivery de comida da América Latina, fundada em 2011. \n",
        "    A empresa conecta restaurantes, entregadores e consumidores através de seu aplicativo. \n",
        "    Durante a pandemia de COVID-19, o iFood expandiu significativamente e hoje opera \n",
        "    em mais de 1000 cidades brasileiras.\"\"\",\n",
        "    \n",
        "    \"\"\"A 99 (anteriormente 99Taxis) foi fundada em 2012 e se tornou a principal \n",
        "    concorrente brasileira da Uber. Em 2018, foi adquirida pela chinesa Didi Chuxing \n",
        "    por 1 bilhão de dólares. A empresa oferece serviços de transporte por aplicativo \n",
        "    e delivery, sendo líder em várias cidades brasileiras.\"\"\"\n",
        "]\n",
        "\n",
        "print(f\"Criamos {len(documentos_exemplo)} documentos de exemplo sobre tech brasileira! 🇧🇷\")\n",
        "print(f\"Primeiro documento tem {len(documentos_exemplo[0])} caracteres\")"
      ]
    },
    {
      "cell_type": "code",
      "execution_count": null,
      "metadata": {},
      "outputs": [],
      "source": [
        "# Transformando em Document objects (padrão do LangChain)\n",
        "# Lembra disso do Módulo 8?\n",
        "\n",
        "documents = []\n",
        "for i, texto in enumerate(documentos_exemplo):\n",
        "    doc = Document(\n",
        "        page_content=texto,\n",
        "        metadata={\"source\": f\"tech_brasileira_doc_{i}\", \"tipo\": \"startup\"}\n",
        "    )\n",
        "    documents.append(doc)\n",
        "\n",
        "print(f\"✅ Convertidos {len(documents)} textos para Document objects!\")\n",
        "print(f\"Exemplo de metadata: {documents[0].metadata}\")"
      ]
    },
    {
      "cell_type": "code",
      "execution_count": null,
      "metadata": {},
      "outputs": [],
      "source": [
        "# Splitting dos documentos (Módulo 8 feelings!)\n",
        "# Configurações importantes para um bom RAG\n",
        "\n",
        "text_splitter = RecursiveCharacterTextSplitter(\n",
        "    chunk_size=200,        # Tamanho de cada chunk\n",
        "    chunk_overlap=50,      # Sobreposição entre chunks\n",
        "    length_function=len,   # Como medir o tamanho\n",
        "    separators=[\"\\n\\n\", \"\\n\", \".\", \" \", \"\"]  # Como quebrar o texto\n",
        ")\n",
        "\n",
        "# Fazendo o split\n",
        "split_docs = text_splitter.split_documents(documents)\n",
        "\n",
        "print(f\"📄 Documentos originais: {len(documents)}\")\n",
        "print(f\"🔪 Chunks após splitting: {len(split_docs)}\")\n",
        "print(f\"\\n📋 Exemplo de chunk:\")\n",
        "print(f\"Conteúdo: {split_docs[0].page_content[:100]}...\")\n",
        "print(f\"Metadata: {split_docs[0].metadata}\")"
      ]
    },
    {
      "cell_type": "markdown",
      "metadata": {},
      "source": [
        "## 🧠 Passo 2: Criando Embeddings e Vector Store\n\nAgora vem a parte que vimos no Módulo 9! Vamos transformar nossos textos em vetores numéricos.\n\n**Tá, mas por que vetores?** 🤔\n\nÉ tipo transformar palavras em coordenadas num mapa gigante. Palavras parecidas ficam perto, palavras diferentes ficam longe. Assim o computador consegue entender \"proximidade semântica\"!\n\n**Dica!** 💡 O modelo de embedding é crucial! Modelos diferentes vão dar vetores diferentes. No LangChain v0.3, temos várias opções. Aqui vamos usar o Google!"
      ]
    },
    {
      "cell_type": "code",
      "execution_count": null,
      "metadata": {},
      "outputs": [],
      "source": [
        "# Criando o modelo de embeddings (lembra do Módulo 9?)\n",
        "embeddings = GoogleGenerativeAIEmbeddings(\n",
        "    model=\"models/embedding-001\"\n",
        ")\n",
        "\n",
        "print(\"🧠 Modelo de embeddings criado!\")\n",
        "\n",
        "# Testando com um texto simples\n",
        "teste_embedding = embeddings.embed_query(\"Nubank é um banco digital\")\n",
        "print(f\"📊 Dimensão do vetor: {len(teste_embedding)}\")\n",
        "print(f\"🔢 Primeiros 5 valores: {teste_embedding[:5]}\")\n",
        "\n",
        "# Cada palavra vira um vetor de 768 números! Liiindo!"
      ]
    },
    {
      "cell_type": "code",
      "execution_count": null,
      "metadata": {},
      "outputs": [],
      "source": [
        "# Criando o Vector Store com FAISS\n",
        "# FAISS = Facebook AI Similarity Search (agora Meta AI)\n",
        "# É uma biblioteca super eficiente para busca por similaridade!\n",
        "\n",
        "print(\"🏗️ Criando vector store... Isso pode demorar um pouco!\")\n",
        "\n",
        "vector_store = FAISS.from_documents(\n",
        "    documents=split_docs,\n",
        "    embedding=embeddings\n",
        ")\n",
        "\n",
        "print(\"✅ Vector store criado com sucesso!\")\n",
        "print(f\"📚 Armazenados {len(split_docs)} chunks como vetores\")\n",
        "\n",
        "# Testando uma busca simples\n",
        "resultados = vector_store.similarity_search(\"Nubank cartão roxo\", k=2)\n",
        "print(f\"\\n🔍 Teste de busca por 'Nubank cartão roxo':\")\n",
        "for i, doc in enumerate(resultados):\n",
        "    print(f\"  {i+1}. {doc.page_content[:80]}...\")"
      ]
    },
    {
      "cell_type": "markdown",
      "metadata": {},
      "source": [
        "## 🎯 Visualizando a Similaridade dos Embeddings\n\nBora ver como fica a similaridade entre diferentes queries e nossos documentos! É tipo ver o \"mapa da proximidade semântica\"."
      ]
    },
    {
      "cell_type": "code",
      "execution_count": null,
      "metadata": {},
      "outputs": [],
      "source": [
        "# Vamos testar diferentes queries e ver as similaridades\n",
        "queries_teste = [\n",
        "    \"cartão de crédito roxo\",\n",
        "    \"pagamento instantâneo\",\n",
        "    \"delivery de comida\",\n",
        "    \"transporte por aplicativo\",\n",
        "    \"máquina de cartão\"\n",
        "]\n",
        "\n",
        "# Para cada query, vamos buscar os documentos mais similares\n",
        "resultados_similaridade = []\n",
        "\n",
        "for query in queries_teste:\n",
        "    # Busca com score de similaridade\n",
        "    docs_com_score = vector_store.similarity_search_with_score(query, k=3)\n",
        "    \n",
        "    # Guardando os scores\n",
        "    scores = [score for _, score in docs_com_score]\n",
        "    resultados_similaridade.append(scores)\n",
        "    \n",
        "    print(f\"🔍 Query: '{query}'\")\n",
        "    for i, (doc, score) in enumerate(docs_com_score):\n",
        "        print(f\"  Top {i+1} (score: {score:.3f}): {doc.page_content[:60]}...\")\n",
        "    print()"
      ]
    },
    {
      "cell_type": "code",
      "execution_count": null,
      "metadata": {},
      "outputs": [],
      "source": [
        "# Visualizando os scores de similaridade\n",
        "fig, ax = plt.subplots(figsize=(12, 8))\n",
        "\n",
        "# Preparando dados para o gráfico\n",
        "x_pos = np.arange(len(queries_teste))\n",
        "width = 0.25\n",
        "\n",
        "# Plotando os top 3 resultados para cada query\n",
        "for i in range(3):\n",
        "    scores_pos = [resultado[i] for resultado in resultados_similaridade]\n",
        "    ax.bar(x_pos + i*width, scores_pos, width, \n",
        "           label=f'Top {i+1}', alpha=0.8)\n",
        "\n",
        "ax.set_xlabel('Queries de Teste')\n",
        "ax.set_ylabel('Score de Similaridade (menor = mais similar)')\n",
        "ax.set_title('📊 Scores de Similaridade por Query\\n(Quanto menor, mais similar!)')\n",
        "ax.set_xticks(x_pos + width)\n",
        "ax.set_xticklabels(queries_teste, rotation=45, ha='right')\n",
        "ax.legend()\n",
        "ax.grid(True, alpha=0.3)\n",
        "\n",
        "plt.tight_layout()\n",
        "plt.show()\n",
        "\n",
        "print(\"💡 Lembre-se: no FAISS, scores MENORES indicam MAIOR similaridade!\")"
      ]
    },
    {
      "cell_type": "markdown",
      "metadata": {},
      "source": [
        "## 🤖 Passo 3: Criando o Modelo de Chat\n\nAgora vamos criar nosso modelo de linguagem! Lembra do Módulo 2? Vamos usar o Gemini que já conhecemos bem!\n\n**Dica!** 💡 Para RAG, configurações como temperatura e max_tokens são importantes. Queremos respostas precisas baseadas nos documentos, então temperatura baixa é ideal!"
      ]
    },
    {
      "cell_type": "code",
      "execution_count": null,
      "metadata": {},
      "outputs": [],
      "source": [
        "# Criando o modelo de chat (nosso velho conhecido do Módulo 2!)\n",
        "llm = ChatGoogleGenerativeAI(\n",
        "    model=\"gemini-2.0-flash-exp\",  # Modelo mais recente\n",
        "    temperature=0.1,               # Baixa para ser mais preciso\n",
        "    max_tokens=512                 # Controle do tamanho da resposta\n",
        ")\n",
        "\n",
        "print(\"🤖 Modelo de chat criado!\")\n",
        "print(f\"Model: {llm.model}\")\n",
        "print(f\"Temperature: {llm.temperature}\")\n",
        "print(f\"Max tokens: {llm.max_tokens}\")\n",
        "\n",
        "# Teste rápido\n",
        "teste_resposta = llm.invoke(\"Olá! Como você está?\")\n",
        "print(f\"\\n🧪 Teste: {teste_resposta.content}\")"
      ]
    },
    {
      "cell_type": "markdown",
      "metadata": {},
      "source": [
        "## 📝 Passo 4: Criando um Prompt Template Eficiente\n\nAgora vem a parte crucial! Lembra do Módulo 4 sobre Prompt Templates? Vamos criar um prompt que:\n1. Instruir a IA sobre como usar os documentos\n2. Dar contexto relevante\n3. Fazer a pergunta do usuário\n\n**Dica!** 💡 Um bom prompt de RAG é tipo uma receita de bolo: tem que ter todos os ingredientes na ordem certa!"
      ]
    },
    {
      "cell_type": "code",
      "execution_count": null,
      "metadata": {},
      "outputs": [],
      "source": [
        "# Criando um prompt template específico para RAG\n",
        "# Isso é arte! Um prompt bem feito faz toda a diferença\n",
        "\n",
        "rag_prompt_template = \"\"\"\n",
        "Você é um assistente especializado em tecnologia e startups brasileiras.\n",
        "\n",
        "Use APENAS as informações fornecidas no contexto abaixo para responder à pergunta.\n",
        "Se a informação não estiver no contexto, diga que não tem essa informação disponível.\n",
        "\n",
        "Seja preciso, objetivo e baseie sua resposta exclusivamente no contexto fornecido.\n",
        "\n",
        "CONTEXTO:\n",
        "{context}\n",
        "\n",
        "PERGUNTA: {question}\n",
        "\n",
        "RESPOSTA:\n",
        "\"\"\"\n",
        "\n",
        "# Criando o PromptTemplate (lembra do Módulo 4?)\n",
        "rag_prompt = PromptTemplate(\n",
        "    template=rag_prompt_template,\n",
        "    input_variables=[\"context\", \"question\"]\n",
        ")\n",
        "\n",
        "print(\"📝 Prompt template para RAG criado!\")\n",
        "print(\"\\n🎯 Variáveis do prompt:\", rag_prompt.input_variables)\n",
        "\n",
        "# Testando o formato do prompt\n",
        "exemplo_prompt = rag_prompt.format(\n",
        "    context=\"Nubank foi fundada em 2013...\",\n",
        "    question=\"Quando foi fundado o Nubank?\"\n",
        ")\n",
        "print(f\"\\n📋 Exemplo de prompt formatado:\\n{exemplo_prompt[:200]}...\")"
      ]
    },
    {
      "cell_type": "markdown",
      "metadata": {},
      "source": [
        "## ⚡ Passo 5: Montando a Chain RAG Completa\n\nAgora é a hora da verdade! Vamos juntar tudo que vimos nos módulos anteriores numa chain RAG!\n\n**O que vai rolar:**\n1. Recebe a pergunta\n2. Busca documentos relevantes no vector store\n3. Monta o prompt com contexto + pergunta\n4. Envia pro LLM\n5. Retorna a resposta baseada nos documentos\n\nÉ tipo montar um hambúrguer: cada camada tem sua função! 🍔"
      ]
    },
    {
      "cell_type": "code",
      "execution_count": null,
      "metadata": {},
      "outputs": [],
      "source": [
        "# Criando a chain RAG completa!\n",
        "# Isso aqui é a magia acontecendo - todos os módulos anteriores se juntando!\n",
        "\n",
        "rag_chain = RetrievalQA.from_chain_type(\n",
        "    llm=llm,                           # Nosso modelo de chat\n",
        "    chain_type=\"stuff\",                # Tipo de chain (\"stuff\" = coloca tudo junto)\n",
        "    retriever=vector_store.as_retriever(  # Nosso retriever\n",
        "        search_type=\"similarity\",      # Tipo de busca\n",
        "        search_kwargs={\"k\": 3}         # Quantos documentos buscar\n",
        "    ),\n",
        "    chain_type_kwargs={\n",
        "        \"prompt\": rag_prompt            # Nosso prompt customizado\n",
        "    },\n",
        "    return_source_documents=True       # Retorna os documentos usados\n",
        ")\n",
        "\n",
        "print(\"🔗 Chain RAG criada com sucesso!\")\n",
        "print(\"✅ Componentes conectados:\")\n",
        "print(\"  - LLM: Gemini 2.0 Flash\")\n",
        "print(\"  - Vector Store: FAISS\")\n",
        "print(\"  - Embeddings: Google\")\n",
        "print(\"  - Prompt: Customizado para RAG\")\n",
        "print(\"  - Retriever: Top 3 documentos mais similares\")"
      ]
    },
    {
      "cell_type": "markdown",
      "metadata": {},
      "source": [
        "## 🚀 Testando Nosso RAG na Prática!\n\nChegou a hora da verdade! Vamos fazer perguntas pro nosso RAG e ver se ele consegue responder baseado nos documentos.\n\n**Dica!** 💡 Observe que as respostas vão citar informações específicas dos documentos que carregamos!"
      ]
    },
    {
      "cell_type": "code",
      "execution_count": null,
      "metadata": {},
      "outputs": [],
      "source": [
        "# Primeira pergunta: sobre o Nubank\n",
        "pergunta1 = \"Quando foi fundado o Nubank e quem foram os fundadores?\"\n",
        "\n",
        "print(f\"🤔 Pergunta: {pergunta1}\")\n",
        "print(\"\\n🔍 Buscando informações...\")\n",
        "\n",
        "resposta1 = rag_chain({\"query\": pergunta1})\n",
        "\n",
        "print(f\"\\n🤖 Resposta: {resposta1['result']}\")\n",
        "print(f\"\\n📚 Documentos consultados:\")\n",
        "for i, doc in enumerate(resposta1['source_documents']):\n",
        "    print(f\"  {i+1}. Fonte: {doc.metadata['source']}\")\n",
        "    print(f\"     Trecho: {doc.page_content[:80]}...\\n\")"
      ]
    },
    {
      "cell_type": "code",
      "execution_count": null,
      "metadata": {},
      "outputs": [],
      "source": [
        "# Segunda pergunta: sobre o Pix\n",
        "pergunta2 = \"O que é o Pix e quando foi lançado?\"\n",
        "\n",
        "print(f\"🤔 Pergunta: {pergunta2}\")\n",
        "print(\"\\n🔍 Buscando informações...\")\n",
        "\n",
        "resposta2 = rag_chain({\"query\": pergunta2})\n",
        "\n",
        "print(f\"\\n🤖 Resposta: {resposta2['result']}\")\n",
        "print(f\"\\n📚 Documentos consultados:\")\n",
        "for i, doc in enumerate(resposta2['source_documents']):\n",
        "    print(f\"  {i+1}. {doc.page_content[:100]}...\\n\")"
      ]
    },
    {
      "cell_type": "code",
      "execution_count": null,
      "metadata": {},
      "outputs": [],
      "source": [
        "# Terceira pergunta: testando os limites\n",
        "pergunta3 = \"Qual é a capital do Japão?\"\n",
        "\n",
        "print(f\"🤔 Pergunta: {pergunta3}\")\n",
        "print(\"\\n🔍 Buscando informações...\")\n",
        "\n",
        "resposta3 = rag_chain({\"query\": pergunta3})\n",
        "\n",
        "print(f\"\\n🤖 Resposta: {resposta3['result']}\")\n",
        "print(\"\\n💡 Repare que o RAG não inventa informações que não estão nos documentos!\")\n",
        "print(\"Isso é uma característica MUITO importante do RAG bem implementado.\")"
      ]
    },
    {
      "cell_type": "markdown",
      "metadata": {},
      "source": [
        "## 📊 Analisando a Performance do RAG\n\nVamos criar algumas métricas simples para entender como nosso RAG está se saindo!"
      ]
    },
    {
      "cell_type": "code",
      "execution_count": null,
      "metadata": {},
      "outputs": [],
      "source": [
        "# Vamos testar várias perguntas e analisar os resultados\n",
        "perguntas_teste = [\n",
        "    \"Quando foi fundado o Nubank?\",\n",
        "    \"O que é o Pix?\", \n",
        "    \"Quem fundou a Stone?\",\n",
        "    \"Em que ano o iFood foi criado?\",\n",
        "    \"Quanto a Didi pagou pela 99?\",\n",
        "    \"Qual a cor do cartão do Nubank?\",\n",
        "    \"Como funciona o delivery do iFood?\"\n",
        "]\n",
        "\n",
        "resultados_teste = []\n",
        "tempos_resposta = []\n",
        "\n",
        "print(\"🧪 Testando múltiplas perguntas...\\n\")\n",
        "\n",
        "import time\n",
        "\n",
        "for i, pergunta in enumerate(perguntas_teste):\n",
        "    print(f\"  {i+1}/7 - Testando: {pergunta[:40]}...\")\n",
        "    \n",
        "    # Medindo tempo de resposta\n",
        "    inicio = time.time()\n",
        "    resultado = rag_chain({\"query\": pergunta})\n",
        "    fim = time.time()\n",
        "    \n",
        "    tempo = fim - inicio\n",
        "    tempos_resposta.append(tempo)\n",
        "    \n",
        "    # Analisando a resposta\n",
        "    resposta = resultado['result']\n",
        "    num_docs = len(resultado['source_documents'])\n",
        "    tamanho_resposta = len(resposta)\n",
        "    \n",
        "    resultados_teste.append({\n",
        "        'pergunta': pergunta,\n",
        "        'resposta': resposta,\n",
        "        'tempo': tempo,\n",
        "        'num_docs': num_docs,\n",
        "        'tamanho': tamanho_resposta\n",
        "    })\n",
        "\n",
        "print(\"\\n✅ Testes concluídos!\")\n",
        "print(f\"📊 Tempo médio de resposta: {np.mean(tempos_resposta):.2f} segundos\")\n",
        "print(f\"📏 Tamanho médio das respostas: {np.mean([r['tamanho'] for r in resultados_teste]):.0f} caracteres\")"
      ]
    },
    {
      "cell_type": "code",
      "execution_count": null,
      "metadata": {},
      "outputs": [],
      "source": [
        "# Visualizando a performance\n",
        "fig, (ax1, ax2) = plt.subplots(1, 2, figsize=(15, 6))\n",
        "\n",
        "# Gráfico 1: Tempos de Resposta\n",
        "ax1.bar(range(len(tempos_resposta)), tempos_resposta, color='skyblue', alpha=0.8)\n",
        "ax1.set_xlabel('Pergunta #')\n",
        "ax1.set_ylabel('Tempo (segundos)')\n",
        "ax1.set_title('⏱️ Tempos de Resposta do RAG')\n",
        "ax1.grid(True, alpha=0.3)\n",
        "\n",
        "# Gráfico 2: Tamanho das Respostas\n",
        "tamanhos = [r['tamanho'] for r in resultados_teste]\n",
        "ax2.bar(range(len(tamanhos)), tamanhos, color='lightcoral', alpha=0.8)\n",
        "ax2.set_xlabel('Pergunta #')\n",
        "ax2.set_ylabel('Caracteres')\n",
        "ax2.set_title('📏 Tamanho das Respostas')\n",
        "ax2.grid(True, alpha=0.3)\n",
        "\n",
        "plt.tight_layout()\n",
        "plt.show()\n",
        "\n",
        "# Estatísticas\n",
        "print(f\"📈 Estatísticas do RAG:\")\n",
        "print(f\"  ⏱️ Tempo médio: {np.mean(tempos_resposta):.2f}s (±{np.std(tempos_resposta):.2f}s)\")\n",
        "print(f\"  📏 Resposta média: {np.mean(tamanhos):.0f} chars (±{np.std(tamanhos):.0f} chars)\")\n",
        "print(f\"  🚀 Tempo mínimo: {np.min(tempos_resposta):.2f}s\")\n",
        "print(f\"  🐌 Tempo máximo: {np.max(tempos_resposta):.2f}s\")"
      ]
    },
    {
      "cell_type": "markdown",
      "metadata": {},
      "source": [
        "## 🔧 Configurações Avançadas do RAG\n\nAgora que temos um RAG funcionando, vamos ver algumas configurações avançadas que podem melhorar muito a performance!\n\n**Configurações importantes:**\n- **k (número de documentos)**: Quantos chunks buscar\n- **score_threshold**: Filtro de qualidade\n- **search_type**: Tipo de busca (similarity, mmr, etc.)\n\n**Dica!** 💡 Nem sempre mais documentos = melhor resposta. Às vezes, poucos documentos relevantes são melhores que muitos medianos!"
      ]
    },
    {
      "cell_type": "code",
      "execution_count": null,
      "metadata": {},
      "outputs": [],
      "source": [
        "# Testando diferentes configurações de k (número de documentos)\n",
        "ks_para_testar = [1, 2, 3, 5]\n",
        "pergunta_teste = \"O que você sabe sobre o Nubank?\"\n",
        "\n",
        "print(f\"🧪 Testando diferentes valores de k com a pergunta: '{pergunta_teste}'\\n\")\n",
        "\n",
        "for k in ks_para_testar:\n",
        "    print(f\"📊 Testando k={k}:\")\n",
        "    \n",
        "    # Criando retriever com k específico\n",
        "    retriever_k = vector_store.as_retriever(\n",
        "        search_type=\"similarity\",\n",
        "        search_kwargs={\"k\": k}\n",
        "    )\n",
        "    \n",
        "    # Chain temporária com esse k\n",
        "    chain_temp = RetrievalQA.from_chain_type(\n",
        "        llm=llm,\n",
        "        chain_type=\"stuff\",\n",
        "        retriever=retriever_k,\n",
        "        chain_type_kwargs={\"prompt\": rag_prompt},\n",
        "        return_source_documents=True\n",
        "    )\n",
        "    \n",
        "    resultado = chain_temp({\"query\": pergunta_teste})\n",
        "    \n",
        "    print(f\"  📝 Resposta ({len(resultado['result'])} chars): {resultado['result'][:100]}...\")\n",
        "    print(f\"  📚 Documentos usados: {len(resultado['source_documents'])}\\n\")"
      ]
    },
    {
      "cell_type": "code",
      "execution_count": null,
      "metadata": {},
      "outputs": [],
      "source": [
        "# Testando busca com MMR (Maximum Marginal Relevance)\n",
        "# MMR ajuda a diversificar os resultados, evitando documentos muito similares\n",
        "\n",
        "print(\"🔍 Comparando busca por Similarity vs MMR\\n\")\n",
        "\n",
        "pergunta_mmr = \"Me fale sobre startups de pagamento no Brasil\"\n",
        "\n",
        "# Busca por similaridade normal\n",
        "retriever_similarity = vector_store.as_retriever(\n",
        "    search_type=\"similarity\",\n",
        "    search_kwargs={\"k\": 3}\n",
        ")\n",
        "\n",
        "# Busca com MMR\n",
        "retriever_mmr = vector_store.as_retriever(\n",
        "    search_type=\"mmr\",\n",
        "    search_kwargs={\n",
        "        \"k\": 3,\n",
        "        \"lambda_mult\": 0.7  # Balance entre relevância e diversidade\n",
        "    }\n",
        ")\n",
        "\n",
        "# Testando similarity\n",
        "docs_similarity = retriever_similarity.get_relevant_documents(pergunta_mmr)\n",
        "print(\"📊 Busca por Similarity:\")\n",
        "for i, doc in enumerate(docs_similarity):\n",
        "    print(f\"  {i+1}. {doc.page_content[:60]}...\")\n",
        "\n",
        "print(\"\\n🎯 Busca por MMR (mais diversificada):\")\n",
        "docs_mmr = retriever_mmr.get_relevant_documents(pergunta_mmr)\n",
        "for i, doc in enumerate(docs_mmr):\n",
        "    print(f\"  {i+1}. {doc.page_content[:60]}...\")\n",
        "\n",
        "print(\"\\n💡 MMR tenta trazer documentos relevantes MAS diversos!\")"
      ]
    },
    {
      "cell_type": "markdown",
      "metadata": {},
      "source": [
        "## 🎓 Exercício Prático: Seu Primeiro RAG Customizado\n\nAgora é sua vez! Vamos criar um RAG sobre um tema diferente.\n\n**Desafio:** 🏆\n1. Crie documentos sobre **futebol brasileiro** \n2. Configure um RAG com esses documentos\n3. Teste perguntas sobre times, jogadores, etc.\n4. Compare diferentes configurações de k\n\n**Dica!** 💡 Use o código que já vimos como base. Mude apenas os documentos e teste!"
      ]
    },
    {
      "cell_type": "code",
      "execution_count": null,
      "metadata": {},
      "outputs": [],
      "source": [
        "# SEU CÓDIGO AQUI!\n",
        "# Crie documentos sobre futebol brasileiro\n",
        "\n",
        "documentos_futebol = [\n",
        "    # TODO: Adicione pelo menos 4 documentos sobre:\n",
        "    # - Times brasileiros\n",
        "    # - Jogadores famosos \n",
        "    # - Copas do Mundo\n",
        "    # - Campeonatos\n",
        "    \n",
        "    \"\"\"O Pelé, cujo nome real é Edson Arantes do Nascimento, é considerado \n",
        "    o maior jogador de futebol de todos os tempos. Nascido em 1940, \n",
        "    jogou no Santos FC e na Seleção Brasileira, conquistando 3 Copas do Mundo \n",
        "    (1958, 1962, 1970). Marcou mais de 1000 gols na carreira.\"\"\",\n",
        "    \n",
        "    # Adicione mais documentos aqui...\n",
        "]\n",
        "\n",
        "print(\"⚽ Exercício: Crie seus documentos de futebol aqui!\")\n",
        "print(\"📝 Dica: Siga o mesmo padrão que usamos para tech brasileira\")\n",
        "\n",
        "# Complete o resto da implementação!"
      ]
    },
    {
      "cell_type": "markdown",
      "metadata": {},
      "source": [
        "## 📈 Melhorias Avançadas para RAG\n\nAgora que você já domina o básico, vamos ver algumas técnicas avançadas que podem turbinar seu RAG!\n\n### Técnicas Avançadas:\n\n1. **Re-ranking**: Reordenar resultados com modelo adicional\n2. **Query Expansion**: Expandir a query original\n3. **Hybrid Search**: Combinar busca semântica + keyword\n4. **Metadata Filtering**: Filtrar por metadados\n5. **Multi-hop RAG**: RAG com múltiplas etapas\n\n**Dica!** 💡 Cada técnica resolve um problema específico. Não use todas de uma vez!"
      ]
    },
    {
      "cell_type": "code",
      "execution_count": null,
      "metadata": {},
      "outputs": [],
      "source": [
        "# Exemplo: Filtros por Metadata\n",
        "# Vamos buscar apenas documentos de um tipo específico\n",
        "\n",
        "print(\"🔍 Testando filtros por metadata...\\n\")\n",
        "\n",
        "# Primeiro, vamos ver os metadados disponíveis\n",
        "print(\"📋 Metadados disponíveis nos documentos:\")\n",
        "for i, doc in enumerate(split_docs[:3]):\n",
        "    print(f\"  Doc {i+1}: {doc.metadata}\")\n",
        "\n",
        "# Busca com filtro (simulando que temos documentos de tipos diferentes)\n",
        "# Na vida real, você poderia filtrar por data, autor, categoria, etc.\n",
        "\n",
        "pergunta_filtro = \"Me fale sobre bancos digitais\"\n",
        "\n",
        "# Busca normal (sem filtro)\n",
        "resultados_normais = vector_store.similarity_search(pergunta_filtro, k=3)\n",
        "\n",
        "print(f\"\\n🔍 Busca normal para: '{pergunta_filtro}'\")\n",
        "for i, doc in enumerate(resultados_normais):\n",
        "    print(f\"  {i+1}. Fonte: {doc.metadata.get('source', 'N/A')}\")\n",
        "    print(f\"     Conteúdo: {doc.page_content[:80]}...\\n\")\n",
        "\n",
        "print(\"💡 Em projetos reais, você pode filtrar por data, categoria, autor, etc.!\")"
      ]
    },
    {
      "cell_type": "markdown",
      "metadata": {},
      "source": [
        "## 🏗️ Fluxo Completo do RAG - Diagrama\n\nVamos visualizar todo o processo que implementamos:"
      ]
    },
    {
      "cell_type": "code",
      "execution_count": null,
      "metadata": {},
      "outputs": [],
      "source": [
        "# Criando um diagrama do fluxo RAG\n",
        "from IPython.display import HTML\n",
        "\n",
        "diagrama_rag = \"\"\"\n",
        "<div class=\"mermaid\">\n",
        "graph TD\n",
        "    A[👤 Usuário faz pergunta] --> B[🔍 Embedding da pergunta]\n",
        "    B --> C[📊 Busca no Vector Store]\n",
        "    C --> D[📄 Top-k documentos mais similares]\n",
        "    D --> E[📝 Monta prompt com contexto]\n",
        "    E --> F[🤖 LLM gera resposta]\n",
        "    F --> G[✅ Resposta baseada nos documentos]\n",
        "    \n",
        "    H[📚 Base de Documentos] --> I[✂️ Text Splitting]\n",
        "    I --> J[🧠 Embeddings dos chunks]\n",
        "    J --> K[💾 Armazenamento no FAISS]\n",
        "    K --> C\n",
        "    \n",
        "    style A fill:#e1f5fe\n",
        "    style G fill:#e8f5e8\n",
        "    style F fill:#fff3e0\n",
        "    style C fill:#f3e5f5\n",
        "</div>\n",
        "\"\"\"\n",
        "\n",
        "print(\"🎯 Fluxo Completo do RAG que Implementamos:\")\n",
        "print(\"\")\n",
        "print(\"📥 ETAPA 1 - PREPARAÇÃO (offline):\")\n",
        "print(\"  1. Carregar documentos\")\n",
        "print(\"  2. Fazer text splitting\")\n",
        "print(\"  3. Gerar embeddings\")\n",
        "print(\"  4. Armazenar no vector store\")\n",
        "print(\"\")\n",
        "print(\"🔄 ETAPA 2 - CONSULTA (runtime):\")\n",
        "print(\"  1. Usuário faz pergunta\")\n",
        "print(\"  2. Embedding da pergunta\")\n",
        "print(\"  3. Busca similaridade no vector store\")\n",
        "print(\"  4. Recupera top-k documentos\")\n",
        "print(\"  5. Monta prompt com contexto\")\n",
        "print(\"  6. LLM gera resposta\")\n",
        "print(\"  7. Retorna resposta + fontes\")\n",
        "\n",
        "HTML(diagrama_rag)"
      ]
    },
    {
      "cell_type": "markdown",
      "metadata": {},
      "source": [
        "## 🚨 Problemas Comuns e Soluções\n\nTodo RAG tem seus desafios. Vamos ver os mais comuns e como resolver:\n\n### Problemas Típicos:\n\n1. **Chunk Size Ruim**: Pedaços muito grandes ou pequenos\n2. **Embeddings Inadequados**: Modelo não captura bem o domínio\n3. **Prompt Mal Feito**: LLM não entende como usar o contexto\n4. **Muitos/Poucos Documentos**: k muito alto/baixo\n5. **Qualidade dos Docs**: Documentos com informação ruim\n\n**Dica!** 💡 RAG é mais arte que ciência. Tem que testar e ajustar!"
      ]
    },
    {
      "cell_type": "code",
      "execution_count": null,
      "metadata": {},
      "outputs": [],
      "source": [
        "# Exemplo: Diagnóstico de problemas comuns\n",
        "print(\"🩺 Diagnóstico do nosso RAG:\\n\")\n",
        "\n",
        "# 1. Análise do chunk size\n",
        "tamanhos_chunks = [len(doc.page_content) for doc in split_docs]\n",
        "print(f\"📏 Análise dos Chunks:\")\n",
        "print(f\"  - Tamanho médio: {np.mean(tamanhos_chunks):.0f} chars\")\n",
        "print(f\"  - Menor chunk: {np.min(tamanhos_chunks)} chars\")\n",
        "print(f\"  - Maior chunk: {np.max(tamanhos_chunks)} chars\")\n",
        "print(f\"  - Total de chunks: {len(split_docs)}\")\n",
        "\n",
        "if np.mean(tamanhos_chunks) < 100:\n",
        "    print(\"  ⚠️ AVISO: Chunks muito pequenos podem perder contexto!\")\n",
        "elif np.mean(tamanhos_chunks) > 1000:\n",
        "    print(\"  ⚠️ AVISO: Chunks muito grandes podem confundir o LLM!\")\n",
        "else:\n",
        "    print(\"  ✅ Tamanho dos chunks parece adequado!\")\n",
        "\n",
        "# 2. Análise da distribuição\n",
        "print(f\"\\n📊 Distribuição dos tamanhos:\")\n",
        "hist, bins = np.histogram(tamanhos_chunks, bins=5)\n",
        "for i in range(len(hist)):\n",
        "    print(f\"  {bins[i]:.0f}-{bins[i+1]:.0f} chars: {hist[i]} chunks\")\n",
        "\n",
        "# 3. Teste de qualidade das buscas\n",
        "print(f\"\\n🎯 Teste de qualidade:\")\n",
        "query_teste = \"Nubank\"\n",
        "docs_teste = vector_store.similarity_search_with_score(query_teste, k=3)\n",
        "\n",
        "scores = [score for _, score in docs_teste]\n",
        "print(f\"  - Scores de similaridade: {[f'{s:.3f}' for s in scores]}\")\n",
        "print(f\"  - Diferença max-min: {max(scores) - min(scores):.3f}\")\n",
        "\n",
        "if max(scores) - min(scores) < 0.1:\n",
        "    print(\"  ⚠️ AVISO: Scores muito próximos - documentos podem ser muito similares!\")\n",
        "else:\n",
        "    print(\"  ✅ Boa variação nos scores de similaridade!\")"
      ]
    },
    {
      "cell_type": "markdown",
      "metadata": {},
      "source": [
        "## 🎊 Resumo: O que Aprendemos sobre RAG!\n\nCara, que jornada! 🚀 Implementamos um RAG completo do zero!\n\n### ✅ O que fizemos:\n1. **Carregamos e processamos documentos** (Módulo 8 vibes)\n2. **Criamos embeddings e vector store** (Módulo 9 power)\n3. **Configuramos LLM e prompts** (Módulos 2, 4, 6 unidos!)\n4. **Montamos a chain RAG completa**\n5. **Testamos e otimizamos**\n6. **Analisamos performance**\n\n### 🧠 Conceitos principais:\n- **RAG = Retrieval + Augmented + Generation**\n- **Similaridade semântica** com embeddings\n- **Chunk size** é crítico\n- **Prompt engineering** para RAG\n- **k (número de documentos)** afeta qualidade\n\n### 🔮 Próximos passos (Módulo 11):\nNo próximo módulo vamos ver **Agents e Tools** - imagina um RAG que pode usar ferramentas externas! 🤯\n\n![](https://s3.us-east-1.amazonaws.com/turing.education/notebooks/imagens/langchain-modulo-10_img_02.png)"
      ]
    },
    {
      "cell_type": "code",
      "execution_count": null,
      "metadata": {},
      "outputs": [],
      "source": [
        "# Teste final: vamos fazer uma pergunta complexa!\n",
        "pergunta_final = \"Compare as diferentes empresas de tecnologia brasileira mencionadas nos documentos\"\n",
        "\n",
        "print(f\"🎯 TESTE FINAL: {pergunta_final}\\n\")\n",
        "\n",
        "resposta_final = rag_chain({\"query\": pergunta_final})\n",
        "\n",
        "print(f\"🤖 Resposta Final:\")\n",
        "print(resposta_final['result'])\n",
        "\n",
        "print(f\"\\n📚 Documentos consultados: {len(resposta_final['source_documents'])}\")\n",
        "print(f\"📊 Tamanho da resposta: {len(resposta_final['result'])} caracteres\")\n",
        "\n",
        "print(\"\\n🎉 Parabéns! Você implementou seu primeiro RAG com LangChain v0.3!\")\n",
        "print(\"🚀 Agora você pode criar IAs que sabem de qualquer assunto!\")\n",
        "print(\"📖 Nos próximos módulos vamos ver Agents, Tools e muito mais!\")\n",
        "print(\"\\n💪 Bora continuar essa jornada incrível!\")"
      ]
    },
    {
      "cell_type": "markdown",
      "metadata": {},
      "source": [
        "## 🏋️ Exercício Final: Desafio RAG Completo\n\n**Seu desafio:** 🏆\n\nImplemente um RAG sobre **culinária brasileira** com:\n1. Pelo menos 5 documentos sobre pratos típicos\n2. Metadata com região (Norte, Sul, etc.)\n3. Teste diferentes valores de k\n4. Compare similarity vs MMR\n5. Crie visualizações dos resultados\n\n**Bonus:** 🌟\n- Adicione filtros por região\n- Teste diferentes chunk sizes\n- Calcule métricas de performance\n\n**Dica!** 💡 Use todo o código que vimos como referência. Você já tem tudo que precisa!\n\nLiiindo! Agora você é um expert em RAG! 🎊"
      ]
    }
  ]
}