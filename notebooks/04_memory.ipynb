{
  "cells": [
    {
      "cell_type": "markdown",
      "metadata": {
        "id": "PyFrrXviI1EV"
      },
      "source": [
        "# 🧠 **Módulo 4: Memory - Lembrando das Conversas**\n",
        "\n",
        "## **Aula 4.1: Memory Básica - Não Esqueça do Cliente**\n",
        "\n",
        "---\n",
        "\n",
        "### **Tá, mas o que é Memory?**\n",
        "\n",
        "Imagina que você está conversando com um **garçom muito bom** vs um **garçom com amnésia**:\n",
        "\n",
        "**Garçom com amnésia**:\n",
        "- Você: \"Quero um café\"\n",
        "- Garçom: \"Aqui está seu café\"\n",
        "- Você: \"Lembra que eu gosto sem açúcar?\"\n",
        "- Garçom: \"Desculpe, não me lembro de você...\" 😅\n",
        "\n",
        "**Garçom com boa memória**:\n",
        "- Você: \"Quero um café\"\n",
        "- Garçom: \"Aqui está seu café sem açúcar, como sempre!\"\n",
        "- Você: \"Perfeito! E lembra que eu gosto quente?\"\n",
        "- Garçom: \"Claro! Extra quente, como da última vez!\" 😊\n",
        "\n",
        "**Memory é exatamente isso!** É como dar **memória** para a IA, para ela lembrar do que vocês conversaram antes.\n",
        "\n",
        "### **Por que Memory é Importante?**\n",
        "\n",
        "**Sem Memory**: A IA esquece tudo a cada pergunta. É como conversar com alguém que tem Alzheimer - você tem que explicar tudo de novo.\n",
        "\n",
        "**Com Memory**: A IA lembra do contexto, suas preferências, o que vocês falaram antes. É como ter um **amigo que nunca esquece**!\n",
        "\n",
        "### **Tipos de Memory**\n",
        "\n",
        "1. **ConversationBufferMemory** - Lembra de tudo (como uma vó com boa memória)\n",
        "2. **ConversationSummaryMemory** - Faz resumos (como um assistente que anota)\n",
        "3. **VectorStoreMemory** - Lembra por similaridade (como um cérebro organizado)\n",
        "4. **EntityMemory** - Lembra de pessoas/coisas específicas (como um CRM)\n",
        "\n",
        "---\n"
      ]
    },
    {
      "cell_type": "markdown",
      "metadata": {
        "id": "YnyLBV5nI1EW"
      },
      "source": [
        "### **Setup Inicial - Preparando o Terreno**\n",
        "\n",
        "Vamos importar tudo que precisamos para trabalhar com Memory:"
      ]
    },
    {
      "cell_type": "code",
      "execution_count": null,
      "metadata": {
        "id": "1SDwmZ96I1EX"
      },
      "outputs": [],
      "source": [
        "# Coloca aqui a célula de importação e instalação de bibliotecas do módulo 0 ;)"
      ]
    },
    {
      "cell_type": "code",
      "source": [
        "# Coloca aqui a célula universal de configuração de API do módulo 0 (e não esquece de substituir o valor da API Key)"
      ],
      "metadata": {
        "id": "_FjrIS_QJJjU"
      },
      "execution_count": null,
      "outputs": []
    },
    {
      "cell_type": "markdown",
      "source": [
        "### **⚡ Tudo Pronto - Vamos Testar a Diferença**\n",
        "\n",
        "**Configuração completa:**\n",
        "- ✅ Bibliotecas importadas\n",
        "- ✅ API configurada  \n",
        "- ✅ Modelo funcionando\n",
        "\n",
        "**Agora vamos ver na prática por que memory é fundamental. Prepare-se para a diferença entre conversar com um \"estranho\" e um \"amigo\"!**"
      ],
      "metadata": {
        "id": "1G6HbEXAh8eI"
      }
    },
    {
      "cell_type": "markdown",
      "metadata": {
        "id": "trsin8lLI1EX"
      },
      "source": [
        "### **Teste 1: IA Sem Memory (Como Conversar com Alzheimer)**\n",
        "\n",
        "Vamos ver como é conversar com uma IA que **não lembra de nada**. É como conversar com alguém que tem amnésia:"
      ]
    },
    {
      "cell_type": "code",
      "execution_count": null,
      "metadata": {
        "id": "FAvBgInxI1EX"
      },
      "outputs": [],
      "source": [
        "# Testando IA sem memory\n",
        "# Como conversar com alguém que esquece tudo\n",
        "\n",
        "print(\"❌ TESTE: IA SEM MEMORY (Como Alzheimer)\")\n",
        "print(\"=\" * 60)\n",
        "\n",
        "# Simulando uma conversa sem memory\n",
        "perguntas = [\n",
        "    \"Olá! Meu nome é João e eu gosto de programar em Python.\",\n",
        "    \"Qual linguagem de programação eu gosto?\",\n",
        "    \"Qual é o meu nome?\",\n",
        "    \"Você lembra o que eu disse sobre mim?\"\n",
        "]\n",
        "\n",
        "for i, pergunta in enumerate(perguntas, 1):\n",
        "    print(f\"\\n🤔 Pergunta {i}: {pergunta}\")\n",
        "\n",
        "    try:\n",
        "        # Cada pergunta é independente (sem memory)\n",
        "        response = llm.invoke([HumanMessage(content=pergunta)])\n",
        "        print(f\"🤖 Resposta: {response.content[:150]}...\")\n",
        "\n",
        "    except Exception as e:\n",
        "        print(f\"❌ Erro: {e}\")\n",
        "\n",
        "    print(\"-\" * 40)\n",
        "\n",
        "print(\"\\n💭 Problema: A IA não lembra de nada! Cada pergunta é como a primeira.\")"
      ]
    },
    {
      "cell_type": "markdown",
      "source": [
        "### **🚨 Problema Identificado - A IA é um \"Estrangeiro\"**\n",
        "\n",
        "**O que aconteceu:**\n",
        "- ❌ Cada pergunta é isolada\n",
        "- ❌ Sem contexto entre interações  \n",
        "- ❌ Respostas genéricas e repetitivas\n",
        "- ❌ Experiência frustrante\n",
        "\n",
        "**Resultado**: É como tentar explicar sua vida para um estranho a cada 5 minutos. Exaustivo e inútil!\n",
        "\n",
        "**💡 Insight**: Sem memory, a IA é apenas um \"oráculo\" que responde perguntas individuais, não um assistente que aprende com você."
      ],
      "metadata": {
        "id": "amnPYvRVh-38"
      }
    },
    {
      "cell_type": "markdown",
      "metadata": {
        "id": "GNM-Np9xI1EX"
      },
      "source": [
        "### **ConversationBufferMemory - A Vó com Boa Memória**\n",
        "\n",
        "ConversationBufferMemory é como ter uma **vó com memória de elefante** - ela lembra de **TUDO** que vocês conversaram, palavra por palavra.\n",
        "\n",
        "**Vantagens**:\n",
        "- Lembra de tudo\n",
        "- Contexto completo\n",
        "- Precisão total\n",
        "\n",
        "**Desvantagens**:\n",
        "- Pode ficar pesado com conversas longas\n",
        "- Consome mais tokens\n",
        "- Pode ficar confuso com muito contexto\n",
        "\n",
        "**⚠️ Limitação**: Em conversas muito longas, pode ficar \"pesado\" e confuso.\n",
        "\n",
        "### **Criando Nossa Primeira Memory**"
      ]
    },
    {
      "cell_type": "code",
      "execution_count": null,
      "metadata": {
        "id": "kPWDLgZEI1EX"
      },
      "outputs": [],
      "source": [
        "# Criando ConversationBufferMemory\n",
        "# Como dar memória de elefante para a IA\n",
        "\n",
        "memory = ConversationBufferMemory()\n",
        "\n",
        "\n",
        "# Antigo\n",
        "#conversation = ConversationChain(llm=llm, memory=memory)\n",
        "#response = conversation.run(\"Olá!\")\n",
        "\n",
        "# Novo\n",
        "# Usar memory diretamente com as mensagens\n",
        "memory.save_context({\"input\": \"Olá!\"}, {\"output\": \"Oi! Como vai?\"})\n",
        "\n",
        "print(\"🧠 ConversationBufferMemory criada!\")\n",
        "print(\"💭 Agora a IA vai lembrar de tudo que vocês conversarem\")"
      ]
    },
    {
      "cell_type": "code",
      "execution_count": null,
      "metadata": {
        "id": "RGX43HA9I1EX"
      },
      "outputs": [],
      "source": [
        "# Testando a IA com memory\n",
        "# Agora ela vai lembrar de tudo!\n",
        "\n",
        "print(\"✅ TESTE: IA COM MEMORY (Como uma vó com boa memória)\")\n",
        "print(\"=\" * 60)\n",
        "\n",
        "# Mesmas perguntas, mas agora com memory\n",
        "perguntas_com_memory = [\n",
        "    \"Olá! Meu nome é João e eu gosto de programar em Python.\",\n",
        "    \"Qual linguagem de programação eu gosto?\",\n",
        "    \"Qual é o meu nome?\",\n",
        "    \"Você lembra o que eu disse sobre mim?\"\n",
        "]\n",
        "\n",
        "for i, pergunta in enumerate(perguntas_com_memory, 1):\n",
        "    print(f\"\\nPergunta {i}: {pergunta}\")\n",
        "\n",
        "    try:\n",
        "        # NOVO: Usar memory + llm diretamente\n",
        "        # Pegar contexto anterior\n",
        "        chat_history = memory.load_memory_variables({})\n",
        "\n",
        "        # Criar mensagem com contexto\n",
        "        if chat_history.get(\"history\"):\n",
        "            mensagem_completa = f\"Histórico: {chat_history['history']}\\n\\nPergunta atual: {pergunta}\"\n",
        "        else:\n",
        "            mensagem_completa = pergunta\n",
        "\n",
        "        # Enviar para o LLM\n",
        "        response = llm.invoke([HumanMessage(content=mensagem_completa)])\n",
        "\n",
        "        # Salvar na memory\n",
        "        memory.save_context({\"input\": pergunta}, {\"output\": response.content})\n",
        "\n",
        "        print(f\"🤖 Resposta: {response.content}\")\n",
        "\n",
        "    except Exception as e:\n",
        "        print(f\"❌ Erro: {e}\")\n",
        "\n",
        "    print(\"-\" * 40)\n",
        "\n",
        "print(\"\\n🎉 Agora a IA lembra de tudo! É como conversar com um amigo!\")"
      ]
    },
    {
      "cell_type": "markdown",
      "source": [
        "### **🎉 Transformação Completa - Agora é um \"Amigo\"!**\n",
        "\n",
        "**A diferença é dramática:**\n",
        "- ✅ **Lembra do seu nome**: \"João\"\n",
        "- ✅ **Lembra das suas preferências**: \"Python\"\n",
        "- ✅ **Mantém contexto**: Cada pergunta se baseia na anterior\n",
        "- ✅ **Respostas personalizadas**: Não mais genéricas\n",
        "\n",
        "**O que mudou**: A IA agora tem \"memória autobiográfica\" - ela se lembra de quem você é e do que vocês conversaram.\n",
        "\n",
        "**🚀 Resultado**: Conversas naturais, como com um amigo que realmente te conhece!"
      ],
      "metadata": {
        "id": "RU53LHh0iN80"
      }
    },
    {
      "cell_type": "code",
      "execution_count": null,
      "metadata": {
        "id": "DmIM-oJ5I1EY"
      },
      "outputs": [],
      "source": [
        "# Vendo o que a memory guardou\n",
        "# Como ver as anotações da vó\n",
        "\n",
        "print(\"CONTEÚDO DA MEMORY:\")\n",
        "print(\"=\" * 50)\n",
        "\n",
        "# NOVO: Verificar o buffer de memória\n",
        "try:\n",
        "    # Carregar variáveis de memória\n",
        "    memory_vars = memory.load_memory_variables({})\n",
        "\n",
        "    if \"history\" in memory_vars:\n",
        "        print(f\"🧠 Memória atual:\\n{memory_vars['history']}\")\n",
        "    else:\n",
        "        print(\"Memória vazia (ainda não há conversas)\")\n",
        "\n",
        "except Exception as e:\n",
        "    print(f\"❌ Erro ao carregar memory: {e}\")\n",
        "\n",
        "# NOVO: Verificar as configurações da memory\n",
        "print(\"\\n📊 CONFIGURAÇÕES DA MEMORY:\")\n",
        "print(f\"Input key: {memory.input_key}\")\n",
        "print(f\"📤 Output key: {memory.output_key}\")\n",
        "print(f\"🔄 Memory key: {memory.memory_key}\")\n",
        "\n",
        "# NOVO: Ver o buffer interno (se disponível)\n",
        "try:\n",
        "    if hasattr(memory, 'buffer'):\n",
        "        print(f\"\\nBuffer interno:\\n{memory.buffer}\")\n",
        "    else:\n",
        "        print(\"\\n📋 Buffer não disponível nesta versão\")\n",
        "except Exception as e:\n",
        "    print(f\"❌ Erro ao acessar buffer: {e}\")"
      ]
    },
    {
      "cell_type": "markdown",
      "source": [
        "### **Anatomia da Memory - O que Está Dentro**\n",
        "\n",
        "**Estrutura interna:**\n",
        "- 📝 **Input/Output keys**: Como a memory organiza as mensagens\n",
        "- 💬 **History**: O conteúdo real das conversas\n",
        "- ⚙️ **Configurações**: Parâmetros de funcionamento\n",
        "\n",
        "**💡 Curiosidade**: A memory não é só um \"array\" de mensagens. É um sistema inteligente que organiza e gerencia o contexto automaticamente.\n",
        "\n",
        "**Próximo passo**: Vamos ver como fazer memory mais eficiente com resumos!"
      ],
      "metadata": {
        "id": "ZlHO7spKiQMb"
      }
    },
    {
      "cell_type": "markdown",
      "metadata": {
        "id": "ZnsCDmuHI1EY"
      },
      "source": [
        "### **Parou aqui e entendeu!** 🎯\n",
        "\n",
        "**A diferença é BRUTAL, né?**\n",
        "\n",
        "**Sem Memory**: A IA esquece tudo, como alguém com Alzheimer\n",
        "**Com Memory**: A IA lembra de tudo, como uma vó com boa memória\n",
        "\n",
        "**O que a Memory faz:**\n",
        "- ✅ **Guarda o histórico** de conversas\n",
        "- ✅ **Mantém o contexto** entre perguntas\n",
        "- ✅ **Lembra de preferências** do usuário\n",
        "- ✅ **Permite conversas naturais**\n",
        "\n",
        "É como a diferença entre **conversar com um estranho** e **conversar com um amigo de longa data**! 👥"
      ]
    },
    {
      "cell_type": "markdown",
      "metadata": {
        "id": "3mniSu-ZI1EY"
      },
      "source": [
        "## **Aula 4.2: ConversationSummaryMemory - O Assistente que Anota**\n",
        "\n",
        "### **O que é ConversationSummaryMemory?**\n",
        "\n",
        "ConversationSummaryMemory é como ter um **assistente que faz anotações** durante a reunião. Em vez de lembrar de tudo palavra por palavra, ele faz **resumos inteligentes**.\n",
        "\n",
        "**Analogia**: É como a diferença entre:\n",
        "- **Vó com boa memória**: Lembra de tudo, mas pode ficar confusa com muita informação\n",
        "- **Assistente que anota**: Faz resumos organizados, mantém o essencial\n",
        "\n",
        "### **Vantagens da SummaryMemory**\n",
        "\n",
        "1. **Mais eficiente** - Usa menos tokens\n",
        "2. **Mais organizado** - Informações resumidas\n",
        "3. **Melhor para conversas longas** - Não fica pesado\n",
        "4. **Foco no essencial** - Mantém o que importa\n",
        "\n",
        "### **Criando SummaryMemory**"
      ]
    },
    {
      "cell_type": "code",
      "execution_count": null,
      "metadata": {
        "id": "pr1SAshDI1EY"
      },
      "outputs": [],
      "source": [
        "# Criando ConversationSummaryMemory\n",
        "# Como contratar um assistente que faz anotações\n",
        "\n",
        "summary_memory = ConversationSummaryMemory(\n",
        "    llm=llm,  # Modelo que vai fazer os resumos\n",
        "    max_token_limit=1000  # Limite de tokens para o resumo\n",
        ")\n",
        "\n",
        "# Antigo\n",
        "#conversation_summary = ConversationChain(llm=llm, memory=summary_memory)\n",
        "#response = conversation_summary.run(\"Olá!\")\n",
        "\n",
        "# Novo\n",
        "# Usar memory diretamente\n",
        "summary_memory.save_context({\"input\": \"Olá!\"}, {\"output\": \"Oi! Como vai?\"})\n",
        "resumo = summary_memory.load_memory_variables({})\n",
        "\n",
        "print(\"📝 ConversationSummaryMemory criada!\")\n",
        "print(\"💡 Agora a IA faz resumos inteligentes das conversas\")"
      ]
    },
    {
      "cell_type": "markdown",
      "source": [
        "### **⚙️ Configuração Inteligente - Controle de Recursos**\n",
        "\n",
        "**Parâmetros importantes:**\n",
        "- **max_token_limit=1000**: Controla o tamanho do resumo\n",
        "- **llm=llm**: O modelo que faz os resumos\n",
        "- **return_messages=True**: Formato de retorno padronizado\n",
        "\n",
        "**💡 Estratégia**: A memory automaticamente decide quando fazer resumos baseado no limite de tokens.\n",
        "\n",
        "**🔮 Resultado**: Conversas que não ficam \"pesadas\" mesmo com muito tempo de uso."
      ],
      "metadata": {
        "id": "gAJKjUToiVag"
      }
    },
    {
      "cell_type": "code",
      "execution_count": null,
      "metadata": {
        "id": "BQSeuj1kI1EY"
      },
      "outputs": [],
      "source": [
        "# Testando SummaryMemory com conversa longa\n",
        "# Vamos ver como ela faz resumos\n",
        "\n",
        "print(\"TESTE: SUMMARY MEMORY (Assistente que anota)\")\n",
        "print(\"=\" * 60)\n",
        "\n",
        "# Conversa mais longa para testar o resumo\n",
        "conversa_longa = [\n",
        "    \"Olá! Meu nome é Maria e eu trabalho como desenvolvedora frontend.\",\n",
        "    \"Eu uso React e TypeScript no meu trabalho diário.\",\n",
        "    \"Também gosto de UX/UI design e sempre procuro melhorar a experiência do usuário.\",\n",
        "    \"Tenho 3 anos de experiência e estou sempre estudando novas tecnologias.\",\n",
        "    \"Ultimamente tenho estudado Next.js e Tailwind CSS.\",\n",
        "    \"Qual é o meu nome e o que eu faço?\",\n",
        "    \"Quais tecnologias eu uso no trabalho?\",\n",
        "    \"O que eu tenho estudado ultimamente?\"\n",
        "]\n",
        "\n",
        "for i, mensagem in enumerate(conversa_longa, 1):\n",
        "    print(f\"\\n💬 Mensagem {i}: {mensagem}\")\n",
        "\n",
        "    try:\n",
        "        # NOVO: Usar summary_memory + llm diretamente\n",
        "\n",
        "        # Carregar contexto atual (incluindo resumos)\n",
        "        memory_vars = summary_memory.load_memory_variables({})\n",
        "\n",
        "        # Construir mensagem com contexto\n",
        "        if memory_vars.get(\"history\"):\n",
        "            mensagem_completa = f\"Contexto da conversa: {memory_vars['history']}\\n\\nPergunta atual: {mensagem}\"\n",
        "        else:\n",
        "            mensagem_completa = mensagem\n",
        "\n",
        "        # Enviar para o LLM\n",
        "        response = llm.invoke([HumanMessage(content=mensagem_completa)])\n",
        "\n",
        "        # Salvar na memory (ela fará o resumo automaticamente)\n",
        "        summary_memory.save_context({\"input\": mensagem}, {\"output\": response.content})\n",
        "\n",
        "        print(f\"🤖 Resposta: {response.content}\")\n",
        "\n",
        "    except Exception as e:\n",
        "        print(f\"❌ Erro: {e}\")\n",
        "\n",
        "    print(\"-\" * 40)"
      ]
    },
    {
      "cell_type": "markdown",
      "source": [
        "### **🧠 Resumos Inteligentes em Ação**\n",
        "\n",
        "**O que aconteceu:**\n",
        "- 📊 **Conversa longa**: 8 mensagens com contexto rico\n",
        "- 🧹 **Resumos automáticos**: A memory condensou o essencial\n",
        "- 💾 **Economia de espaço**: Menos tokens, mais eficiência\n",
        "- **Contexto mantido**: Informações importantes preservadas\n",
        "\n",
        "**Mágica**: A IA não só lembra, mas **entende** o que é importante lembrar.\n",
        "\n",
        "**🚀 Vantagem**: Conversas longas sem perda de contexto ou sobrecarga de memória."
      ],
      "metadata": {
        "id": "9Kcg8cPQiYtb"
      }
    },
    {
      "cell_type": "code",
      "execution_count": null,
      "metadata": {
        "id": "Ivmuye82I1EY"
      },
      "outputs": [],
      "source": [
        "# Vendo o resumo que a SummaryMemory fez\n",
        "# Como ver as anotações do assistente\n",
        "\n",
        "print(\"RESUMO DA CONVERSA:\")\n",
        "print(\"=\" * 50)\n",
        "\n",
        "# NOVO: Verificar o resumo atual\n",
        "try:\n",
        "    resumo_atual = summary_memory.load_memory_variables({})\n",
        "    if \"history\" in resumo_atual:\n",
        "        print(f\"📝 Resumo:\\n{resumo_atual['history']}\")\n",
        "    else:\n",
        "        print(\"📝 Resumo: Ainda não há resumos\")\n",
        "except Exception as e:\n",
        "    print(f\"❌ Erro ao carregar resumo: {e}\")\n",
        "\n",
        "# Comparando com buffer memory\n",
        "print(\"\\nCOMPARAÇÃO: Buffer vs Summary\")\n",
        "print(\"=\" * 40)\n",
        "\n",
        "# NOVO: Criar buffer memory sem ConversationChain\n",
        "buffer_memory = ConversationBufferMemory()\n",
        "\n",
        "# NOVO: Adicionar mensagens manualmente\n",
        "for mensagem in conversa_longa:\n",
        "    # Simular resposta para salvar no buffer\n",
        "    response = llm.invoke([HumanMessage(content=mensagem)])\n",
        "    buffer_memory.save_context({\"input\": mensagem}, {\"output\": response.content})\n",
        "\n",
        "# NOVO: Comparar tamanhos\n",
        "try:\n",
        "    buffer_vars = buffer_memory.load_memory_variables({})\n",
        "    summary_vars = summary_memory.load_memory_variables({})\n",
        "\n",
        "    buffer_size = len(buffer_vars.get(\"history\", \"\"))\n",
        "    summary_size = len(summary_vars.get(\"history\", \"\"))\n",
        "\n",
        "    print(f\"📊 Buffer Memory (tamanho): {buffer_size} caracteres\")\n",
        "    print(f\"📊 Summary Memory (tamanho): {summary_size} caracteres\")\n",
        "\n",
        "    if buffer_size > 0:\n",
        "        economia = ((buffer_size - summary_size) / buffer_size * 100)\n",
        "        print(f\"📈 Economia: {economia:.1f}% de economia!\")\n",
        "    else:\n",
        "        print(\"📈 Economia: Não é possível calcular\")\n",
        "\n",
        "except Exception as e:\n",
        "    print(f\"❌ Erro na comparação: {e}\")"
      ]
    },
    {
      "cell_type": "markdown",
      "source": [
        "### **📊 Números que Falam - Eficiência em Ação**\n",
        "\n",
        "**Resultados da comparação:**\n",
        "- 📈 **Economia significativa**: Summary é muito mais eficiente\n",
        "- 💾 **Menos armazenamento**: Resumos vs. conversas completas\n",
        "- ⚡ **Melhor performance**: Menos tokens = respostas mais rápidas\n",
        "- 🎯 **Foco no essencial**: Informações importantes preservadas\n",
        "\n",
        "**Insight**: Summary Memory é como ter um assistente que sabe o que anotar, não só um gravador que grava tudo.\n",
        "\n",
        "**🔧 Escolha certa**: Buffer para conversas curtas, Summary para conversas longas."
      ],
      "metadata": {
        "id": "v4V-5k3bigSI"
      }
    },
    {
      "cell_type": "markdown",
      "metadata": {
        "id": "QdRKtJ18I1EY"
      },
      "source": [
        "### **Gostou?**\n",
        "\n",
        "**O que aprendemos sobre SummaryMemory:**\n",
        "\n",
        "1. ✅ **Faz resumos inteligentes** - Como um assistente experiente\n",
        "2. ✅ **Economiza tokens** - Usa menos recursos\n",
        "3. ✅ **Mantém o essencial** - Foco no que importa\n",
        "4. ✅ **Ideal para conversas longas** - Não fica pesado\n",
        "\n",
        "**Quando usar cada tipo:**\n",
        "- **BufferMemory**: Conversas curtas, precisão total\n",
        "- **SummaryMemory**: Conversas longas, eficiência\n",
        "\n",
        "É como escolher entre **gravar tudo** vs **fazer anotações**! 📝"
      ]
    },
    {
      "cell_type": "markdown",
      "metadata": {
        "id": "hKs0uIgrI1EY"
      },
      "source": [
        "## **Aula 4.3: Memory Avançada - Contexto Inteligente**\n",
        "\n",
        "### **EntityMemory - Lembrando de Pessoas e Coisas**\n",
        "\n",
        "EntityMemory é como ter um **CRM inteligente** que lembra de pessoas específicas, suas preferências, informações importantes.\n",
        "\n",
        "**Analogia**: É como a diferença entre:\n",
        "- **Amigo genérico**: Lembra da conversa, mas não de detalhes específicos\n",
        "- **Amigo próximo**: Lembra do seu nome, preferências, aniversário, etc.\n",
        "\n",
        "### **Criando um Sistema de Atendimento Personalizado**\n",
        "\n",
        "Vamos criar um sistema que:\n",
        "1. **Lembra do nome** do cliente\n",
        "2. **Lembra das preferências**\n",
        "3. **Lembra do histórico** de compras\n",
        "4. **Personaliza** as respostas\n",
        "\n",
        "É como ter um **vendedor que conhece cada cliente**!"
      ]
    },
    {
      "cell_type": "code",
      "execution_count": null,
      "metadata": {
        "id": "oOs5qjG0I1EY"
      },
      "outputs": [],
      "source": [
        "# Criando um sistema de atendimento com memory personalizada\n",
        "# Como criar um vendedor que lembra de cada cliente\n",
        "\n",
        "from langchain.memory import ConversationBufferWindowMemory\n",
        "from langchain.prompts import PromptTemplate\n",
        "\n",
        "# Template para atendimento personalizado\n",
        "template_atendimento = PromptTemplate(\n",
        "    input_variables=[\"history\", \"input\"],\n",
        "    template=\"\"\"\n",
        "    Você é um atendente de e-commerce muito atencioso.\n",
        "\n",
        "    HISTÓRICO DA CONVERSA:\n",
        "    {history}\n",
        "\n",
        "    CLIENTE: {input}\n",
        "\n",
        "    INSTRUÇÕES:\n",
        "    - Use o histórico para personalizar sua resposta\n",
        "    - Lembre-se do nome do cliente se mencionado\n",
        "    - Lembre-se das preferências e interesses\n",
        "    - Seja atencioso e prestativo\n",
        "    - Use linguagem informal e amigável\n",
        "    \"\"\"\n",
        ")\n",
        "\n",
        "# Memory que guarda as últimas 5 interações\n",
        "memory_atendimento = ConversationBufferWindowMemory(\n",
        "    k=5,  # Guarda as últimas 5 interações\n",
        "    return_messages=True\n",
        ")\n",
        "\n",
        "# NOVO: Usar operador pipe em vez de LLMChain\n",
        "chain_atendimento = template_atendimento | llm\n",
        "\n",
        "print(\"👨‍💼 Sistema de atendimento personalizado criado!\")\n",
        "print(\"💭 Memory que guarda as últimas 5 interações\")"
      ]
    },
    {
      "cell_type": "markdown",
      "source": [
        "### **👤 Entity Memory - O \"CRM\" da IA**\n",
        "\n",
        "**Problema das memories anteriores**: Lembram da conversa, mas não de **quem** você é.\n",
        "\n",
        "**Solução**: Entity Memory lembra de pessoas, preferências, detalhes específicos.\n",
        "\n",
        "**Casos de uso reais:**\n",
        "- 🏥 **Atendimento médico**: Lembra do histórico do paciente\n",
        "- **E-commerce**: Lembra das preferências do cliente  \n",
        "- **Educação**: Lembra do progresso do aluno\n",
        "- **Consultoria**: Lembra do perfil do cliente\n",
        "\n",
        "**🎯 Resultado**: IA que não só conversa, mas **conhece** você."
      ],
      "metadata": {
        "id": "xlAMIqbCij40"
      }
    },
    {
      "cell_type": "code",
      "execution_count": null,
      "metadata": {
        "id": "2BXjWSGRI1EY"
      },
      "outputs": [],
      "source": [
        "# Testando o sistema de atendimento personalizado\n",
        "# Vamos ver o vendedor lembrando dos clientes\n",
        "\n",
        "print(\"🛍️  TESTE: ATENDIMENTO PERSONALIZADO\")\n",
        "print(\"=\" * 60)\n",
        "\n",
        "# Simulando uma conversa com cliente\n",
        "conversa_cliente = [\n",
        "    \"Olá! Meu nome é Ana e eu gosto muito de tecnologia.\",\n",
        "    \"Estou procurando um smartphone bom para fotos.\",\n",
        "    \"Qual você recomenda?\",\n",
        "    \"Lembra do meu nome e o que eu gosto?\",\n",
        "    \"E o que eu estava procurando mesmo?\"\n",
        "]\n",
        "\n",
        "for i, mensagem in enumerate(conversa_cliente, 1):\n",
        "    print(f\"\\nCliente {i}: {mensagem}\")\n",
        "\n",
        "    try:\n",
        "        # NOVO: Gerenciar memory manualmente\n",
        "\n",
        "        # Carregar histórico da conversa\n",
        "        memory_vars = memory_atendimento.load_memory_variables({})\n",
        "        history = memory_vars.get(\"history\", \"\")\n",
        "\n",
        "        # Enviar para a chain com histórico\n",
        "        response = chain_atendimento.invoke({\n",
        "            \"history\": history,\n",
        "            \"input\": mensagem\n",
        "        })\n",
        "\n",
        "        # Salvar na memory para próxima interação\n",
        "        memory_atendimento.save_context(\n",
        "            {\"input\": mensagem},\n",
        "            {\"output\": response.content}\n",
        "        )\n",
        "\n",
        "        print(f\"👨‍💼 Atendente: {response.content}\")\n",
        "\n",
        "    except Exception as e:\n",
        "        print(f\"❌ Erro: {e}\")\n",
        "\n",
        "    print(\"-\" * 40)"
      ]
    },
    {
      "cell_type": "markdown",
      "source": [
        "### **🛍️ Sistema de Atendimento - Vendedor que Lembra**\n",
        "\n",
        "**Arquitetura inteligente:**\n",
        "- 📝 **Template personalizado**: Instruções específicas para atendimento\n",
        "- **Window Memory**: Lembra das últimas 5 interações\n",
        "- **Chain moderna**: Sintaxe com pipe operator\n",
        "- **Contexto rico**: Histórico sempre disponível\n",
        "\n",
        "**💡 Inovação**: Não é só memory, é um sistema completo de atendimento personalizado.\n",
        "\n",
        "**Próximo nível**: Vamos ver como ele se comporta com clientes reais!"
      ],
      "metadata": {
        "id": "8Ee8gQbzimX1"
      }
    },
    {
      "cell_type": "code",
      "execution_count": null,
      "metadata": {
        "id": "1NmO3StvI1EY"
      },
      "outputs": [],
      "source": [
        "# Vendo o que a memory guardou\n",
        "# Como ver o perfil do cliente\n",
        "\n",
        "print(\"📋 PERFIL DO CLIENTE NA MEMORY:\")\n",
        "print(\"=\" * 50)\n",
        "\n",
        "# NOVO: Verificar as mensagens na memory\n",
        "try:\n",
        "    # Carregar variáveis de memory\n",
        "    memory_vars = memory_atendimento.load_memory_variables({})\n",
        "\n",
        "    if \"history\" in memory_vars:\n",
        "        print(f\"💬 Histórico da conversa:\")\n",
        "        print(f\"{memory_vars['history']}\")\n",
        "    else:\n",
        "        print(\"💬 Memory vazia (ainda não há conversas)\")\n",
        "\n",
        "    # NOVO: Tentar acessar chat_memory se disponível\n",
        "    if hasattr(memory_atendimento, 'chat_memory') and hasattr(memory_atendimento.chat_memory, 'messages'):\n",
        "        mensagens = memory_atendimento.chat_memory.messages\n",
        "        print(f\"\\n Total de mensagens: {len(mensagens)}\")\n",
        "        print(\"\\n Mensagens individuais:\")\n",
        "\n",
        "        for i, msg in enumerate(mensagens, 1):\n",
        "            if hasattr(msg, 'content'):\n",
        "                tipo = \" Cliente\" if \"Human\" in str(type(msg)) else \"👨‍💼 Atendente\"\n",
        "                print(f\"{i}. {tipo}: {msg.content[:100]}...\")\n",
        "    else:\n",
        "        print(\"\\n Mensagens individuais não disponíveis nesta versão\")\n",
        "\n",
        "except Exception as e:\n",
        "    print(f\"❌ Erro ao acessar memory: {e}\")\n",
        "\n",
        "print(\"\\n A memory guardou o perfil completo do cliente!\")\n",
        "print(\" Nome, preferências, interesses e histórico de busca.\")"
      ]
    },
    {
      "cell_type": "markdown",
      "source": [
        "### **🎭 Atendimento Personalizado - O Vendedor Perfeito**\n",
        "\n",
        "**Comportamento observado:**\n",
        "- 👋 **Reconhecimento**: Lembra do nome \"Ana\"\n",
        "- 🎯 **Preferências**: Lembra do interesse em tecnologia\n",
        "- **Contexto**: Lembra da busca por smartphone\n",
        "- **Conversa natural**: Como um vendedor experiente\n",
        "\n",
        "**Diferença**: Não é um chatbot genérico, é um **assistente que realmente te conhece**.\n",
        "\n",
        "**🔮 Aplicação real**: Sistemas de suporte, e-commerce, consultoria - qualquer lugar onde personalização importa."
      ],
      "metadata": {
        "id": "KllQ1vQMiq6X"
      }
    },
    {
      "cell_type": "markdown",
      "metadata": {
        "id": "OWRhgG4oI1EY"
      },
      "source": [
        "### **Sistema de Chatbot com Memory Completo**\n",
        "\n",
        "Agora vamos criar um **chatbot mais avançado** que combina diferentes tipos de memory. É como ter um **assistente pessoal inteligente**!"
      ]
    },
    {
      "cell_type": "code",
      "execution_count": null,
      "metadata": {
        "id": "HcC8BGVAI1EZ"
      },
      "outputs": [],
      "source": [
        "# Criando um chatbot avançado com memory\n",
        "# Como criar um assistente pessoal inteligente\n",
        "\n",
        "from langchain.memory import ConversationSummaryBufferMemory\n",
        "\n",
        "# Memory híbrida: combina buffer e summary\n",
        "memory_avancada = ConversationSummaryBufferMemory(\n",
        "    llm=llm,\n",
        "    max_token_limit=2000,  # Limite maior para conversas mais longas\n",
        "    return_messages=True\n",
        ")\n",
        "\n",
        "# Template para assistente pessoal\n",
        "template_assistente = PromptTemplate(\n",
        "    input_variables=[\"history\", \"input\"],\n",
        "    template=\"\"\"\n",
        "    Você é o Pedro, um assistente pessoal descontraído e útil.\n",
        "\n",
        "    HISTÓRICO DA CONVERSA:\n",
        "    {history}\n",
        "\n",
        "    USUÁRIO: {input}\n",
        "\n",
        "    INSTRUÇÕES:\n",
        "    - Use o histórico para personalizar suas respostas\n",
        "    - Lembre-se de informações importantes sobre o usuário\n",
        "    - Seja descontraído, use analogias e piadas leves\n",
        "    - Fale como o Pedro Guth\n",
        "    - Seja útil e prestativo\n",
        "    \"\"\"\n",
        ")\n",
        "\n",
        "# NOVO: Usar operador pipe em vez de LLMChain\n",
        "chain_assistente = template_assistente | llm\n",
        "\n",
        "print(\"Assistente pessoal Pedro criado!\")\n",
        "print(\"🧠 Memory híbrida: combina buffer e summary\")\n",
        "print(\"💡 Lembra de tudo e faz resumos quando necessário\")"
      ]
    },
    {
      "cell_type": "code",
      "execution_count": null,
      "metadata": {
        "id": "ddOwY6uOI1EZ"
      },
      "outputs": [],
      "source": [
        "# Testando o assistente pessoal\n",
        "# Vamos ver o Pedro em ação!\n",
        "\n",
        "print(\"🤖 TESTE: ASSISTENTE PESSOAL PEDRO\")\n",
        "print(\"=\" * 60)\n",
        "\n",
        "# Conversa com o assistente\n",
        "conversa_assistente = [\n",
        "    \"Oi Pedro! Meu nome é Carlos e eu sou programador.\",\n",
        "    \"Eu trabalho com Python e JavaScript, mas quero aprender mais sobre IA.\",\n",
        "    \"Você pode me ajudar com isso?\",\n",
        "    \"Lembra do meu nome e o que eu faço?\",\n",
        "    \"E o que eu quero aprender?\",\n",
        "    \"Pode me dar algumas dicas de como começar com IA?\",\n",
        "    \"Obrigado! Você é muito útil.\",\n",
        "    \"Lembra de tudo que conversamos?\"\n",
        "]\n",
        "\n",
        "for i, mensagem in enumerate(conversa_assistente, 1):\n",
        "    print(f\"\\n👤 Carlos {i}: {mensagem}\")\n",
        "\n",
        "    try:\n",
        "        # NOVO: Gerenciar memory manualmente\n",
        "\n",
        "        # Carregar histórico da conversa\n",
        "        memory_vars = memory_avancada.load_memory_variables({})\n",
        "        history = memory_vars.get(\"history\", \"\")\n",
        "\n",
        "        # Enviar para a chain com histórico\n",
        "        response = chain_assistente.invoke({\n",
        "            \"history\": history,\n",
        "            \"input\": mensagem\n",
        "        })\n",
        "\n",
        "        # Salvar na memory para próxima interação\n",
        "        memory_avancada.save_context(\n",
        "            {\"input\": mensagem},\n",
        "            {\"output\": response.content}\n",
        "        )\n",
        "\n",
        "        print(f\"🤖 Pedro: {response.content}\")\n",
        "\n",
        "    except Exception as e:\n",
        "        print(f\"❌ Erro: {e}\")\n",
        "\n",
        "    print(\"-\" * 40)"
      ]
    },
    {
      "cell_type": "markdown",
      "source": [
        "### **Personalidade em Ação - O Pedro Digital**\n",
        "\n",
        "**Comportamento observado:**\n",
        "- **Memória perfeita**: Lembra de tudo sobre Carlos\n",
        "- 🎭 **Tom consistente**: Sempre fala como o Pedro\n",
        "- **Contexto rico**: Usa histórico para personalizar respostas\n",
        "- **Útil e divertido**: Combina funcionalidade com personalidade\n",
        "\n",
        "**💡 Breakthrough**: A IA não é mais um \"oráculo\", é um **companheiro digital** com personalidade própria.\n",
        "\n",
        "**🔮 Futuro**: Assistentes que não só ajudam, mas que você gosta de conversar."
      ],
      "metadata": {
        "id": "c9kaCQ8riyrZ"
      }
    },
    {
      "cell_type": "code",
      "execution_count": null,
      "metadata": {
        "id": "MNgWYRjOI1EZ"
      },
      "outputs": [],
      "source": [
        "# Vendo o resumo da conversa\n",
        "# Como ver as anotações do assistente\n",
        "\n",
        "print(\"RESUMO DA CONVERSA COM PEDRO:\")\n",
        "print(\"=\" * 50)\n",
        "\n",
        "# NOVO: Verificar o buffer atual\n",
        "try:\n",
        "    # Carregar variáveis de memory\n",
        "    memory_vars = memory_avancada.load_memory_variables({})\n",
        "\n",
        "    if \"history\" in memory_vars:\n",
        "        print(f\"Histórico atual:\\n{memory_vars['history']}\")\n",
        "    else:\n",
        "        print(\"🧠 Buffer vazio (ainda não há conversas)\")\n",
        "\n",
        "    # NOVO: Tentar acessar resumo se disponível\n",
        "    if hasattr(memory_avancada, 'moving_summary_buffer') and memory_avancada.moving_summary_buffer:\n",
        "        print(f\"\\n📝 Resumo:\\n{memory_avancada.moving_summary_buffer}\")\n",
        "    else:\n",
        "        print(\"\\n📝 Resumo: Ainda não foi criado\")\n",
        "\n",
        "    # NOVO: Tentar acessar buffer se disponível\n",
        "    if hasattr(memory_avancada, 'buffer'):\n",
        "        print(f\"\\n Buffer interno:\\n{memory_avancada.buffer}\")\n",
        "    else:\n",
        "        print(\"\\n💾 Buffer interno: Não disponível nesta versão\")\n",
        "\n",
        "except Exception as e:\n",
        "    print(f\"❌ Erro ao acessar memory: {e}\")\n",
        "\n",
        "print(\"\\nO assistente Pedro lembra de tudo e faz resumos quando necessário!\")\n",
        "print(\"Perfil completo do usuário mantido na memory.\")"
      ]
    },
    {
      "cell_type": "markdown",
      "metadata": {
        "id": "MVm_3izfI1EZ"
      },
      "source": [
        "### **Na Prática, Meu Consagrado!** 💪\n",
        "\n",
        "**O que aprendemos sobre Memory:**\n",
        "\n",
        "1. ✅ **ConversationBufferMemory** - Lembra de tudo (vó com boa memória)\n",
        "2. ✅ **ConversationSummaryMemory** - Faz resumos (assistente que anota)\n",
        "3. ✅ **ConversationBufferWindowMemory** - Lembra das últimas N interações\n",
        "4. ✅ **ConversationSummaryBufferMemory** - Combina buffer e summary\n",
        "5. ✅ **Sistemas personalizados** - Atendimento e assistentes inteligentes\n",
        "\n",
        "### **Comparação: Com vs Sem LangChain**\n",
        "\n",
        "**Sem LangChain (código manual):**\n",
        "```python\n",
        "# Você teria que fazer isso manualmente:\n",
        "class Chatbot:\n",
        "    def __init__(self):\n",
        "        self.conversation_history = []\n",
        "        \n",
        "    def chat(self, message):\n",
        "        # Adicionar à história\n",
        "        self.conversation_history.append({\"user\": message})\n",
        "        \n",
        "        # Criar contexto\n",
        "        context = self.create_context()\n",
        "        \n",
        "        # Enviar para IA\n",
        "        response = self.call_ai(context + message)\n",
        "        \n",
        "        # Adicionar resposta\n",
        "        self.conversation_history.append({\"ai\": response})\n",
        "        \n",
        "        return response\n",
        "    \n",
        "    def create_context(self):\n",
        "        # Implementar lógica de contexto...\n",
        "        pass\n",
        "```\n",
        "\n",
        "**Com LangChain:**\n",
        "```python\n",
        "# Tudo isso em algumas linhas:\n",
        "\n",
        "memory = ConversationBufferMemory()\n",
        "\n",
        "# 1. Salvar contexto na memory\n",
        "memory.save_context({\"input\": message}, {\"output\": \"resposta_do_llm\"})\n",
        "\n",
        "# 2. Carregar histórico quando necessário\n",
        "memory_vars = memory.load_memory_variables({})\n",
        "history = memory_vars.get(\"history\", \"\")\n",
        "\n",
        "# 3. Enviar para o LLM com contexto\n",
        "response = llm.invoke([HumanMessage(content=f\"Histórico: {history}\\n\\nPergunta: {message}\")])\n",
        "\n",
        "# 4. Salvar nova interação\n",
        "memory.save_context({\"input\": message}, {\"output\": response.content})\n",
        "```\n",
        "\n",
        "**Diferença**: Código mais limpo, funcionalidades avançadas prontas!\n",
        "\n",
        "---\n",
        "\n",
        "### **Desafio para Casa** 🏠\n",
        "\n",
        "Crie um **sistema de tutor de idiomas** que:\n",
        "1. **Lembra do nível** do aluno (iniciante, intermediário, avançado)\n",
        "2. **Lembra dos erros** comuns que o aluno faz\n",
        "3. **Adapta as explicações** ao nível do aluno\n",
        "4. **Faz resumos** do progresso\n",
        "\n",
        "**Dica**: Use ConversationSummaryBufferMemory com prompts personalizados!\n",
        "\n",
        "<img src='https://media.geeksforgeeks.org/wp-content/uploads/20250827150101394423/types_of_memory_in_langchain.webp' width='1200'>\n",
        "\n",
        "\n",
        "**🎯 Próximo módulo**: Vamos aprender sobre **Agents** - os funcionários inteligentes que podem usar ferramentas!\n",
        "\n",
        "---\n",
        "\n",
        "**💡 Resumo do Módulo 4**:\n",
        "- ✅ Memory básica (BufferMemory)\n",
        "- ✅ Memory inteligente (SummaryMemory)\n",
        "- ✅ Memory avançada (Window, SummaryBuffer)\n",
        "- ✅ Sistemas personalizados\n",
        "- ✅ Chatbots com contexto\n",
        "\n",
        "**🧠 Agora você sabe fazer a IA lembrar como um amigo!**"
      ]
    }
  ],
  "metadata": {
    "kernelspec": {
      "display_name": "Python 3",
      "language": "python",
      "name": "python3"
    },
    "language_info": {
      "codemirror_mode": {
        "name": "ipython",
        "version": 3
      },
      "file_extension": ".py",
      "mimetype": "text/x-python",
      "name": "python",
      "nbconvert_exporter": "python",
      "pygments_lexer": "ipython3",
      "version": "3.8.5"
    },
    "colab": {
      "name": "04_memory",
      "private_outputs": true,
      "provenance": []
    }
  },
  "nbformat": 4,
  "nbformat_minor": 0
}