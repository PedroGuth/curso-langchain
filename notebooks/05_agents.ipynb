{
  "cells": [
    {
      "cell_type": "markdown",
      "metadata": {
        "id": "w6bjv4GORCny"
      },
      "source": [
        "# 🤖 **Módulo 5: Agents - Os Funcionários Inteligentes**\n",
        "\n",
        "## **Aula 5.1: Agents Básicos - Delegando Tarefas**\n",
        "\n",
        "---\n",
        "\n",
        "### **Tá, mas o que são Agents?**\n",
        "\n",
        "Imagina que você é um **chefe de uma empresa** e tem funcionários especializados:\n",
        "\n",
        "**Sem Agents**: Você tem que fazer tudo sozinho - pesquisar, calcular, escrever, analisar...\n",
        "**Com Agents**: Você delega para funcionários especializados que sabem usar ferramentas!\n",
        "\n",
        "**Agent** = IA que pode **tomar decisões** e **usar ferramentas** para completar tarefas.\n",
        "\n",
        "### **Por que Agents são Poderosos?**\n",
        "\n",
        "**Sem Agents**: IA só conversa, não pode fazer ações\n",
        "**Com Agents**: IA pode pesquisar, calcular, executar código, etc.\n",
        "\n",
        "É como a diferença entre **conversar com alguém** e **ter um assistente que pode usar computador, calculadora, internet...**\n",
        "\n",
        "---\n",
        "\n",
        "<img src=\"https://www.shutterstock.com/image-photo/delegation-concept-figurine-boss-employees-600nw-2444400673.jpg\" img>"
      ]
    },
    {
      "cell_type": "markdown",
      "metadata": {
        "id": "_b9HkWqqRCn0"
      },
      "source": [
        "### **Setup Inicial - Preparando o Terreno**"
      ]
    },
    {
      "cell_type": "code",
      "execution_count": null,
      "metadata": {
        "id": "dbQu_GQkRCn0"
      },
      "outputs": [],
      "source": [
        "# Coloque aqui os módulos e bibliotecas :)"
      ]
    },
    {
      "cell_type": "code",
      "source": [
        "# Coloque aqui a célula universal de API :)"
      ],
      "metadata": {
        "id": "oASZtHWMa3CG"
      },
      "execution_count": null,
      "outputs": []
    },
    {
      "cell_type": "markdown",
      "source": [
        "### **�� Setup Completo - Tudo Configurado para Funcionar**\n",
        "\n",
        "**O que acabamos de configurar:**\n",
        "- ✅ **Bibliotecas importadas**: Todas as ferramentas necessárias para agents\n",
        "- ✅ **API configurada**: Modelo GPT-3.5-turbo funcionando\n",
        "- ✅ **Ferramentas básicas**: Search tool pronta para uso\n",
        "- ✅ **Memory configurado**: Para lembrar das conversas\n",
        "\n",
        "**💡 Importante**: O `temperature=0.7` significa que o agente será criativo mas não muito aleatório. É como ter um funcionário inteligente que pensa antes de agir!\n",
        "\n",
        "**�� Próximo passo**: Vamos criar nossa primeira ferramenta e ver o agente em ação!"
      ],
      "metadata": {
        "id": "TydBrBeTg3h9"
      }
    },
    {
      "cell_type": "markdown",
      "metadata": {
        "id": "D0CajMEsRCn1"
      },
      "source": [
        "### **Criando Nossa Primeira Ferramenta**\n",
        "\n",
        "Vamos criar um **agente de pesquisa** que pode buscar informações na internet:"
      ]
    },
    {
      "cell_type": "code",
      "execution_count": null,
      "metadata": {
        "id": "WW-9TQxURCn1"
      },
      "outputs": [],
      "source": [
        "# Criando ferramenta de pesquisa\n",
        "# Como dar uma calculadora para o funcionário\n",
        "\n",
        "from langchain_community.tools import DuckDuckGoSearchRun\n",
        "from langchain.tools import Tool\n",
        "from langchain.agents import create_openai_functions_agent, AgentExecutor\n",
        "from langchain.memory import ConversationBufferMemory\n",
        "from langchain.prompts import ChatPromptTemplate, MessagesPlaceholder\n",
        "\n",
        "# Ferramenta de pesquisa\n",
        "search_tool = DuckDuckGoSearchRun()\n",
        "\n",
        "# Criar ferramentas com descrição\n",
        "tools = [\n",
        "    Tool(\n",
        "        name=\"Pesquisa na Internet\",\n",
        "        func=search_tool.run,\n",
        "        description=\"Use para buscar informações atualizadas na internet\"\n",
        "    )\n",
        "]\n",
        "\n",
        "# Memory para o agente\n",
        "memory = ConversationBufferMemory(\n",
        "    memory_key=\"chat_history\",\n",
        "    return_messages=True\n",
        ")\n",
        "\n",
        "# Template para o agente\n",
        "prompt = ChatPromptTemplate.from_messages([\n",
        "    (\"system\", \"Você é um assistente útil que pode pesquisar na internet.\"),\n",
        "    MessagesPlaceholder(variable_name=\"chat_history\"),\n",
        "    (\"human\", \"{input}\"),\n",
        "    MessagesPlaceholder(variable_name=\"agent_scratchpad\"),\n",
        "])\n",
        "\n",
        "# NOVO: Criar agente com sintaxe moderna\n",
        "agent = create_openai_functions_agent(llm, tools, prompt)\n",
        "\n",
        "# NOVO: Executor do agente\n",
        "agent_executor = AgentExecutor(\n",
        "    agent=agent,\n",
        "    tools=tools,\n",
        "    memory=memory,\n",
        "    verbose=True\n",
        ")\n",
        "\n",
        "print(\"Agente de pesquisa criado!\")\n",
        "print(\"🌐 Pode buscar informações na internet\")"
      ]
    },
    {
      "cell_type": "markdown",
      "source": [
        "### **🔍 Entendendo o Código - Peça por Peça**\n",
        "\n",
        "**O que cada parte faz:**\n",
        "\n",
        "1. **Tool Creation**:\n",
        "   - `Tool(name=\"Pesquisa na Internet\", ...)` - Cria uma ferramenta com nome e descrição\n",
        "   - É como dar um nome e instruções para uma ferramenta\n",
        "\n",
        "2. **Memory Setup**:\n",
        "   - `ConversationBufferMemory` - Lembra de tudo que foi dito\n",
        "   - Como um gravador que nunca para\n",
        "\n",
        "3. **Prompt Template**:\n",
        "   - Define como o agente deve se comportar\n",
        "   - É como dar um manual de instruções para o funcionário\n",
        "\n",
        "4. **Agent Creation**:\n",
        "   - `create_openai_functions_agent` - Cria o agente com sintaxe moderna\n",
        "   - Mais limpo que o método antigo\n",
        "\n",
        "**💡 Dica**: A sintaxe `|` (pipe) é mais moderna, mas aqui usamos o método tradicional para clareza!"
      ],
      "metadata": {
        "id": "07lwmn9ag8po"
      }
    },
    {
      "cell_type": "code",
      "execution_count": null,
      "metadata": {
        "id": "AF7lXheeRCn1"
      },
      "outputs": [],
      "source": [
        "# Testando o agente de pesquisa\n",
        "# Vamos ver ele pesquisando!\n",
        "\n",
        "print(\"TESTE: AGENTE DE PESQUISA\")\n",
        "print(\"=\" * 50)\n",
        "\n",
        "perguntas = [\n",
        "    \"Qual é a capital do Brasil?\",\n",
        "    \"Quem é o presidente atual do Brasil?\",\n",
        "    \"Qual a população de São Paulo?\"\n",
        "]\n",
        "\n",
        "for i, pergunta in enumerate(perguntas, 1):\n",
        "    print(f\"\\n❓ Pergunta {i}: {pergunta}\")\n",
        "\n",
        "    try:\n",
        "        # NOVO: Usar agent_executor.invoke() em vez de agent.run()\n",
        "        resposta = agent_executor.invoke({\"input\": pergunta})\n",
        "\n",
        "        # NOVO: Acessar o conteúdo da resposta\n",
        "        print(f\"🤖 Resposta: {resposta['output'][:200]}...\")\n",
        "\n",
        "    except Exception as e:\n",
        "        print(f\"❌ Erro: {e}\")\n",
        "\n",
        "    print(\"-\" * 40)"
      ]
    },
    {
      "cell_type": "markdown",
      "source": [
        "### **�� Análise dos Resultados - O que Aconteceu?**\n",
        "\n",
        "**O que o agente fez:**\n",
        "- ✅ **Pesquisou na internet** usando DuckDuckGo\n",
        "- ✅ **Processou as informações** encontradas\n",
        "- ✅ **Respondeu de forma contextualizada** baseada nos dados reais\n",
        "- ✅ **Manteve o histórico** das conversas\n",
        "\n",
        "**Por que é impressionante:**\n",
        "- 🧠 **Tomou decisões**: Escolheu usar a ferramenta de pesquisa\n",
        "- 🔍 **Executou ações**: Realmente buscou na internet\n",
        "- 💭 **Processou resultados**: Não só copiou, mas interpretou\n",
        "- 📝 **Respondeu naturalmente**: Como um assistente humano\n",
        "\n",
        "**💡 Diferença para ChatGPT**: ChatGPT só \"sabe\" o que foi treinado. Este agente pode buscar informações **ATUALIZADAS**!"
      ],
      "metadata": {
        "id": "Fl-GfUY1hBgI"
      }
    },
    {
      "cell_type": "markdown",
      "metadata": {
        "id": "wMqBAkSYRCn1"
      },
      "source": [
        "## **Aula 5.2: Ferramentas Customizadas - Swiss Army Knife da IA**\n",
        "\n",
        "### **Criando Ferramentas Personalizadas**\n",
        "\n",
        "Vamos criar ferramentas customizadas. É como dar **ferramentas específicas** para cada funcionário:"
      ]
    },
    {
      "cell_type": "code",
      "execution_count": null,
      "metadata": {
        "id": "jq3cZz6ORCn2"
      },
      "outputs": [],
      "source": [
        "# Criando ferramentas customizadas\n",
        "# Como dar ferramentas específicas para cada tarefa\n",
        "\n",
        "from langchain.tools import BaseTool\n",
        "from typing import Optional\n",
        "import math\n",
        "\n",
        "# Ferramenta de cálculo\n",
        "class CalculadoraTool(BaseTool):\n",
        "    name = \"calculadora\"\n",
        "    description = \"Use para fazer cálculos matemáticos\"\n",
        "\n",
        "    def _run(self, query: str) -> str:\n",
        "        try:\n",
        "            # Avalia expressão matemática com segurança\n",
        "            allowed_names = {\n",
        "                'abs': abs, 'round': round, 'min': min, 'max': max,\n",
        "                'sum': sum, 'pow': pow, 'sqrt': math.sqrt\n",
        "            }\n",
        "            result = eval(query, {\"__builtins__\": {}}, allowed_names)\n",
        "            return f\"Resultado: {result}\"\n",
        "        except Exception as e:\n",
        "            return f\"Erro no cálculo: {e}\"\n",
        "\n",
        "# Ferramenta de análise de texto\n",
        "class AnalisadorTextoTool(BaseTool):\n",
        "    name = \"analisador_texto\"\n",
        "    description = \"Use para analisar textos (contar palavras, caracteres, etc.)\"\n",
        "\n",
        "    def _run(self, texto: str) -> str:\n",
        "        palavras = len(texto.split())\n",
        "        caracteres = len(texto)\n",
        "        linhas = len(texto.split('\\n'))\n",
        "\n",
        "        return f\"Análise do texto:\\n- Palavras: {palavras}\\n- Caracteres: {caracteres}\\n- Linhas: {linhas}\"\n",
        "\n",
        "print(\"🔧 Ferramentas customizadas criadas!\")\n",
        "print(\"🧮 Calculadora e Analisador de Texto prontos\")"
      ]
    },
    {
      "cell_type": "markdown",
      "source": [
        "### **🛠️ Ferramentas Customizadas - Por que são Poderosas?**\n",
        "\n",
        "**O que criamos:**\n",
        "\n",
        "1. **CalculadoraTool**:\n",
        "   - ✅ Faz cálculos matemáticos complexos\n",
        "   - ✅ Segura (não executa código malicioso)\n",
        "   - ✅ Pode usar funções como sqrt, pow, etc.\n",
        "\n",
        "2. **AnalisadorTextoTool**:\n",
        "   - ✅ Conta palavras, caracteres, linhas\n",
        "   - ✅ Análise rápida de qualquer texto\n",
        "   - ✅ Útil para relatórios e documentação\n",
        "\n",
        "**Por que customizar ferramentas:**\n",
        "- �� **Específicas para sua necessidade**: Não depende de ferramentas genéricas\n",
        "- ⚡ **Mais rápidas**: Otimizadas para tarefas específicas\n",
        "- 🔒 **Mais seguras**: Você controla o que pode fazer\n",
        "- �� **Mais precisas**: Resultados exatos para suas necessidades\n",
        "\n",
        "**�� Analogia**: É como ter ferramentas específicas para cada trabalho em vez de uma chave de fenda universal!"
      ],
      "metadata": {
        "id": "yDEHuPSehF5A"
      }
    },
    {
      "cell_type": "code",
      "execution_count": null,
      "metadata": {
        "id": "axaoyXApRCn2"
      },
      "outputs": [],
      "source": [
        "# Criando agente com ferramentas customizadas\n",
        "# Como montar uma equipe completa\n",
        "\n",
        "tools_avancadas = [\n",
        "    Tool(\n",
        "        name=\"Pesquisa na Internet\",\n",
        "        func=search_tool.run,\n",
        "        description=\"Use para buscar informações atualizadas\"\n",
        "    ),\n",
        "    Tool(\n",
        "        name=\"Calculadora\",\n",
        "        func=CalculadoraTool()._run,\n",
        "        description=\"Use para fazer cálculos matemáticos\"\n",
        "    ),\n",
        "    Tool(\n",
        "        name=\"Analisador de Texto\",\n",
        "        func=AnalisadorTextoTool()._run,\n",
        "        description=\"Use para analisar textos\"\n",
        "    )\n",
        "]\n",
        "\n",
        "# NOVO: Criar agente com sintaxe moderna\n",
        "from langchain.agents import create_openai_functions_agent, AgentExecutor\n",
        "from langchain.prompts import ChatPromptTemplate, MessagesPlaceholder\n",
        "\n",
        "# Template para o agente avançado\n",
        "prompt_avancado = ChatPromptTemplate.from_messages([\n",
        "    (\"system\", \"Você é um assistente inteligente que pode pesquisar, calcular e analisar textos. Use as ferramentas disponíveis quando necessário.\"),\n",
        "    MessagesPlaceholder(variable_name=\"chat_history\"),\n",
        "    (\"human\", \"{input}\"),\n",
        "    MessagesPlaceholder(variable_name=\"agent_scratchpad\"),\n",
        "])\n",
        "\n",
        "# NOVO: Criar agente com sintaxe moderna\n",
        "agent_avancado = create_openai_functions_agent(llm, tools_avancadas, prompt_avancado)\n",
        "\n",
        "# NOVO: Executor do agente\n",
        "agent_executor_avancado = AgentExecutor(\n",
        "    agent=agent_avancado,\n",
        "    tools=tools_avancadas,\n",
        "    memory=ConversationBufferMemory(memory_key=\"chat_history\", return_messages=True),\n",
        "    verbose=True\n",
        ")\n",
        "\n",
        "print(\"🤖 Agente avançado criado!\")\n",
        "print(\"🛠️  Pode pesquisar, calcular e analisar textos\")"
      ]
    },
    {
      "cell_type": "markdown",
      "source": [
        "### **🤖 Agente Avançado - A Equipe Completa**\n",
        "\n",
        "**O que temos agora:**\n",
        "- 🔍 **Pesquisador**: Busca informações na internet\n",
        "- 🧮 **Matemático**: Faz cálculos complexos\n",
        "- �� **Analista**: Analisa textos e dados\n",
        "- 🧠 **Coordenador**: Decide qual ferramenta usar\n",
        "\n",
        "**Como funciona a tomada de decisão:**\n",
        "1. **Recebe a pergunta** do usuário\n",
        "2. **Analisa o que precisa** fazer\n",
        "3. **Escolhe a ferramenta** mais adequada\n",
        "4. **Executa a tarefa** usando a ferramenta\n",
        "5. **Processa o resultado** e responde\n",
        "\n",
        "**�� Exemplo**: Se você perguntar \"Quantas pessoas vivem em São Paulo e qual a densidade populacional?\", o agente vai:\n",
        "- Usar a ferramenta de pesquisa para buscar a população\n",
        "- Usar a calculadora para calcular a densidade\n",
        "- Combinar tudo em uma resposta coerente!"
      ],
      "metadata": {
        "id": "LJ9pGYzGhIQh"
      }
    },
    {
      "cell_type": "code",
      "execution_count": null,
      "metadata": {
        "id": "hS1YF7wsRCn2"
      },
      "outputs": [],
      "source": [
        "# Testando o agente avançado\n",
        "# Vamos ver ele usando todas as ferramentas!\n",
        "\n",
        "print(\"TESTE: AGENTE AVANÇADO\")\n",
        "print(\"=\" * 50)\n",
        "\n",
        "tarefas = [\n",
        "    \"Pesquise sobre a população do Brasil e calcule quantas pessoas isso representa por km²\",\n",
        "    \"Analise este texto: 'Python é uma linguagem de programação incrível para iniciantes.'\",\n",
        "    \"Calcule a raiz quadrada de 144 e depois pesquise sobre o número 12 na matemática\"\n",
        "]\n",
        "\n",
        "for i, tarefa in enumerate(tarefas, 1):\n",
        "    print(f\"\\n📋 Tarefa {i}: {tarefa}\")\n",
        "\n",
        "    try:\n",
        "        # NOVO: Usar agent_executor_avancado.invoke() em vez de agent_avancado.run()\n",
        "        resultado = agent_executor_avancado.invoke({\"input\": tarefa})\n",
        "\n",
        "        # NOVO: Acessar o conteúdo da resposta\n",
        "        print(f\"Resultado: {resultado['output'][:300]}...\")\n",
        "\n",
        "    except Exception as e:\n",
        "        print(f\"❌ Erro: {e}\")\n",
        "\n",
        "    print(\"-\" * 40)"
      ]
    },
    {
      "cell_type": "markdown",
      "source": [
        "### **🎯 Análise das Tarefas Complexas - O Poder dos Agents**\n",
        "\n",
        "**Tarefa 1**: \"Pesquise sobre a população do Brasil e calcule quantas pessoas isso representa por km²\"\n",
        "- 🧠 **Decisão**: Precisa pesquisar E calcular\n",
        "- 🔍 **Ação 1**: Usa ferramenta de pesquisa para população e área\n",
        "- 🧮 **Ação 2**: Usa calculadora para divisão\n",
        "- �� **Resultado**: Resposta completa e precisa\n",
        "\n",
        "**Tarefa 2**: \"Analise este texto: 'Python é uma linguagem de programação incrível para iniciantes.'\"\n",
        "- 🧠 **Decisão**: Análise de texto simples\n",
        "- �� **Ação**: Usa analisador de texto\n",
        "- �� **Resultado**: Estatísticas do texto\n",
        "\n",
        "**Tarefa 3**: \"Calcule a raiz quadrada de 144 e depois pesquise sobre o número 12 na matemática\"\n",
        "- 🧠 **Decisão**: Cálculo + pesquisa\n",
        "- �� **Ação 1**: Calculadora para raiz quadrada\n",
        "- 🔍 **Ação 2**: Pesquisa sobre o número 12\n",
        "- 🔗 **Resultado**: Informações conectadas e contextualizadas\n",
        "\n",
        "**💡 O que torna isso incrível**: O agente **entende** o que você quer e **coordena** múltiplas ferramentas automaticamente!"
      ],
      "metadata": {
        "id": "P34a8ps2haq3"
      }
    },
    {
      "cell_type": "markdown",
      "metadata": {
        "id": "QXQHXi9KRCn2"
      },
      "source": [
        "## **Aula 5.3: Agente Financeiro - Tomada de Decisão Inteligente**\n",
        "\n",
        "### **Criando um Agente Especializado**\n",
        "\n",
        "Vamos criar um **agente financeiro** que pode analisar investimentos e dar conselhos:"
      ]
    },
    {
      "cell_type": "code",
      "execution_count": null,
      "metadata": {
        "id": "Y_kRM6SpRCn3"
      },
      "outputs": [],
      "source": [
        "# Ferramenta de análise financeira\n",
        "class AnaliseFinanceiraTool(BaseTool):\n",
        "    name = \"analise_financeira\"\n",
        "    description = \"Use para analisar investimentos e dar conselhos financeiros\"\n",
        "\n",
        "    def _run(self, pergunta: str) -> str:\n",
        "        # Simulação de análise financeira\n",
        "        if \"cdb\" in pergunta.lower():\n",
        "            return \"CDB é um investimento de renda fixa seguro. Rentabilidade: 100-110% do CDI. Ideal para conservadores.\"\n",
        "        elif \"ações\" in pergunta.lower():\n",
        "            return \"Ações são investimentos de renda variável. Maior risco, maior potencial de retorno. Ideal para arrojados.\"\n",
        "        elif \"tesouro\" in pergunta.lower():\n",
        "            return \"Tesouro Direto é o investimento mais seguro do Brasil. Garantido pelo governo federal.\"\n",
        "        else:\n",
        "            return \"Para investimentos, considere seu perfil de risco e objetivos. Diversificação é fundamental.\"\n",
        "\n",
        "# Ferramenta de cálculo de juros compostos\n",
        "class JurosCompostosTool(BaseTool):\n",
        "    name = \"juros_compostos\"\n",
        "    description = \"Use para calcular juros compostos e projeções financeiras\"\n",
        "\n",
        "    def _run(self, query: str) -> str:\n",
        "        try:\n",
        "            # Exemplo: calcular juros compostos\n",
        "            if \"calcular\" in query.lower():\n",
        "                # Simulação simples\n",
        "                principal = 1000\n",
        "                taxa = 0.01  # 1% ao mês\n",
        "                tempo = 12   # 12 meses\n",
        "\n",
        "                montante = principal * (1 + taxa) ** tempo\n",
        "                return f\"Investimento de R$ {principal} por {tempo} meses a {taxa*100}% ao mês = R$ {montante:.2f}\"\n",
        "            else:\n",
        "                return \"Use 'calcular' para fazer projeções financeiras\"\n",
        "        except:\n",
        "            return \"Erro no cálculo financeiro\"\n",
        "\n",
        "print(\"💰 Ferramentas financeiras criadas!\")\n",
        "print(\"📊 Análise financeira e cálculos de juros compostos\")"
      ]
    },
    {
      "cell_type": "markdown",
      "source": [
        "### **💰 Ferramentas Financeiras - Especialização Inteligente**\n",
        "\n",
        "**O que criamos:**\n",
        "\n",
        "1. **AnaliseFinanceiraTool**:\n",
        "   - ✅ Conhece diferentes tipos de investimentos\n",
        "   - ✅ Dá conselhos baseados no perfil de risco\n",
        "   - ✅ Explica conceitos financeiros de forma simples\n",
        "\n",
        "2. **JurosCompostosTool**:\n",
        "   - ✅ Calcula projeções financeiras\n",
        "   - ✅ Mostra o poder dos juros compostos\n",
        "   - ✅ Ajuda no planejamento financeiro\n",
        "\n",
        "**Por que especialização é importante:**\n",
        "- 🎯 **Conhecimento profundo**: Não é um \"faz-tudo\", é um especialista\n",
        "- �� **Conselhos precisos**: Baseado em conhecimento financeiro real\n",
        "- 📊 **Cálculos corretos**: Matemática financeira precisa\n",
        "- 🚀 **Eficiência**: Não perde tempo com ferramentas inadequadas\n",
        "\n",
        "**�� Analogia**: É como ter um consultor financeiro especializado em vez de um assistente geral que \"sabe um pouco de tudo\"!"
      ],
      "metadata": {
        "id": "nLKtF0K6heKQ"
      }
    },
    {
      "cell_type": "code",
      "execution_count": null,
      "metadata": {
        "id": "vPyxQ7pVRCn3"
      },
      "outputs": [],
      "source": [
        "# Criando agente financeiro\n",
        "# Como contratar um consultor financeiro inteligente\n",
        "\n",
        "tools_financeiras = [\n",
        "    Tool(\n",
        "        name=\"Pesquisa Financeira\",\n",
        "        func=search_tool.run,\n",
        "        description=\"Use para buscar informações sobre investimentos e mercado financeiro\"\n",
        "    ),\n",
        "    Tool(\n",
        "        name=\"Análise Financeira\",\n",
        "        func=AnaliseFinanceiraTool()._run,\n",
        "        description=\"Use para analisar investimentos e dar conselhos\"\n",
        "    ),\n",
        "    Tool(\n",
        "        name=\"Cálculo Financeiro\",\n",
        "        func=JurosCompostosTool()._run,\n",
        "        description=\"Use para calcular juros compostos e projeções\"\n",
        "    )\n",
        "]\n",
        "\n",
        "# Template para o agente financeiro\n",
        "prompt_financeiro = ChatPromptTemplate.from_messages([\n",
        "    (\"system\", \"Você é um consultor financeiro experiente e inteligente. Use as ferramentas disponíveis para dar conselhos precisos sobre investimentos, mercado financeiro e cálculos financeiros.\"),\n",
        "    MessagesPlaceholder(variable_name=\"chat_history\"),\n",
        "    (\"human\", \"{input}\"),\n",
        "    MessagesPlaceholder(variable_name=\"agent_scratchpad\"),\n",
        "])\n",
        "\n",
        "# NOVO: Criar agente com sintaxe moderna\n",
        "agent_financeiro = create_openai_functions_agent(llm, tools_financeiras, prompt_financeiro)\n",
        "\n",
        "# NOVO: Executor do agente\n",
        "agent_executor_financeiro = AgentExecutor(\n",
        "    agent=agent_financeiro,\n",
        "    tools=tools_financeiras,\n",
        "    memory=ConversationBufferMemory(memory_key=\"chat_history\", return_messages=True),\n",
        "    verbose=True\n",
        ")\n",
        "\n",
        "print(\"💼 Agente financeiro criado!\")\n",
        "print(\"🎯 Consultor financeiro inteligente pronto\")"
      ]
    },
    {
      "cell_type": "markdown",
      "source": [
        "### **💼 Agente Financeiro - O Consultor Inteligente**\n",
        "\n",
        "**Características do nosso consultor:**\n",
        "- 🧠 **Inteligente**: Usa GPT-3.5-turbo para entender contextos complexos\n",
        "- �� **Bem informado**: Pode buscar informações atualizadas do mercado\n",
        "- �� **Especializado**: Conhece profundamente investimentos e finanças\n",
        "- 🧮 **Preciso**: Faz cálculos financeiros corretos\n",
        "- 📝 **Didático**: Explica conceitos complexos de forma simples\n",
        "\n",
        "**Como ele funciona:**\n",
        "1. **Recebe sua pergunta** financeira\n",
        "2. **Analisa o que você precisa** saber\n",
        "3. **Escolhe as ferramentas** mais adequadas\n",
        "4. **Executa pesquisas** se necessário\n",
        "5. **Faz cálculos** se precisar\n",
        "6. **Combina tudo** em um conselho coerente\n",
        "\n",
        "**💡 Vantagem sobre consultores humanos**:\n",
        "- ✅ Sempre disponível\n",
        "- ✅ Sem custo por consulta\n",
        "- ✅ Acesso a informações em tempo real\n",
        "- ✅ Sem viés emocional"
      ],
      "metadata": {
        "id": "L9uD5RmDhhII"
      }
    },
    {
      "cell_type": "code",
      "execution_count": null,
      "metadata": {
        "id": "3nhsjOflRCn3"
      },
      "outputs": [],
      "source": [
        "# Testando o agente financeiro\n",
        "# Vamos ver o consultor em ação!\n",
        "\n",
        "print(\"💼 TESTE: AGENTE FINANCEIRO\")\n",
        "print(\"=\" * 50)\n",
        "\n",
        "consultas_financeiras = [\n",
        "    \"O que é CDB e é um bom investimento?\",\n",
        "    \"Calcule quanto eu teria se investisse R$ 1000 por 12 meses\",\n",
        "    \"Pesquise sobre as melhores ações para investir em 2024\"\n",
        "]\n",
        "\n",
        "for i, consulta in enumerate(consultas_financeiras, 1):\n",
        "    print(f\"\\n💰 Consulta {i}: {consulta}\")\n",
        "\n",
        "    try:\n",
        "        # NOVO: Usar agent_executor_financeiro.invoke() em vez de agent_financeiro.run()\n",
        "        resposta = agent_executor_financeiro.invoke({\"input\": consulta})\n",
        "\n",
        "        # NOVO: Acessar o conteúdo da resposta\n",
        "        print(f\"💼 Consultor: {resposta['output'][:300]}...\")\n",
        "\n",
        "    except Exception as e:\n",
        "        print(f\"❌ Erro: {e}\")\n",
        "\n",
        "    print(\"-\" * 40)"
      ]
    },
    {
      "cell_type": "markdown",
      "source": [
        "### **📊 Análise das Consultas Financeiras - Consultoria Inteligente**\n",
        "\n",
        "**Consulta 1**: \"O que é CDB e é um bom investimento?\"\n",
        "- 🧠 **Análise**: Pergunta sobre conceito + avaliação\n",
        "- �� **Ferramenta**: Análise financeira especializada\n",
        "- 📊 **Resultado**: Explicação clara + recomendação personalizada\n",
        "\n",
        "**Consulta 2**: \"Calcule quanto eu teria se investisse R$ 1000 por 12 meses\"\n",
        "- 🧠 **Análise**: Cálculo financeiro específico\n",
        "- 🧮 **Ferramenta**: Cálculo de juros compostos\n",
        "- �� **Resultado**: Projeção financeira precisa\n",
        "\n",
        "**Consulta 3**: \"Pesquise sobre as melhores ações para investir em 2024\"\n",
        "- 🧠 **Análise**: Informação atualizada + recomendação\n",
        "- 🔍 **Ferramenta**: Pesquisa na internet + análise financeira\n",
        "- 🎯 **Resultado**: Informações atuais + contexto histórico\n",
        "\n",
        "**💡 O que torna isso valioso**:\n",
        "- �� **Automação**: Não precisa consultar múltiplas fontes\n",
        "- ⚡ **Velocidade**: Respostas em segundos\n",
        "- �� **Precisão**: Combina dados atuais com análise especializada\n",
        "- �� **Educação**: Aprende enquanto recebe conselhos"
      ],
      "metadata": {
        "id": "L2ga2tnEhjWD"
      }
    },
    {
      "cell_type": "markdown",
      "metadata": {
        "id": "bqGxw8PCRCn3"
      },
      "source": [
        "### **Na Prática, Meu Consagrado!** 💪\n",
        "\n",
        "**O que aprendemos sobre Agents:**\n",
        "\n",
        "1. ✅ **Agents básicos** - IA que pode usar ferramentas\n",
        "2. ✅ **Ferramentas customizadas** - Swiss Army Knife da IA\n",
        "3. ✅ **Tomada de decisão** - Agents que escolhem qual ferramenta usar\n",
        "4. ✅ **Especialização** - Agents para áreas específicas\n",
        "\n",
        "### **Comparação: Com vs Sem LangChain**\n",
        "\n",
        "**Sem LangChain**: IA só conversa, não pode fazer ações\n",
        "**Com LangChain**: IA pode pesquisar, calcular, analisar, tomar decisões\n",
        "\n",
        "<img src = 'https://www.promptingguide.ai/_next/image?url=%2F_next%2Fstatic%2Fmedia%2Fagent-framework.ad7f5098.png&w=1920&q=75' img>\n",
        "\n",
        "**🎯 Próximo módulo**: Vamos aprender sobre **Document Loaders** - como fazer a IA ler documentos!\n",
        "\n",
        "**💡 Resumo do Módulo 5**:\n",
        "- ✅ Agents básicos e avançados\n",
        "- ✅ Ferramentas customizadas\n",
        "- ✅ Tomada de decisão inteligente\n",
        "- ✅ Especialização por área\n",
        "\n",
        "**🤖 Agora você tem funcionários inteligentes que podem usar ferramentas!**"
      ]
    }
  ],
  "metadata": {
    "kernelspec": {
      "display_name": "Python 3",
      "language": "python",
      "name": "python3"
    },
    "language_info": {
      "codemirror_mode": {
        "name": "ipython",
        "version": 3
      },
      "file_extension": ".py",
      "mimetype": "text/x-python",
      "name": "python",
      "nbconvert_exporter": "python",
      "pygments_lexer": "ipython3",
      "version": "3.8.5"
    },
    "colab": {
      "name": "05_agents",
      "private_outputs": true,
      "provenance": []
    }
  },
  "nbformat": 4,
  "nbformat_minor": 0
}